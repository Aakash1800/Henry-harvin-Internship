{
  "nbformat": 4,
  "nbformat_minor": 0,
  "metadata": {
    "colab": {
      "name": "NLP for diasater tweets.ipynb",
      "provenance": []
    },
    "kernelspec": {
      "name": "python3",
      "display_name": "Python 3"
    },
    "language_info": {
      "name": "python"
    }
  },
  "cells": [
    {
      "cell_type": "markdown",
      "source": [
        "In this competition, we are predicting whether a given tweet is about a real disaster (1) or not (0).\n",
        "\n",
        "Tweets are short messages, restricted to 140 characters in length. Due to the nature of this microblogging service\n",
        "(quick and short messages), people use acronyms, make spelling mistakes, use emoticons and other characters that\n",
        "express special meanings. Following is a brief terminology associated with tweets. \n",
        "* Emoticons: These are facial expressions pictorially represented using punctuation and letters; they express the user’s mood. \n",
        "* Target: Users of Twitter use the “@” symbol to refer to other users on the microblog. Referring to other users in this manner automatically alerts them. \n",
        "* Hashtags: Users usually use hashtags to mark topics. This is primarily done to increase the visibility of their tweets.\n",
        "\n",
        "A single tweet contains a lot of information related to users, the text of the tweet, created date of the tweet, the\n",
        "location of the tweet and many more fields. This competition's dataset has the following fields:\n",
        "* id - a unique identifier for each tweet\n",
        "* text - the text of the tweet\n",
        "* location - the location the tweet was sent from (may be blank)\n",
        "* keyword - a particular keyword from the tweet (may be blank)\n",
        "* target - in train.csv only, this denotes whether a tweet is about a real disaster (1) or not (0)\n",
        "\n",
        "Tweets can also be retweeted. A retweet is a reposted or forwarded message."
      ],
      "metadata": {
        "id": "QXHdXmAPHUBM"
      }
    },
    {
      "cell_type": "code",
      "source": [
        "pip install optuna"
      ],
      "metadata": {
        "colab": {
          "base_uri": "https://localhost:8080/"
        },
        "id": "K4bhZI1ZQ0Ny",
        "outputId": "52c8c0b3-eed2-42a5-f7ad-58050e15284f"
      },
      "execution_count": null,
      "outputs": [
        {
          "output_type": "stream",
          "name": "stdout",
          "text": [
            "Looking in indexes: https://pypi.org/simple, https://us-python.pkg.dev/colab-wheels/public/simple/\n",
            "Requirement already satisfied: optuna in /usr/local/lib/python3.7/dist-packages (2.10.1)\n",
            "Requirement already satisfied: colorlog in /usr/local/lib/python3.7/dist-packages (from optuna) (6.6.0)\n",
            "Requirement already satisfied: tqdm in /usr/local/lib/python3.7/dist-packages (from optuna) (4.64.0)\n",
            "Requirement already satisfied: cmaes>=0.8.2 in /usr/local/lib/python3.7/dist-packages (from optuna) (0.8.2)\n",
            "Requirement already satisfied: cliff in /usr/local/lib/python3.7/dist-packages (from optuna) (3.10.1)\n",
            "Requirement already satisfied: numpy in /usr/local/lib/python3.7/dist-packages (from optuna) (1.21.6)\n",
            "Requirement already satisfied: alembic in /usr/local/lib/python3.7/dist-packages (from optuna) (1.8.1)\n",
            "Requirement already satisfied: packaging>=20.0 in /usr/local/lib/python3.7/dist-packages (from optuna) (21.3)\n",
            "Requirement already satisfied: PyYAML in /usr/local/lib/python3.7/dist-packages (from optuna) (3.13)\n",
            "Requirement already satisfied: sqlalchemy>=1.1.0 in /usr/local/lib/python3.7/dist-packages (from optuna) (1.4.40)\n",
            "Requirement already satisfied: scipy!=1.4.0 in /usr/local/lib/python3.7/dist-packages (from optuna) (1.7.3)\n",
            "Requirement already satisfied: pyparsing!=3.0.5,>=2.0.2 in /usr/local/lib/python3.7/dist-packages (from packaging>=20.0->optuna) (3.0.9)\n",
            "Requirement already satisfied: greenlet!=0.4.17 in /usr/local/lib/python3.7/dist-packages (from sqlalchemy>=1.1.0->optuna) (1.1.2)\n",
            "Requirement already satisfied: importlib-metadata in /usr/local/lib/python3.7/dist-packages (from sqlalchemy>=1.1.0->optuna) (4.12.0)\n",
            "Requirement already satisfied: Mako in /usr/local/lib/python3.7/dist-packages (from alembic->optuna) (1.2.1)\n",
            "Requirement already satisfied: importlib-resources in /usr/local/lib/python3.7/dist-packages (from alembic->optuna) (5.9.0)\n",
            "Requirement already satisfied: pbr!=2.1.0,>=2.0.0 in /usr/local/lib/python3.7/dist-packages (from cliff->optuna) (5.10.0)\n",
            "Requirement already satisfied: cmd2>=1.0.0 in /usr/local/lib/python3.7/dist-packages (from cliff->optuna) (2.4.2)\n",
            "Requirement already satisfied: PrettyTable>=0.7.2 in /usr/local/lib/python3.7/dist-packages (from cliff->optuna) (3.3.0)\n",
            "Requirement already satisfied: stevedore>=2.0.1 in /usr/local/lib/python3.7/dist-packages (from cliff->optuna) (3.5.0)\n",
            "Requirement already satisfied: autopage>=0.4.0 in /usr/local/lib/python3.7/dist-packages (from cliff->optuna) (0.5.1)\n",
            "Requirement already satisfied: attrs>=16.3.0 in /usr/local/lib/python3.7/dist-packages (from cmd2>=1.0.0->cliff->optuna) (22.1.0)\n",
            "Requirement already satisfied: wcwidth>=0.1.7 in /usr/local/lib/python3.7/dist-packages (from cmd2>=1.0.0->cliff->optuna) (0.2.5)\n",
            "Requirement already satisfied: pyperclip>=1.6 in /usr/local/lib/python3.7/dist-packages (from cmd2>=1.0.0->cliff->optuna) (1.8.2)\n",
            "Requirement already satisfied: typing-extensions in /usr/local/lib/python3.7/dist-packages (from cmd2>=1.0.0->cliff->optuna) (4.1.1)\n",
            "Requirement already satisfied: zipp>=0.5 in /usr/local/lib/python3.7/dist-packages (from importlib-metadata->sqlalchemy>=1.1.0->optuna) (3.8.1)\n",
            "Requirement already satisfied: MarkupSafe>=0.9.2 in /usr/local/lib/python3.7/dist-packages (from Mako->alembic->optuna) (2.0.1)\n"
          ]
        }
      ]
    },
    {
      "cell_type": "code",
      "execution_count": null,
      "metadata": {
        "id": "Pdv_4FBJG3yE"
      },
      "outputs": [],
      "source": [
        "# Import libraries\n",
        "import numpy as np\n",
        "import pandas as pd\n",
        "import matplotlib.pyplot as plt\n",
        "import seaborn as sns\n",
        "from IPython.display import HTML\n",
        "import tensorflow as tf\n",
        "from sklearn.model_selection import train_test_split, StratifiedKFold\n",
        "from sklearn.metrics import confusion_matrix, f1_score\n",
        "from tensorflow.keras.layers import TextVectorization\n",
        "from keras.preprocessing.text import Tokenizer\n",
        "from keras_preprocessing.sequence import pad_sequences\n",
        "from tensorflow.keras import layers\n",
        "import optuna\n",
        "\n",
        "# Set pandas configuration\n",
        "pd.set_option('display.max_columns', None)\n",
        "pd.set_option('display.max_colwidth', None)\n",
        "\n",
        "# Set constants\n",
        "seed = 1356\n",
        "TUNING_RNN = False\n",
        "TUNING_BRNN = True"
      ]
    },
    {
      "cell_type": "markdown",
      "source": [
        "# 1. Load & clean data"
      ],
      "metadata": {
        "id": "8kzUa-pIHpsi"
      }
    },
    {
      "cell_type": "code",
      "source": [
        "train = pd.read_csv('drive/MyDrive/nlp-getting-started/train.csv')\n",
        "test = pd.read_csv('drive/MyDrive/nlp-getting-started/test.csv')\n",
        "full = pd.concat([train,test]).reset_index()\n",
        "full.drop('index',axis=1,inplace=True)\n",
        "HTML(full.sample(n=5, random_state=42).sort_values(by='id').to_html(index=False)) #using HTML/to_html to hide the index"
      ],
      "metadata": {
        "colab": {
          "base_uri": "https://localhost:8080/",
          "height": 258
        },
        "id": "_0dOv0FjHm3W",
        "outputId": "24fe66f0-419c-4d03-8053-0918e2049499"
      },
      "execution_count": null,
      "outputs": [
        {
          "output_type": "execute_result",
          "data": {
            "text/plain": [
              "<IPython.core.display.HTML object>"
            ],
            "text/html": [
              "<table border=\"1\" class=\"dataframe\">\n",
              "  <thead>\n",
              "    <tr style=\"text-align: right;\">\n",
              "      <th>id</th>\n",
              "      <th>keyword</th>\n",
              "      <th>location</th>\n",
              "      <th>text</th>\n",
              "      <th>target</th>\n",
              "    </tr>\n",
              "  </thead>\n",
              "  <tbody>\n",
              "    <tr>\n",
              "      <td>2039</td>\n",
              "      <td>casualties</td>\n",
              "      <td>NaN</td>\n",
              "      <td>@AlcoholAndMetal + do anything to fix that. Of the few people he had every trusted in his life Charles was one of the casualties.</td>\n",
              "      <td>1.0</td>\n",
              "    </tr>\n",
              "    <tr>\n",
              "      <td>3799</td>\n",
              "      <td>detonate</td>\n",
              "      <td>Nashville, Music City, USA</td>\n",
              "      <td>@HJudeBoudreaux Start your car with it! Or use it to detonate an evil henchman!!</td>\n",
              "      <td>NaN</td>\n",
              "    </tr>\n",
              "    <tr>\n",
              "      <td>4192</td>\n",
              "      <td>drown</td>\n",
              "      <td>Austin, TX</td>\n",
              "      <td>absolute drown your Wagyu steak in heaping piles of moist Smuckers Grape Jam</td>\n",
              "      <td>NaN</td>\n",
              "    </tr>\n",
              "    <tr>\n",
              "      <td>6403</td>\n",
              "      <td>hurricane</td>\n",
              "      <td>The Epicenter, and Beyond</td>\n",
              "      <td>AD Miles 'Hurricane of Fun : The Making of Wet Hot' https://t.co/SBZwRuwuFh</td>\n",
              "      <td>0.0</td>\n",
              "    </tr>\n",
              "    <tr>\n",
              "      <td>8687</td>\n",
              "      <td>sinkhole</td>\n",
              "      <td>NaN</td>\n",
              "      <td>Watch This Giant Sinkhole Form on New York City Street http://t.co/BEnWu5IARa</td>\n",
              "      <td>NaN</td>\n",
              "    </tr>\n",
              "  </tbody>\n",
              "</table>"
            ]
          },
          "metadata": {},
          "execution_count": 43
        }
      ]
    },
    {
      "cell_type": "markdown",
      "source": [
        "Let's build a new dataframe with a column `ori_text` containing the original text, a new column `text` containing the cleaned/processed text and a few additional metadata columns: `user`,`url`, `hashtag`,`emoticon`. Then we can pick randomly 5 records from this dataframe and display them:"
      ],
      "metadata": {
        "id": "Egx2Uz_RJ-s9"
      }
    },
    {
      "cell_type": "code",
      "source": [
        "def clean_data(df):\n",
        "\n",
        "    # Copy the original text before processing it\n",
        "    df['ori_text'] = df['text']\n",
        "\n",
        "    # Add a new tweet meta-data with user + replace @xxx by <user> \n",
        "    df['user'] = df['text'].str.findall('@\\w+')\n",
        "    df['text'] = df['text'].str.replace('@\\w+', '', regex=True)\n",
        "\n",
        "    # Add a new tweet meta-data with url + remove url from the text\n",
        "    df['url'] = df['text'].str.findall('https?://t.co/\\w+')\n",
        "    df['text'] = df['text'].str.replace('https?://t.co/\\w+', '', regex=True)\n",
        "\n",
        "    # Add a new tweet meta-data with emoticons + remove emoticons from the text\n",
        "    # https://support.microsoft.com/fr-fr/office/raccourcis-clavier-d-%C3%A9motic%C3%B4ne-5dbe678c-cef7-4a63-aa62-f07c2f38b267\n",
        "    emoticons_dict = {\n",
        "        'smile': ':-?\\)',             # :) or :-) \n",
        "        'winking': ';-?\\)',           # ;) or ;-)\n",
        "        'playful': ':-?D',            # :D or :-D\n",
        "        'idiot': ':-?P',              # :P or :-P\n",
        "        'sad': ':-?\\(',               # :( or :-(\n",
        "        'surprised': ':-?O|O[_.]O',   # :O or :-O or O_O or O.O\n",
        "        'lol': '[xX]D',               # xD or XD\n",
        "        'crying': ':\\'-?\\(',          # :'( or :'-(  \n",
        "    }\n",
        "\n",
        "    for k in emoticons_dict:\n",
        "        colname = 'emoticon_' + k\n",
        "        df[colname] = df['text'].str.findall(emoticons_dict[k])\n",
        "        df['text'] = df['text'].str.replace(emoticons_dict[k], '', regex=True)\n",
        "\n",
        "    # Replace the columns emoticon_xxx with one column emoticon\n",
        "    df['emoticon']=''\n",
        "    for i in df.index:\n",
        "        for k in emoticons_dict:\n",
        "            colname = 'emoticon_' + k\n",
        "            if(len(df.loc[i][colname])>0):\n",
        "                df.loc[i,'emoticon']=k\n",
        "    \n",
        "    for k in emoticons_dict:\n",
        "        colname = 'emoticon_' + k\n",
        "        df.drop(colname,axis=1,inplace=True)\n",
        "            \n",
        "    # Add a new tweet meta-data with hashtag + remove # from the text \n",
        "    df['hashtag'] = df['text'].str.findall('#\\w+')\n",
        "    repl = lambda h: h[0][1:]\n",
        "    df['text'] = df['text'].str.replace('#\\w+', repl, regex=True)\n",
        "\n",
        "    # Force splitting words appended with slashes (once we removed the url, of course)\n",
        "    df['text'] = df['text'].str.replace('/', ' / ', regex=True)\n",
        "\n",
        "    # Replace &amp; by and\n",
        "    df['text'] = df['text'].str.replace('&amp;', ' and ', regex=True) # &amp;\n",
        "\n",
        "    # Remove &gt; and &lt;\n",
        "    df['text'] = df['text'].str.replace('&[lg]t;', ' ', regex=True) # &gt; &lt;\n",
        "\n",
        "    # Handle sequences like '\\x89ÛÏ'\n",
        "    dec = lambda t: t.encode('ascii', 'ignore').decode('utf-8')\n",
        "    df['text'] = df['text'].apply(lambda text: dec(text))\n",
        "\n",
        "    # Replace \\n by point\n",
        "    df['text'] = df['text'].str.replace('\\n', '.', regex=True) # \\n\n",
        "\n",
        "    # Replace '  ' by ' '\n",
        "    df['text'] = df['text'].str.replace('  ', ' ', regex=True) # multiple spaces\n",
        "    \n",
        "    return df.copy()"
      ],
      "metadata": {
        "id": "NnkstAlkHmxN"
      },
      "execution_count": null,
      "outputs": []
    },
    {
      "cell_type": "code",
      "source": [
        "full = clean_data(full)\n",
        "\n",
        "# Create the new train and test sets\n",
        "train = full[full['target'].isnull()==False]\n",
        "test = full[full['target'].isnull()]\n",
        "\n",
        "# Let's check the output of our data processing\n",
        "diff = full[full['ori_text']!=full['text']]\n",
        "diff.to_csv('diff.csv')\n",
        "HTML(diff.sample(n=5, random_state=63).sort_values(by='id').to_html(index=False))"
      ],
      "metadata": {
        "colab": {
          "base_uri": "https://localhost:8080/",
          "height": 623
        },
        "id": "rzAMRFuVHmtz",
        "outputId": "1946aebc-d026-4d9e-9fe6-1a2eec4c464a"
      },
      "execution_count": null,
      "outputs": [
        {
          "output_type": "execute_result",
          "data": {
            "text/plain": [
              "<IPython.core.display.HTML object>"
            ],
            "text/html": [
              "<table border=\"1\" class=\"dataframe\">\n",
              "  <thead>\n",
              "    <tr style=\"text-align: right;\">\n",
              "      <th>id</th>\n",
              "      <th>keyword</th>\n",
              "      <th>location</th>\n",
              "      <th>text</th>\n",
              "      <th>target</th>\n",
              "      <th>ori_text</th>\n",
              "      <th>user</th>\n",
              "      <th>url</th>\n",
              "      <th>emoticon</th>\n",
              "      <th>hashtag</th>\n",
              "    </tr>\n",
              "  </thead>\n",
              "  <tbody>\n",
              "    <tr>\n",
              "      <td>525</td>\n",
              "      <td>army</td>\n",
              "      <td>Bowling Green, Ky</td>\n",
              "      <td>Hope the Salvation Army at least gave you a tax receipt.</td>\n",
              "      <td>NaN</td>\n",
              "      <td>Hope the Salvation Army at least gave you a tax receipt.  https://t.co/Ir9c545rZy</td>\n",
              "      <td>[]</td>\n",
              "      <td>[https://t.co/Ir9c545rZy]</td>\n",
              "      <td></td>\n",
              "      <td>[]</td>\n",
              "    </tr>\n",
              "    <tr>\n",
              "      <td>850</td>\n",
              "      <td>bioterror</td>\n",
              "      <td>Washington, D.C., area</td>\n",
              "      <td>Latest fallout from biolab safety lapses: FedEx no longer will transport anthrax and select agent research specimens</td>\n",
              "      <td>NaN</td>\n",
              "      <td>Latest fallout from biolab safety lapses: FedEx no longer will transport anthrax &amp;amp; select agent research specimens http://t.co/4iOOyIbxyo</td>\n",
              "      <td>[]</td>\n",
              "      <td>[http://t.co/4iOOyIbxyo]</td>\n",
              "      <td></td>\n",
              "      <td>[]</td>\n",
              "    </tr>\n",
              "    <tr>\n",
              "      <td>2393</td>\n",
              "      <td>collapsed</td>\n",
              "      <td>Hong Kong</td>\n",
              "      <td>3-pronged inquiry launched into collapsed HongKong furniture retailer DSC</td>\n",
              "      <td>NaN</td>\n",
              "      <td>3-pronged inquiry launched into collapsed #HongKong furniture retailer DSC http://t.co/Tg3ukIsgEN @scmp_news http://t.co/An5LpimNfA</td>\n",
              "      <td>[@scmp_news]</td>\n",
              "      <td>[http://t.co/Tg3ukIsgEN, http://t.co/An5LpimNfA]</td>\n",
              "      <td></td>\n",
              "      <td>[#HongKong]</td>\n",
              "    </tr>\n",
              "    <tr>\n",
              "      <td>6593</td>\n",
              "      <td>inundated</td>\n",
              "      <td>Boston, Massachusetts</td>\n",
              "      <td>Body shops inundated with cars dented by hail... Good news insurance pays... Bad news : you are stuck with deductible !.wcvb</td>\n",
              "      <td>1.0</td>\n",
              "      <td>Body shops inundated with cars dented by hail... Good news insurance pays... Bad news :  you are stuck with deductible !\\n#wcvb</td>\n",
              "      <td>[]</td>\n",
              "      <td>[]</td>\n",
              "      <td></td>\n",
              "      <td>[#wcvb]</td>\n",
              "    </tr>\n",
              "    <tr>\n",
              "      <td>9643</td>\n",
              "      <td>thunderstorm</td>\n",
              "      <td>Tornado Alley, USA</td>\n",
              "      <td>Severe Thunderstorm Warning for Oklahoma County in OK until 10:30pm CDT. okwx</td>\n",
              "      <td>1.0</td>\n",
              "      <td>Severe Thunderstorm Warning for Oklahoma County in OK until 10:30pm CDT. #okwx</td>\n",
              "      <td>[]</td>\n",
              "      <td>[]</td>\n",
              "      <td></td>\n",
              "      <td>[#okwx]</td>\n",
              "    </tr>\n",
              "  </tbody>\n",
              "</table>"
            ]
          },
          "metadata": {},
          "execution_count": 45
        }
      ]
    },
    {
      "cell_type": "markdown",
      "source": [
        "# 2. EDA"
      ],
      "metadata": {
        "id": "rpHHfGdfKdjU"
      }
    },
    {
      "cell_type": "markdown",
      "source": [
        "## 2.1 Basic Insights"
      ],
      "metadata": {
        "id": "ux0JFJuzKpt_"
      }
    },
    {
      "cell_type": "markdown",
      "source": [
        "A quick analysis of this dataset shows:\n",
        "* there are 10876 tweets in the dataset.\n",
        "* the train set has 7613 records (70%) and the test set 3263 (30%).\n",
        "* the train set is fairly balanced (43% / 57%) : 3271 positive examples (disasters) vs 4342 negative examples.\n",
        "* `keyword` and `location` have missing values. \n",
        "* `location` has very likely no predictive power and can be ignored.\n",
        "* `keyword` may have some predictive power."
      ],
      "metadata": {
        "id": "FnG8yy-UKgUH"
      }
    },
    {
      "cell_type": "markdown",
      "source": [
        "## 2.2 Retweets"
      ],
      "metadata": {
        "id": "EWsYC-xOKmDb"
      }
    },
    {
      "cell_type": "markdown",
      "source": [
        "In the training set, there are 305 tweet texts that are repeated twice or more:"
      ],
      "metadata": {
        "id": "iIS4irFEKrDp"
      }
    },
    {
      "cell_type": "code",
      "source": [
        "train.index"
      ],
      "metadata": {
        "colab": {
          "base_uri": "https://localhost:8080/"
        },
        "id": "h1hhZV6Huqgd",
        "outputId": "9a85660a-af0b-4948-94c0-4706969e608c"
      },
      "execution_count": null,
      "outputs": [
        {
          "output_type": "execute_result",
          "data": {
            "text/plain": [
              "Int64Index([   0,    1,    2,    3,    4,    5,    6,    7,    8,    9,\n",
              "            ...\n",
              "            7603, 7604, 7605, 7606, 7607, 7608, 7609, 7610, 7611, 7612],\n",
              "           dtype='int64', length=7613)"
            ]
          },
          "metadata": {},
          "execution_count": 46
        }
      ]
    },
    {
      "cell_type": "code",
      "source": [
        "retweets = {}\n",
        "for i in train.index:\n",
        "    t = train.iloc[i]['text']\n",
        "    indexes = train[(train['text']==t)].index.values\n",
        "    if len(indexes)>1:\n",
        "        retweets[indexes[0]]=indexes # using indexes[0] is a simple trick to avoid duplicates\n",
        "#retweets\n",
        "retweets_viz = pd.DataFrame({'tweet id': retweets.keys(), '# repetitions': retweets.values()})\n",
        "retweets_viz['tweet id'] = retweets_viz['tweet id'].apply(lambda index: train.iloc[index]['id'])\n",
        "retweets_viz['# repetitions'] = retweets_viz['# repetitions'].apply(lambda lst: len(lst))\n",
        "#retweets_viz\n",
        "fig, ax = plt.subplots(figsize=(20, 5))\n",
        "sns.barplot(data=retweets_viz, x='tweet id', y='# repetitions', ax=ax)\n",
        "plt.xticks(rotation=90, fontsize=6)\n",
        "plt.show()"
      ],
      "metadata": {
        "colab": {
          "base_uri": "https://localhost:8080/",
          "height": 331
        },
        "id": "8CNTfgnbHmqm",
        "outputId": "3f436635-7cdf-42db-c433-130e1bf30967"
      },
      "execution_count": null,
      "outputs": [
        {
          "output_type": "display_data",
          "data": {
            "text/plain": [
              "<Figure size 1440x360 with 1 Axes>"
            ],
            "image/png": "[encoded data removed]"
          },
          "metadata": {
            "needs_background": "light"
          }
        }
      ]
    },
    {
      "cell_type": "markdown",
      "source": [
        "E.g. let's display the tweet with id=881 and its retweets. One interesting (problematic) thing to notice is that the same tweets have different targets!!"
      ],
      "metadata": {
        "id": "zAIKnhn-K5i-"
      }
    },
    {
      "cell_type": "code",
      "source": [
        "t = train[train['id']==881]['text'].item()\n",
        "HTML(train[train['text']==t].to_html(index=False))"
      ],
      "metadata": {
        "colab": {
          "base_uri": "https://localhost:8080/",
          "height": 175
        },
        "id": "7TlAC_bMHmnD",
        "outputId": "79dd13b7-7690-45be-e301-89ce2c005620"
      },
      "execution_count": null,
      "outputs": [
        {
          "output_type": "execute_result",
          "data": {
            "text/plain": [
              "<IPython.core.display.HTML object>"
            ],
            "text/html": [
              "<table border=\"1\" class=\"dataframe\">\n",
              "  <thead>\n",
              "    <tr style=\"text-align: right;\">\n",
              "      <th>id</th>\n",
              "      <th>keyword</th>\n",
              "      <th>location</th>\n",
              "      <th>text</th>\n",
              "      <th>target</th>\n",
              "      <th>ori_text</th>\n",
              "      <th>user</th>\n",
              "      <th>url</th>\n",
              "      <th>emoticon</th>\n",
              "      <th>hashtag</th>\n",
              "    </tr>\n",
              "  </thead>\n",
              "  <tbody>\n",
              "    <tr>\n",
              "      <td>881</td>\n",
              "      <td>bioterrorism</td>\n",
              "      <td>NaN</td>\n",
              "      <td>To fight bioterrorism sir.</td>\n",
              "      <td>1.0</td>\n",
              "      <td>To fight bioterrorism sir.</td>\n",
              "      <td>[]</td>\n",
              "      <td>[]</td>\n",
              "      <td></td>\n",
              "      <td>[]</td>\n",
              "    </tr>\n",
              "    <tr>\n",
              "      <td>898</td>\n",
              "      <td>bioterrorism</td>\n",
              "      <td>NaN</td>\n",
              "      <td>To fight bioterrorism sir.</td>\n",
              "      <td>0.0</td>\n",
              "      <td>To fight bioterrorism sir.</td>\n",
              "      <td>[]</td>\n",
              "      <td>[]</td>\n",
              "      <td></td>\n",
              "      <td>[]</td>\n",
              "    </tr>\n",
              "    <tr>\n",
              "      <td>907</td>\n",
              "      <td>bioterrorism</td>\n",
              "      <td>NaN</td>\n",
              "      <td>To fight bioterrorism sir.</td>\n",
              "      <td>1.0</td>\n",
              "      <td>To fight bioterrorism sir.</td>\n",
              "      <td>[]</td>\n",
              "      <td>[]</td>\n",
              "      <td></td>\n",
              "      <td>[]</td>\n",
              "    </tr>\n",
              "    <tr>\n",
              "      <td>916</td>\n",
              "      <td>bioterrorism</td>\n",
              "      <td>NaN</td>\n",
              "      <td>To fight bioterrorism sir.</td>\n",
              "      <td>0.0</td>\n",
              "      <td>To fight bioterrorism sir.</td>\n",
              "      <td>[]</td>\n",
              "      <td>[]</td>\n",
              "      <td></td>\n",
              "      <td>[]</td>\n",
              "    </tr>\n",
              "  </tbody>\n",
              "</table>"
            ]
          },
          "metadata": {},
          "execution_count": 48
        }
      ]
    },
    {
      "cell_type": "markdown",
      "source": [
        "Let's check the extent of the problem: 71 tweet texts are repeated twice or more and have inconsistent labels:"
      ],
      "metadata": {
        "id": "QHWXL1PdLDTz"
      }
    },
    {
      "cell_type": "code",
      "source": [
        "retweets_target={}\n",
        "target_0 = 0\n",
        "target_1 = 0\n",
        "for k in retweets.keys():\n",
        "    for i in range(0, len(retweets[k])):\n",
        "        target = train.iloc[retweets[k][i]]['target']\n",
        "        if target==0:\n",
        "            target_0 = target_0 + 1\n",
        "        else:\n",
        "            target_1 = target_1 + 1\n",
        "    retweets_target[k] = [target_0,target_1]\n",
        "    target_0 = 0\n",
        "    target_1 = 0\n",
        "#retweets_target\n",
        "\n",
        "retweets_target_viz = pd.DataFrame({'tweet id': retweets_target.keys(), 'target 0': retweets_target.values(), 'target 1': retweets_target.values()})\n",
        "retweets_target_viz['tweet id'] = retweets_target_viz['tweet id'].apply(lambda index: train.iloc[index]['id'])\n",
        "retweets_target_viz['target 0'] = retweets_target_viz['target 0'].apply(lambda lst: lst[0])\n",
        "retweets_target_viz['target 1'] = retweets_target_viz['target 1'].apply(lambda lst: lst[1])\n",
        "#retweets_target_viz\n",
        "\n",
        "inconsistent_labels = retweets_target_viz[(retweets_target_viz['target 0']>0) & (retweets_target_viz['target 1']>0)]\n",
        "#inconsistent_labels\n",
        "\n",
        "inconsistent_labels_viz = inconsistent_labels.melt('tweet id', var_name='target 0', value_name='target 1')\n",
        "inconsistent_labels_viz = inconsistent_labels_viz.rename({'target 0': 'target', 'target 1': '# samples'}, axis=1)\n",
        "#inconsistent_labels_viz[inconsistent_labels_viz['tweet id']==349]\n",
        "\n",
        "fig, ax = plt.subplots(figsize=(20, 5))\n",
        "ax = sns.barplot(data=inconsistent_labels_viz, x='tweet id', y='# samples', ax=ax)\n",
        "ax.set_xticklabels(ax.get_xticklabels(), rotation=90)\n",
        "plt.show()"
      ],
      "metadata": {
        "colab": {
          "base_uri": "https://localhost:8080/",
          "height": 378
        },
        "id": "HbupsOxIHme-",
        "outputId": "afdda94c-932e-42bd-db87-2d2ce36cb657"
      },
      "execution_count": null,
      "outputs": [
        {
          "output_type": "stream",
          "name": "stderr",
          "text": [
            "/usr/local/lib/python3.7/dist-packages/ipykernel_launcher.py:25: FutureWarning: This dataframe has a column name that matches the 'value_name' column name of the resulting Dataframe. In the future this will raise an error, please set the 'value_name' parameter of DataFrame.melt to a unique name.\n"
          ]
        },
        {
          "output_type": "display_data",
          "data": {
            "text/plain": [
              "<Figure size 1440x360 with 1 Axes>"
            ],
            "image/png": "[encoded data removed]"
          },
          "metadata": {
            "needs_background": "light"
          }
        }
      ]
    },
    {
      "cell_type": "markdown",
      "source": [
        "Now, let's find tweet text in train set that are also in test set:"
      ],
      "metadata": {
        "id": "94MLChboLNj0"
      }
    },
    {
      "cell_type": "code",
      "source": [
        "retweets_target_viz"
      ],
      "metadata": {
        "colab": {
          "base_uri": "https://localhost:8080/",
          "height": 424
        },
        "id": "pfuuO3Vh1eRD",
        "outputId": "58d9306e-2f22-4a42-c5e6-79cf1f41d395"
      },
      "execution_count": null,
      "outputs": [
        {
          "output_type": "execute_result",
          "data": {
            "text/plain": [
              "     tweet id  target 0  target 1\n",
              "0          59         2         0\n",
              "1         151         7         0\n",
              "2         163         2         0\n",
              "3         199         0         2\n",
              "4         205         0         2\n",
              "..        ...       ...       ...\n",
              "300     10592         0         2\n",
              "301     10620         0         2\n",
              "302     10735         0        20\n",
              "303     10747         0         3\n",
              "304     10754         0         3\n",
              "\n",
              "[305 rows x 3 columns]"
            ],
            "text/html": [
              "\n",
              "  <div id=\"df-1609d619-eee2-4fb0-bb27-74c359f66aa6\">\n",
              "    <div class=\"colab-df-container\">\n",
              "      <div>\n",
              "<style scoped>\n",
              "    .dataframe tbody tr th:only-of-type {\n",
              "        vertical-align: middle;\n",
              "    }\n",
              "\n",
              "    .dataframe tbody tr th {\n",
              "        vertical-align: top;\n",
              "    }\n",
              "\n",
              "    .dataframe thead th {\n",
              "        text-align: right;\n",
              "    }\n",
              "</style>\n",
              "<table border=\"1\" class=\"dataframe\">\n",
              "  <thead>\n",
              "    <tr style=\"text-align: right;\">\n",
              "      <th></th>\n",
              "      <th>tweet id</th>\n",
              "      <th>target 0</th>\n",
              "      <th>target 1</th>\n",
              "    </tr>\n",
              "  </thead>\n",
              "  <tbody>\n",
              "    <tr>\n",
              "      <th>0</th>\n",
              "      <td>59</td>\n",
              "      <td>2</td>\n",
              "      <td>0</td>\n",
              "    </tr>\n",
              "    <tr>\n",
              "      <th>1</th>\n",
              "      <td>151</td>\n",
              "      <td>7</td>\n",
              "      <td>0</td>\n",
              "    </tr>\n",
              "    <tr>\n",
              "      <th>2</th>\n",
              "      <td>163</td>\n",
              "      <td>2</td>\n",
              "      <td>0</td>\n",
              "    </tr>\n",
              "    <tr>\n",
              "      <th>3</th>\n",
              "      <td>199</td>\n",
              "      <td>0</td>\n",
              "      <td>2</td>\n",
              "    </tr>\n",
              "    <tr>\n",
              "      <th>4</th>\n",
              "      <td>205</td>\n",
              "      <td>0</td>\n",
              "      <td>2</td>\n",
              "    </tr>\n",
              "    <tr>\n",
              "      <th>...</th>\n",
              "      <td>...</td>\n",
              "      <td>...</td>\n",
              "      <td>...</td>\n",
              "    </tr>\n",
              "    <tr>\n",
              "      <th>300</th>\n",
              "      <td>10592</td>\n",
              "      <td>0</td>\n",
              "      <td>2</td>\n",
              "    </tr>\n",
              "    <tr>\n",
              "      <th>301</th>\n",
              "      <td>10620</td>\n",
              "      <td>0</td>\n",
              "      <td>2</td>\n",
              "    </tr>\n",
              "    <tr>\n",
              "      <th>302</th>\n",
              "      <td>10735</td>\n",
              "      <td>0</td>\n",
              "      <td>20</td>\n",
              "    </tr>\n",
              "    <tr>\n",
              "      <th>303</th>\n",
              "      <td>10747</td>\n",
              "      <td>0</td>\n",
              "      <td>3</td>\n",
              "    </tr>\n",
              "    <tr>\n",
              "      <th>304</th>\n",
              "      <td>10754</td>\n",
              "      <td>0</td>\n",
              "      <td>3</td>\n",
              "    </tr>\n",
              "  </tbody>\n",
              "</table>\n",
              "<p>305 rows × 3 columns</p>\n",
              "</div>\n",
              "      <button class=\"colab-df-convert\" onclick=\"convertToInteractive('df-1609d619-eee2-4fb0-bb27-74c359f66aa6')\"\n",
              "              title=\"Convert this dataframe to an interactive table.\"\n",
              "              style=\"display:none;\">\n",
              "        \n",
              "  <svg xmlns=\"http://www.w3.org/2000/svg\" height=\"24px\"viewBox=\"0 0 24 24\"\n",
              "       width=\"24px\">\n",
              "    <path d=\"M0 0h24v24H0V0z\" fill=\"none\"/>\n",
              "    <path d=\"M18.56 5.44l.94 2.06.94-2.06 2.06-.94-2.06-.94-.94-2.06-.94 2.06-2.06.94zm-11 1L8.5 8.5l.94-2.06 2.06-.94-2.06-.94L8.5 2.5l-.94 2.06-2.06.94zm10 10l.94 2.06.94-2.06 2.06-.94-2.06-.94-.94-2.06-.94 2.06-2.06.94z\"/><path d=\"M17.41 7.96l-1.37-1.37c-.4-.4-.92-.59-1.43-.59-.52 0-1.04.2-1.43.59L10.3 9.45l-7.72 7.72c-.78.78-.78 2.05 0 2.83L4 21.41c.39.39.9.59 1.41.59.51 0 1.02-.2 1.41-.59l7.78-7.78 2.81-2.81c.8-.78.8-2.07 0-2.86zM5.41 20L4 18.59l7.72-7.72 1.47 1.35L5.41 20z\"/>\n",
              "  </svg>\n",
              "      </button>\n",
              "      \n",
              "  <style>\n",
              "    .colab-df-container {\n",
              "      display:flex;\n",
              "      flex-wrap:wrap;\n",
              "      gap: 12px;\n",
              "    }\n",
              "\n",
              "    .colab-df-convert {\n",
              "      background-color: #E8F0FE;\n",
              "      border: none;\n",
              "      border-radius: 50%;\n",
              "      cursor: pointer;\n",
              "      display: none;\n",
              "      fill: #1967D2;\n",
              "      height: 32px;\n",
              "      padding: 0 0 0 0;\n",
              "      width: 32px;\n",
              "    }\n",
              "\n",
              "    .colab-df-convert:hover {\n",
              "      background-color: #E2EBFA;\n",
              "      box-shadow: 0px 1px 2px rgba(60, 64, 67, 0.3), 0px 1px 3px 1px rgba(60, 64, 67, 0.15);\n",
              "      fill: #174EA6;\n",
              "    }\n",
              "\n",
              "    [theme=dark] .colab-df-convert {\n",
              "      background-color: #3B4455;\n",
              "      fill: #D2E3FC;\n",
              "    }\n",
              "\n",
              "    [theme=dark] .colab-df-convert:hover {\n",
              "      background-color: #434B5C;\n",
              "      box-shadow: 0px 1px 3px 1px rgba(0, 0, 0, 0.15);\n",
              "      filter: drop-shadow(0px 1px 2px rgba(0, 0, 0, 0.3));\n",
              "      fill: #FFFFFF;\n",
              "    }\n",
              "  </style>\n",
              "\n",
              "      <script>\n",
              "        const buttonEl =\n",
              "          document.querySelector('#df-1609d619-eee2-4fb0-bb27-74c359f66aa6 button.colab-df-convert');\n",
              "        buttonEl.style.display =\n",
              "          google.colab.kernel.accessAllowed ? 'block' : 'none';\n",
              "\n",
              "        async function convertToInteractive(key) {\n",
              "          const element = document.querySelector('#df-1609d619-eee2-4fb0-bb27-74c359f66aa6');\n",
              "          const dataTable =\n",
              "            await google.colab.kernel.invokeFunction('convertToInteractive',\n",
              "                                                     [key], {});\n",
              "          if (!dataTable) return;\n",
              "\n",
              "          const docLinkHtml = 'Like what you see? Visit the ' +\n",
              "            '<a target=\"_blank\" href=https://colab.research.google.com/notebooks/data_table.ipynb>data table notebook</a>'\n",
              "            + ' to learn more about interactive tables.';\n",
              "          element.innerHTML = '';\n",
              "          dataTable['output_type'] = 'display_data';\n",
              "          await google.colab.output.renderOutput(dataTable, element);\n",
              "          const docLink = document.createElement('div');\n",
              "          docLink.innerHTML = docLinkHtml;\n",
              "          element.appendChild(docLink);\n",
              "        }\n",
              "      </script>\n",
              "    </div>\n",
              "  </div>\n",
              "  "
            ]
          },
          "metadata": {},
          "execution_count": 50
        }
      ]
    },
    {
      "cell_type": "code",
      "source": [
        "inconsistent_labels_viz"
      ],
      "metadata": {
        "colab": {
          "base_uri": "https://localhost:8080/",
          "height": 424
        },
        "id": "XdPG9Hm41ux3",
        "outputId": "9d2c4e5f-67c7-4620-c54f-fb02ff939460"
      },
      "execution_count": null,
      "outputs": [
        {
          "output_type": "execute_result",
          "data": {
            "text/plain": [
              "     tweet id    target  # samples\n",
              "0         349  target 0          5\n",
              "1         353  target 0          1\n",
              "2         365  target 0          1\n",
              "3         796  target 0          1\n",
              "4         834  target 0          1\n",
              "..        ...       ...        ...\n",
              "137      9499  target 1          1\n",
              "138      9763  target 1          2\n",
              "139      9779  target 1          1\n",
              "140     10110  target 1          1\n",
              "141     10576  target 1          1\n",
              "\n",
              "[142 rows x 3 columns]"
            ],
            "text/html": [
              "\n",
              "  <div id=\"df-c6abd751-d4ba-464d-b418-e04e113bf6b8\">\n",
              "    <div class=\"colab-df-container\">\n",
              "      <div>\n",
              "<style scoped>\n",
              "    .dataframe tbody tr th:only-of-type {\n",
              "        vertical-align: middle;\n",
              "    }\n",
              "\n",
              "    .dataframe tbody tr th {\n",
              "        vertical-align: top;\n",
              "    }\n",
              "\n",
              "    .dataframe thead th {\n",
              "        text-align: right;\n",
              "    }\n",
              "</style>\n",
              "<table border=\"1\" class=\"dataframe\">\n",
              "  <thead>\n",
              "    <tr style=\"text-align: right;\">\n",
              "      <th></th>\n",
              "      <th>tweet id</th>\n",
              "      <th>target</th>\n",
              "      <th># samples</th>\n",
              "    </tr>\n",
              "  </thead>\n",
              "  <tbody>\n",
              "    <tr>\n",
              "      <th>0</th>\n",
              "      <td>349</td>\n",
              "      <td>target 0</td>\n",
              "      <td>5</td>\n",
              "    </tr>\n",
              "    <tr>\n",
              "      <th>1</th>\n",
              "      <td>353</td>\n",
              "      <td>target 0</td>\n",
              "      <td>1</td>\n",
              "    </tr>\n",
              "    <tr>\n",
              "      <th>2</th>\n",
              "      <td>365</td>\n",
              "      <td>target 0</td>\n",
              "      <td>1</td>\n",
              "    </tr>\n",
              "    <tr>\n",
              "      <th>3</th>\n",
              "      <td>796</td>\n",
              "      <td>target 0</td>\n",
              "      <td>1</td>\n",
              "    </tr>\n",
              "    <tr>\n",
              "      <th>4</th>\n",
              "      <td>834</td>\n",
              "      <td>target 0</td>\n",
              "      <td>1</td>\n",
              "    </tr>\n",
              "    <tr>\n",
              "      <th>...</th>\n",
              "      <td>...</td>\n",
              "      <td>...</td>\n",
              "      <td>...</td>\n",
              "    </tr>\n",
              "    <tr>\n",
              "      <th>137</th>\n",
              "      <td>9499</td>\n",
              "      <td>target 1</td>\n",
              "      <td>1</td>\n",
              "    </tr>\n",
              "    <tr>\n",
              "      <th>138</th>\n",
              "      <td>9763</td>\n",
              "      <td>target 1</td>\n",
              "      <td>2</td>\n",
              "    </tr>\n",
              "    <tr>\n",
              "      <th>139</th>\n",
              "      <td>9779</td>\n",
              "      <td>target 1</td>\n",
              "      <td>1</td>\n",
              "    </tr>\n",
              "    <tr>\n",
              "      <th>140</th>\n",
              "      <td>10110</td>\n",
              "      <td>target 1</td>\n",
              "      <td>1</td>\n",
              "    </tr>\n",
              "    <tr>\n",
              "      <th>141</th>\n",
              "      <td>10576</td>\n",
              "      <td>target 1</td>\n",
              "      <td>1</td>\n",
              "    </tr>\n",
              "  </tbody>\n",
              "</table>\n",
              "<p>142 rows × 3 columns</p>\n",
              "</div>\n",
              "      <button class=\"colab-df-convert\" onclick=\"convertToInteractive('df-c6abd751-d4ba-464d-b418-e04e113bf6b8')\"\n",
              "              title=\"Convert this dataframe to an interactive table.\"\n",
              "              style=\"display:none;\">\n",
              "        \n",
              "  <svg xmlns=\"http://www.w3.org/2000/svg\" height=\"24px\"viewBox=\"0 0 24 24\"\n",
              "       width=\"24px\">\n",
              "    <path d=\"M0 0h24v24H0V0z\" fill=\"none\"/>\n",
              "    <path d=\"M18.56 5.44l.94 2.06.94-2.06 2.06-.94-2.06-.94-.94-2.06-.94 2.06-2.06.94zm-11 1L8.5 8.5l.94-2.06 2.06-.94-2.06-.94L8.5 2.5l-.94 2.06-2.06.94zm10 10l.94 2.06.94-2.06 2.06-.94-2.06-.94-.94-2.06-.94 2.06-2.06.94z\"/><path d=\"M17.41 7.96l-1.37-1.37c-.4-.4-.92-.59-1.43-.59-.52 0-1.04.2-1.43.59L10.3 9.45l-7.72 7.72c-.78.78-.78 2.05 0 2.83L4 21.41c.39.39.9.59 1.41.59.51 0 1.02-.2 1.41-.59l7.78-7.78 2.81-2.81c.8-.78.8-2.07 0-2.86zM5.41 20L4 18.59l7.72-7.72 1.47 1.35L5.41 20z\"/>\n",
              "  </svg>\n",
              "      </button>\n",
              "      \n",
              "  <style>\n",
              "    .colab-df-container {\n",
              "      display:flex;\n",
              "      flex-wrap:wrap;\n",
              "      gap: 12px;\n",
              "    }\n",
              "\n",
              "    .colab-df-convert {\n",
              "      background-color: #E8F0FE;\n",
              "      border: none;\n",
              "      border-radius: 50%;\n",
              "      cursor: pointer;\n",
              "      display: none;\n",
              "      fill: #1967D2;\n",
              "      height: 32px;\n",
              "      padding: 0 0 0 0;\n",
              "      width: 32px;\n",
              "    }\n",
              "\n",
              "    .colab-df-convert:hover {\n",
              "      background-color: #E2EBFA;\n",
              "      box-shadow: 0px 1px 2px rgba(60, 64, 67, 0.3), 0px 1px 3px 1px rgba(60, 64, 67, 0.15);\n",
              "      fill: #174EA6;\n",
              "    }\n",
              "\n",
              "    [theme=dark] .colab-df-convert {\n",
              "      background-color: #3B4455;\n",
              "      fill: #D2E3FC;\n",
              "    }\n",
              "\n",
              "    [theme=dark] .colab-df-convert:hover {\n",
              "      background-color: #434B5C;\n",
              "      box-shadow: 0px 1px 3px 1px rgba(0, 0, 0, 0.15);\n",
              "      filter: drop-shadow(0px 1px 2px rgba(0, 0, 0, 0.3));\n",
              "      fill: #FFFFFF;\n",
              "    }\n",
              "  </style>\n",
              "\n",
              "      <script>\n",
              "        const buttonEl =\n",
              "          document.querySelector('#df-c6abd751-d4ba-464d-b418-e04e113bf6b8 button.colab-df-convert');\n",
              "        buttonEl.style.display =\n",
              "          google.colab.kernel.accessAllowed ? 'block' : 'none';\n",
              "\n",
              "        async function convertToInteractive(key) {\n",
              "          const element = document.querySelector('#df-c6abd751-d4ba-464d-b418-e04e113bf6b8');\n",
              "          const dataTable =\n",
              "            await google.colab.kernel.invokeFunction('convertToInteractive',\n",
              "                                                     [key], {});\n",
              "          if (!dataTable) return;\n",
              "\n",
              "          const docLinkHtml = 'Like what you see? Visit the ' +\n",
              "            '<a target=\"_blank\" href=https://colab.research.google.com/notebooks/data_table.ipynb>data table notebook</a>'\n",
              "            + ' to learn more about interactive tables.';\n",
              "          element.innerHTML = '';\n",
              "          dataTable['output_type'] = 'display_data';\n",
              "          await google.colab.output.renderOutput(dataTable, element);\n",
              "          const docLink = document.createElement('div');\n",
              "          docLink.innerHTML = docLinkHtml;\n",
              "          element.appendChild(docLink);\n",
              "        }\n",
              "      </script>\n",
              "    </div>\n",
              "  </div>\n",
              "  "
            ]
          },
          "metadata": {},
          "execution_count": 51
        }
      ]
    },
    {
      "cell_type": "code",
      "source": [
        "retweets_full = {}\n",
        "for i in full.index:\n",
        "    t = full.iloc[i]['text']\n",
        "    indexes = full[(full['text']==t)].index.values\n",
        "    if len(indexes)>1:\n",
        "        retweets_full[indexes[0]]=indexes # using indexes[0] is a simple trick to avoid duplicates\n",
        "#retweets_full\n",
        "\n",
        "retweets_full = pd.DataFrame({'tweet id in training set': retweets_full.values(), 'tweet id in test set': retweets_full.values()})\n",
        "train_last_index = train.shape[0]\n",
        "retweets_full['tweet id in training set'] = retweets_full['tweet id in training set'].apply(lambda indexes: [i for i in indexes if i<train_last_index+1])\n",
        "retweets_full['tweet id in test set'] = retweets_full['tweet id in test set'].apply(lambda indexes: [i for i in indexes if i>train_last_index])\n",
        "\n",
        "#substitution of indexes by id\n",
        "def replace_by_id(indexes):\n",
        "    ids=[]\n",
        "    for i in range(0,len(indexes)):\n",
        "        index = indexes[i]\n",
        "        ids.append(full.iloc[index]['id'])\n",
        "    return ids\n",
        "\n",
        "retweets_full['tweet id in training set'] = retweets_full['tweet id in training set'].apply(lambda indexes: replace_by_id(indexes))\n",
        "retweets_full['tweet id in test set'] = retweets_full['tweet id in test set'].apply(lambda indexes: replace_by_id(indexes))\n",
        "#retweets_full\n",
        "\n",
        "#keep only the tweet text in train set that are also in test set\n",
        "indexes_to_drop=[]\n",
        "for i in retweets_full.index:\n",
        "    train_ids = retweets_full.iloc[i]['tweet id in training set']\n",
        "    test_ids = retweets_full.iloc[i]['tweet id in test set']\n",
        "    if (len(train_ids)==0 or len(test_ids)==0):\n",
        "        indexes_to_drop.append(i)\n",
        "#indexes_to_drop\n",
        "retweets_full.drop(index=indexes_to_drop,inplace=True)\n",
        "retweets_full.reset_index(inplace=True)\n",
        "retweets_full.drop('index',axis=1,inplace=True)\n",
        "retweets_full"
      ],
      "metadata": {
        "colab": {
          "base_uri": "https://localhost:8080/",
          "height": 424
        },
        "id": "fb55xOvJLHJB",
        "outputId": "eb7be388-8ae2-4de4-9912-1e2562b9587a"
      },
      "execution_count": null,
      "outputs": [
        {
          "output_type": "execute_result",
          "data": {
            "text/plain": [
              "                tweet id in training set tweet id in test set\n",
              "0                               [59, 68]                 [58]\n",
              "1    [151, 156, 164, 165, 168, 171, 172]      [152, 155, 177]\n",
              "2                                  [153]                [181]\n",
              "3                             [163, 190]           [179, 192]\n",
              "4                             [199, 229]           [234, 239]\n",
              "..                                   ...                  ...\n",
              "268                [10747, 10765, 10770]              [10757]\n",
              "269                [10754, 10771, 10776]       [10738, 10758]\n",
              "270                              [10774]              [10742]\n",
              "271                              [10851]               [9628]\n",
              "272                              [10859]               [7500]\n",
              "\n",
              "[273 rows x 2 columns]"
            ],
            "text/html": [
              "\n",
              "  <div id=\"df-4444374c-f178-4774-bece-3759de9d6973\">\n",
              "    <div class=\"colab-df-container\">\n",
              "      <div>\n",
              "<style scoped>\n",
              "    .dataframe tbody tr th:only-of-type {\n",
              "        vertical-align: middle;\n",
              "    }\n",
              "\n",
              "    .dataframe tbody tr th {\n",
              "        vertical-align: top;\n",
              "    }\n",
              "\n",
              "    .dataframe thead th {\n",
              "        text-align: right;\n",
              "    }\n",
              "</style>\n",
              "<table border=\"1\" class=\"dataframe\">\n",
              "  <thead>\n",
              "    <tr style=\"text-align: right;\">\n",
              "      <th></th>\n",
              "      <th>tweet id in training set</th>\n",
              "      <th>tweet id in test set</th>\n",
              "    </tr>\n",
              "  </thead>\n",
              "  <tbody>\n",
              "    <tr>\n",
              "      <th>0</th>\n",
              "      <td>[59, 68]</td>\n",
              "      <td>[58]</td>\n",
              "    </tr>\n",
              "    <tr>\n",
              "      <th>1</th>\n",
              "      <td>[151, 156, 164, 165, 168, 171, 172]</td>\n",
              "      <td>[152, 155, 177]</td>\n",
              "    </tr>\n",
              "    <tr>\n",
              "      <th>2</th>\n",
              "      <td>[153]</td>\n",
              "      <td>[181]</td>\n",
              "    </tr>\n",
              "    <tr>\n",
              "      <th>3</th>\n",
              "      <td>[163, 190]</td>\n",
              "      <td>[179, 192]</td>\n",
              "    </tr>\n",
              "    <tr>\n",
              "      <th>4</th>\n",
              "      <td>[199, 229]</td>\n",
              "      <td>[234, 239]</td>\n",
              "    </tr>\n",
              "    <tr>\n",
              "      <th>...</th>\n",
              "      <td>...</td>\n",
              "      <td>...</td>\n",
              "    </tr>\n",
              "    <tr>\n",
              "      <th>268</th>\n",
              "      <td>[10747, 10765, 10770]</td>\n",
              "      <td>[10757]</td>\n",
              "    </tr>\n",
              "    <tr>\n",
              "      <th>269</th>\n",
              "      <td>[10754, 10771, 10776]</td>\n",
              "      <td>[10738, 10758]</td>\n",
              "    </tr>\n",
              "    <tr>\n",
              "      <th>270</th>\n",
              "      <td>[10774]</td>\n",
              "      <td>[10742]</td>\n",
              "    </tr>\n",
              "    <tr>\n",
              "      <th>271</th>\n",
              "      <td>[10851]</td>\n",
              "      <td>[9628]</td>\n",
              "    </tr>\n",
              "    <tr>\n",
              "      <th>272</th>\n",
              "      <td>[10859]</td>\n",
              "      <td>[7500]</td>\n",
              "    </tr>\n",
              "  </tbody>\n",
              "</table>\n",
              "<p>273 rows × 2 columns</p>\n",
              "</div>\n",
              "      <button class=\"colab-df-convert\" onclick=\"convertToInteractive('df-4444374c-f178-4774-bece-3759de9d6973')\"\n",
              "              title=\"Convert this dataframe to an interactive table.\"\n",
              "              style=\"display:none;\">\n",
              "        \n",
              "  <svg xmlns=\"http://www.w3.org/2000/svg\" height=\"24px\"viewBox=\"0 0 24 24\"\n",
              "       width=\"24px\">\n",
              "    <path d=\"M0 0h24v24H0V0z\" fill=\"none\"/>\n",
              "    <path d=\"M18.56 5.44l.94 2.06.94-2.06 2.06-.94-2.06-.94-.94-2.06-.94 2.06-2.06.94zm-11 1L8.5 8.5l.94-2.06 2.06-.94-2.06-.94L8.5 2.5l-.94 2.06-2.06.94zm10 10l.94 2.06.94-2.06 2.06-.94-2.06-.94-.94-2.06-.94 2.06-2.06.94z\"/><path d=\"M17.41 7.96l-1.37-1.37c-.4-.4-.92-.59-1.43-.59-.52 0-1.04.2-1.43.59L10.3 9.45l-7.72 7.72c-.78.78-.78 2.05 0 2.83L4 21.41c.39.39.9.59 1.41.59.51 0 1.02-.2 1.41-.59l7.78-7.78 2.81-2.81c.8-.78.8-2.07 0-2.86zM5.41 20L4 18.59l7.72-7.72 1.47 1.35L5.41 20z\"/>\n",
              "  </svg>\n",
              "      </button>\n",
              "      \n",
              "  <style>\n",
              "    .colab-df-container {\n",
              "      display:flex;\n",
              "      flex-wrap:wrap;\n",
              "      gap: 12px;\n",
              "    }\n",
              "\n",
              "    .colab-df-convert {\n",
              "      background-color: #E8F0FE;\n",
              "      border: none;\n",
              "      border-radius: 50%;\n",
              "      cursor: pointer;\n",
              "      display: none;\n",
              "      fill: #1967D2;\n",
              "      height: 32px;\n",
              "      padding: 0 0 0 0;\n",
              "      width: 32px;\n",
              "    }\n",
              "\n",
              "    .colab-df-convert:hover {\n",
              "      background-color: #E2EBFA;\n",
              "      box-shadow: 0px 1px 2px rgba(60, 64, 67, 0.3), 0px 1px 3px 1px rgba(60, 64, 67, 0.15);\n",
              "      fill: #174EA6;\n",
              "    }\n",
              "\n",
              "    [theme=dark] .colab-df-convert {\n",
              "      background-color: #3B4455;\n",
              "      fill: #D2E3FC;\n",
              "    }\n",
              "\n",
              "    [theme=dark] .colab-df-convert:hover {\n",
              "      background-color: #434B5C;\n",
              "      box-shadow: 0px 1px 3px 1px rgba(0, 0, 0, 0.15);\n",
              "      filter: drop-shadow(0px 1px 2px rgba(0, 0, 0, 0.3));\n",
              "      fill: #FFFFFF;\n",
              "    }\n",
              "  </style>\n",
              "\n",
              "      <script>\n",
              "        const buttonEl =\n",
              "          document.querySelector('#df-4444374c-f178-4774-bece-3759de9d6973 button.colab-df-convert');\n",
              "        buttonEl.style.display =\n",
              "          google.colab.kernel.accessAllowed ? 'block' : 'none';\n",
              "\n",
              "        async function convertToInteractive(key) {\n",
              "          const element = document.querySelector('#df-4444374c-f178-4774-bece-3759de9d6973');\n",
              "          const dataTable =\n",
              "            await google.colab.kernel.invokeFunction('convertToInteractive',\n",
              "                                                     [key], {});\n",
              "          if (!dataTable) return;\n",
              "\n",
              "          const docLinkHtml = 'Like what you see? Visit the ' +\n",
              "            '<a target=\"_blank\" href=https://colab.research.google.com/notebooks/data_table.ipynb>data table notebook</a>'\n",
              "            + ' to learn more about interactive tables.';\n",
              "          element.innerHTML = '';\n",
              "          dataTable['output_type'] = 'display_data';\n",
              "          await google.colab.output.renderOutput(dataTable, element);\n",
              "          const docLink = document.createElement('div');\n",
              "          docLink.innerHTML = docLinkHtml;\n",
              "          element.appendChild(docLink);\n",
              "        }\n",
              "      </script>\n",
              "    </div>\n",
              "  </div>\n",
              "  "
            ]
          },
          "metadata": {},
          "execution_count": 52
        }
      ]
    },
    {
      "cell_type": "code",
      "source": [
        "retweets_full"
      ],
      "metadata": {
        "colab": {
          "base_uri": "https://localhost:8080/",
          "height": 424
        },
        "id": "l8Sfo8Ab5tYU",
        "outputId": "101d6fd2-6596-4929-aef6-0e28b1fc3196"
      },
      "execution_count": null,
      "outputs": [
        {
          "output_type": "execute_result",
          "data": {
            "text/plain": [
              "                tweet id in training set tweet id in test set\n",
              "0                               [59, 68]                 [58]\n",
              "1    [151, 156, 164, 165, 168, 171, 172]      [152, 155, 177]\n",
              "2                                  [153]                [181]\n",
              "3                             [163, 190]           [179, 192]\n",
              "4                             [199, 229]           [234, 239]\n",
              "..                                   ...                  ...\n",
              "268                [10747, 10765, 10770]              [10757]\n",
              "269                [10754, 10771, 10776]       [10738, 10758]\n",
              "270                              [10774]              [10742]\n",
              "271                              [10851]               [9628]\n",
              "272                              [10859]               [7500]\n",
              "\n",
              "[273 rows x 2 columns]"
            ],
            "text/html": [
              "\n",
              "  <div id=\"df-3c518715-687f-4a1b-bc36-d28fa056edf9\">\n",
              "    <div class=\"colab-df-container\">\n",
              "      <div>\n",
              "<style scoped>\n",
              "    .dataframe tbody tr th:only-of-type {\n",
              "        vertical-align: middle;\n",
              "    }\n",
              "\n",
              "    .dataframe tbody tr th {\n",
              "        vertical-align: top;\n",
              "    }\n",
              "\n",
              "    .dataframe thead th {\n",
              "        text-align: right;\n",
              "    }\n",
              "</style>\n",
              "<table border=\"1\" class=\"dataframe\">\n",
              "  <thead>\n",
              "    <tr style=\"text-align: right;\">\n",
              "      <th></th>\n",
              "      <th>tweet id in training set</th>\n",
              "      <th>tweet id in test set</th>\n",
              "    </tr>\n",
              "  </thead>\n",
              "  <tbody>\n",
              "    <tr>\n",
              "      <th>0</th>\n",
              "      <td>[59, 68]</td>\n",
              "      <td>[58]</td>\n",
              "    </tr>\n",
              "    <tr>\n",
              "      <th>1</th>\n",
              "      <td>[151, 156, 164, 165, 168, 171, 172]</td>\n",
              "      <td>[152, 155, 177]</td>\n",
              "    </tr>\n",
              "    <tr>\n",
              "      <th>2</th>\n",
              "      <td>[153]</td>\n",
              "      <td>[181]</td>\n",
              "    </tr>\n",
              "    <tr>\n",
              "      <th>3</th>\n",
              "      <td>[163, 190]</td>\n",
              "      <td>[179, 192]</td>\n",
              "    </tr>\n",
              "    <tr>\n",
              "      <th>4</th>\n",
              "      <td>[199, 229]</td>\n",
              "      <td>[234, 239]</td>\n",
              "    </tr>\n",
              "    <tr>\n",
              "      <th>...</th>\n",
              "      <td>...</td>\n",
              "      <td>...</td>\n",
              "    </tr>\n",
              "    <tr>\n",
              "      <th>268</th>\n",
              "      <td>[10747, 10765, 10770]</td>\n",
              "      <td>[10757]</td>\n",
              "    </tr>\n",
              "    <tr>\n",
              "      <th>269</th>\n",
              "      <td>[10754, 10771, 10776]</td>\n",
              "      <td>[10738, 10758]</td>\n",
              "    </tr>\n",
              "    <tr>\n",
              "      <th>270</th>\n",
              "      <td>[10774]</td>\n",
              "      <td>[10742]</td>\n",
              "    </tr>\n",
              "    <tr>\n",
              "      <th>271</th>\n",
              "      <td>[10851]</td>\n",
              "      <td>[9628]</td>\n",
              "    </tr>\n",
              "    <tr>\n",
              "      <th>272</th>\n",
              "      <td>[10859]</td>\n",
              "      <td>[7500]</td>\n",
              "    </tr>\n",
              "  </tbody>\n",
              "</table>\n",
              "<p>273 rows × 2 columns</p>\n",
              "</div>\n",
              "      <button class=\"colab-df-convert\" onclick=\"convertToInteractive('df-3c518715-687f-4a1b-bc36-d28fa056edf9')\"\n",
              "              title=\"Convert this dataframe to an interactive table.\"\n",
              "              style=\"display:none;\">\n",
              "        \n",
              "  <svg xmlns=\"http://www.w3.org/2000/svg\" height=\"24px\"viewBox=\"0 0 24 24\"\n",
              "       width=\"24px\">\n",
              "    <path d=\"M0 0h24v24H0V0z\" fill=\"none\"/>\n",
              "    <path d=\"M18.56 5.44l.94 2.06.94-2.06 2.06-.94-2.06-.94-.94-2.06-.94 2.06-2.06.94zm-11 1L8.5 8.5l.94-2.06 2.06-.94-2.06-.94L8.5 2.5l-.94 2.06-2.06.94zm10 10l.94 2.06.94-2.06 2.06-.94-2.06-.94-.94-2.06-.94 2.06-2.06.94z\"/><path d=\"M17.41 7.96l-1.37-1.37c-.4-.4-.92-.59-1.43-.59-.52 0-1.04.2-1.43.59L10.3 9.45l-7.72 7.72c-.78.78-.78 2.05 0 2.83L4 21.41c.39.39.9.59 1.41.59.51 0 1.02-.2 1.41-.59l7.78-7.78 2.81-2.81c.8-.78.8-2.07 0-2.86zM5.41 20L4 18.59l7.72-7.72 1.47 1.35L5.41 20z\"/>\n",
              "  </svg>\n",
              "      </button>\n",
              "      \n",
              "  <style>\n",
              "    .colab-df-container {\n",
              "      display:flex;\n",
              "      flex-wrap:wrap;\n",
              "      gap: 12px;\n",
              "    }\n",
              "\n",
              "    .colab-df-convert {\n",
              "      background-color: #E8F0FE;\n",
              "      border: none;\n",
              "      border-radius: 50%;\n",
              "      cursor: pointer;\n",
              "      display: none;\n",
              "      fill: #1967D2;\n",
              "      height: 32px;\n",
              "      padding: 0 0 0 0;\n",
              "      width: 32px;\n",
              "    }\n",
              "\n",
              "    .colab-df-convert:hover {\n",
              "      background-color: #E2EBFA;\n",
              "      box-shadow: 0px 1px 2px rgba(60, 64, 67, 0.3), 0px 1px 3px 1px rgba(60, 64, 67, 0.15);\n",
              "      fill: #174EA6;\n",
              "    }\n",
              "\n",
              "    [theme=dark] .colab-df-convert {\n",
              "      background-color: #3B4455;\n",
              "      fill: #D2E3FC;\n",
              "    }\n",
              "\n",
              "    [theme=dark] .colab-df-convert:hover {\n",
              "      background-color: #434B5C;\n",
              "      box-shadow: 0px 1px 3px 1px rgba(0, 0, 0, 0.15);\n",
              "      filter: drop-shadow(0px 1px 2px rgba(0, 0, 0, 0.3));\n",
              "      fill: #FFFFFF;\n",
              "    }\n",
              "  </style>\n",
              "\n",
              "      <script>\n",
              "        const buttonEl =\n",
              "          document.querySelector('#df-3c518715-687f-4a1b-bc36-d28fa056edf9 button.colab-df-convert');\n",
              "        buttonEl.style.display =\n",
              "          google.colab.kernel.accessAllowed ? 'block' : 'none';\n",
              "\n",
              "        async function convertToInteractive(key) {\n",
              "          const element = document.querySelector('#df-3c518715-687f-4a1b-bc36-d28fa056edf9');\n",
              "          const dataTable =\n",
              "            await google.colab.kernel.invokeFunction('convertToInteractive',\n",
              "                                                     [key], {});\n",
              "          if (!dataTable) return;\n",
              "\n",
              "          const docLinkHtml = 'Like what you see? Visit the ' +\n",
              "            '<a target=\"_blank\" href=https://colab.research.google.com/notebooks/data_table.ipynb>data table notebook</a>'\n",
              "            + ' to learn more about interactive tables.';\n",
              "          element.innerHTML = '';\n",
              "          dataTable['output_type'] = 'display_data';\n",
              "          await google.colab.output.renderOutput(dataTable, element);\n",
              "          const docLink = document.createElement('div');\n",
              "          docLink.innerHTML = docLinkHtml;\n",
              "          element.appendChild(docLink);\n",
              "        }\n",
              "      </script>\n",
              "    </div>\n",
              "  </div>\n",
              "  "
            ]
          },
          "metadata": {},
          "execution_count": 53
        }
      ]
    },
    {
      "cell_type": "markdown",
      "source": [
        "## 2.3 Emoticons"
      ],
      "metadata": {
        "id": "jzs4ca2OLbBn"
      }
    },
    {
      "cell_type": "markdown",
      "source": [
        "Let's display the count of tweets per emoticon and per target:"
      ],
      "metadata": {
        "id": "k_wXRBaMLdxj"
      }
    },
    {
      "cell_type": "code",
      "source": [
        "fig, ax = plt.subplots(figsize=(20, 5))\n",
        "sns.countplot(data=train[train['emoticon']!=''], x='emoticon', hue='target')\n",
        "plt.show()"
      ],
      "metadata": {
        "colab": {
          "base_uri": "https://localhost:8080/",
          "height": 320
        },
        "id": "Wptf0Yu5LY3D",
        "outputId": "61bf4a55-55bd-4ab4-9446-232622349ba0"
      },
      "execution_count": null,
      "outputs": [
        {
          "output_type": "display_data",
          "data": {
            "text/plain": [
              "<Figure size 1440x360 with 1 Axes>"
            ],
            "image/png": "[encoded data removed]"
          },
          "metadata": {
            "needs_background": "light"
          }
        }
      ]
    },
    {
      "cell_type": "markdown",
      "source": [
        "# 3. Prepare dataset for model training and evaluation"
      ],
      "metadata": {
        "id": "bTe7C6mqLmBh"
      }
    },
    {
      "cell_type": "code",
      "source": [
        "train = pd.read_csv('drive/MyDrive/nlp-getting-started/train.csv')\n",
        "train = clean_data(train)"
      ],
      "metadata": {
        "id": "5v2hR_Y9LYo-"
      },
      "execution_count": null,
      "outputs": []
    },
    {
      "cell_type": "markdown",
      "source": [
        "## 3.1 Remove duplicates from the training set"
      ],
      "metadata": {
        "id": "BwEciWXfL017"
      }
    },
    {
      "cell_type": "code",
      "source": [
        "def remove_duplicates(df, retweets):\n",
        "    old_nb_samples = df.shape[0]\n",
        "    # retweets is a dictionary holding the duplicates\n",
        "    indexes_to_drop=[]\n",
        "    for k in retweets.keys():\n",
        "        for i in range(0,len(retweets[k])):\n",
        "            if i>0:\n",
        "                indexes_to_drop.append(retweets[k][i])\n",
        "    #indexes_to_drop\n",
        "    df.drop(index=indexes_to_drop,inplace=True)\n",
        "    new_nb_samples = df.shape[0]\n",
        "    return df, old_nb_samples, new_nb_samples"
      ],
      "metadata": {
        "id": "0eMCndo0LYSc"
      },
      "execution_count": null,
      "outputs": []
    },
    {
      "cell_type": "markdown",
      "source": [
        "There are 305 tweet texts that are repeated twice or more in the training set. So let's remove the duplicates (and keep one sample).\n"
      ],
      "metadata": {
        "id": "7s8Uw4JfL7OZ"
      }
    },
    {
      "cell_type": "code",
      "source": [
        "train, old_nb_training_samples, new_nb_training_samples = remove_duplicates(train, retweets)\n",
        "print('Nb of duplicates removed : ' + str(old_nb_training_samples-new_nb_training_samples))"
      ],
      "metadata": {
        "colab": {
          "base_uri": "https://localhost:8080/"
        },
        "id": "UMVNAnL9L4gR",
        "outputId": "ae0837fd-5f5e-4198-ccfd-0ee52903ef03"
      },
      "execution_count": null,
      "outputs": [
        {
          "output_type": "stream",
          "name": "stdout",
          "text": [
            "Nb of duplicates removed : 677\n"
          ]
        }
      ]
    },
    {
      "cell_type": "markdown",
      "source": [
        "## 3.2 Remove samples with inconsistent labels from the training set"
      ],
      "metadata": {
        "id": "w2nzJacdMCX6"
      }
    },
    {
      "cell_type": "code",
      "source": [
        "def remove_inconsistent_labels(df, inconsistent_labels):\n",
        "    # inconsistent_labels holds the ids of the tweets that appear twice or more with inconsistent labels.\n",
        "    old_nb_samples = df.shape[0]\n",
        "    indexes_to_drop = df[df['id'].isin(inconsistent_labels['tweet id'])].index\n",
        "    df.drop(index=indexes_to_drop,inplace=True)\n",
        "    new_nb_samples = df.shape[0]\n",
        "    return df, old_nb_samples, new_nb_samples"
      ],
      "metadata": {
        "id": "AesTkIOdL_FL"
      },
      "execution_count": null,
      "outputs": []
    },
    {
      "cell_type": "code",
      "source": [
        "train, old_nb_training_samples, new_nb_training_samples = remove_inconsistent_labels(train, inconsistent_labels)\n",
        "print('Nb of samples removed : ' + str(old_nb_training_samples-new_nb_training_samples))"
      ],
      "metadata": {
        "colab": {
          "base_uri": "https://localhost:8080/"
        },
        "id": "qzrSQW8lMFKd",
        "outputId": "3ef61f66-0c6a-4d6c-95f7-ba6fdaa63ac1"
      },
      "execution_count": null,
      "outputs": [
        {
          "output_type": "stream",
          "name": "stdout",
          "text": [
            "Nb of samples removed : 71\n"
          ]
        }
      ]
    },
    {
      "cell_type": "markdown",
      "source": [
        "## 3.3 Create a validation split"
      ],
      "metadata": {
        "id": "FYTPy3csMHyu"
      }
    },
    {
      "cell_type": "markdown",
      "source": [
        "Let's load the train and test data and split the train data into a training and a validation datasets with 20% of samples going to the validation dataset and 80% going to the training dataset:"
      ],
      "metadata": {
        "id": "TIM4eBV8MP91"
      }
    },
    {
      "cell_type": "code",
      "source": [
        "# Set constants\n",
        "seed = 1356\n",
        "TUNING_RNN = False\n",
        "TUNING_BRNN = True"
      ],
      "metadata": {
        "id": "fdrKWZGhMppo"
      },
      "execution_count": null,
      "outputs": []
    },
    {
      "cell_type": "code",
      "source": [
        "X_train, X_val, y_train, y_val = train_test_split(train['text'], train['target'], test_size=0.2, shuffle=True, random_state=seed)"
      ],
      "metadata": {
        "id": "pcvZysTIMNiw"
      },
      "execution_count": null,
      "outputs": []
    },
    {
      "cell_type": "markdown",
      "source": [
        "We use the utility `tf.data.Dataset.from_tensor_slices` to generate a labeled `tf.data.Dataset` object from dataframes. Now, let's preview a few samples:"
      ],
      "metadata": {
        "id": "XqJ9hQqcMvok"
      }
    },
    {
      "cell_type": "code",
      "source": [
        "batch_size = 32\n",
        "\n",
        "train_ds = tf.data.Dataset.from_tensor_slices((X_train, y_train)).batch(batch_size).prefetch(tf.data.AUTOTUNE)\n",
        "val_ds = tf.data.Dataset.from_tensor_slices((X_val, y_val)).batch(batch_size).prefetch(tf.data.AUTOTUNE)\n",
        "for text_batch, label_batch in train_ds.take(1):\n",
        "    for i in range(5):\n",
        "        print(text_batch[i].numpy())\n",
        "        print(label_batch[i].numpy())"
      ],
      "metadata": {
        "colab": {
          "base_uri": "https://localhost:8080/"
        },
        "id": "tNphOCbuMNfB",
        "outputId": "7247d327-7daa-4fd0-f090-6e346a1cca8b"
      },
      "execution_count": null,
      "outputs": [
        {
          "output_type": "stream",
          "name": "stdout",
          "text": [
            "b\"I'm so traumatised.\"\n",
            "0\n",
            "b\"At FEMA's Center for Disaster Preparedness for a weeklong training on Chemical Biological Radioactive Nuclear  Emergency Response\"\n",
            "1\n",
            "b'just got engulfed in a car-induced tidal wave on my run... I thought this only happened in the movies ????'\n",
            "0\n",
            "b\" Everything must be OK because she's listening to 'Sandstorm' now...\"\n",
            "0\n",
            "b'Save your riches in heaven where they will never decrease because no thief can gets them and no moth can destroy them. ??'\n",
            "0\n"
          ]
        }
      ]
    },
    {
      "cell_type": "markdown",
      "source": [
        "# 4. Create a vocabulary index"
      ],
      "metadata": {
        "id": "iJzdDWPdM3d_"
      }
    },
    {
      "cell_type": "markdown",
      "source": [
        "We can instantiate the text vectorization layer. This layer will be used to split tweets into words (tokens) and then map words to integers (output_mode='int'). Note that we are using the default standardization `lower_and_strip_punctuation` and split `whitespace` functions:"
      ],
      "metadata": {
        "id": "0Zx3jfVuM58U"
      }
    },
    {
      "cell_type": "code",
      "source": [
        "vectorize_layer = TextVectorization(output_mode=\"int\")"
      ],
      "metadata": {
        "id": "QFNomShFMNcz"
      },
      "execution_count": null,
      "outputs": []
    },
    {
      "cell_type": "markdown",
      "source": [
        "We call `adapt()` on a text-only dataset to create the vocabulary. Here what matters is to create the vocabulary using only the training dataset (not the validation one):"
      ],
      "metadata": {
        "id": "ohGLTU7ZM_LU"
      }
    },
    {
      "cell_type": "code",
      "source": [
        "text_ds = train_ds.map(lambda x, y: x)\n",
        "vectorize_layer.adapt(text_ds)"
      ],
      "metadata": {
        "id": "pZiL5KFuMNZG"
      },
      "execution_count": null,
      "outputs": []
    },
    {
      "cell_type": "markdown",
      "source": [
        "Let's display the vocabulary size and the first 20 words of this vocabulary:"
      ],
      "metadata": {
        "id": "dJS-cAkqNFHY"
      }
    },
    {
      "cell_type": "code",
      "source": [
        "vocab_size = vectorize_layer.vocabulary_size() # vocab_size includes padding and OOV elements \n",
        "print('vocabulary size = ' + str(vocab_size))\n",
        "print('20 words from the dictionary:')\n",
        "print(vectorize_layer.get_vocabulary()[0:20])"
      ],
      "metadata": {
        "colab": {
          "base_uri": "https://localhost:8080/"
        },
        "id": "RYTZJhOgMNV8",
        "outputId": "46867765-79a4-4f4f-ff23-3b390b4db810"
      },
      "execution_count": null,
      "outputs": [
        {
          "output_type": "stream",
          "name": "stdout",
          "text": [
            "vocabulary size = 13576\n",
            "20 words from the dictionary:\n",
            "['', '[UNK]', 'the', 'a', 'to', 'in', 'and', 'of', 'i', 'is', 'for', 'on', 'you', 'my', 'that', 'it', 'with', 'at', 'this', 'by']\n"
          ]
        }
      ]
    },
    {
      "cell_type": "markdown",
      "source": [
        "Let's vectorize a test sentence:"
      ],
      "metadata": {
        "id": "_KLbClkTNKVJ"
      }
    },
    {
      "cell_type": "code",
      "source": [
        "output = vectorize_layer([[\"My brother-n-law riooooos got the call to head up north and fight the wild fires. Dudes a beast at_ \"]])\n",
        "output.numpy()[0, :]"
      ],
      "metadata": {
        "colab": {
          "base_uri": "https://localhost:8080/"
        },
        "id": "uBnqlptVMNSy",
        "outputId": "a27e707a-e119-4eaa-b444-f82352033a4f"
      },
      "execution_count": null,
      "outputs": [
        {
          "output_type": "execute_result",
          "data": {
            "text/plain": [
              "array([   13, 12262,  7298,    86,     2,   333,     4,   307,    33,\n",
              "         563,     6,   636,     2,   318,   107,  4729,     3, 12561,\n",
              "          17])"
            ]
          },
          "metadata": {},
          "execution_count": 66
        }
      ]
    },
    {
      "cell_type": "code",
      "source": [
        "embedding_dim = 50\n",
        "glove_file = 'drive/MyDrive/glove_twitter_27B_50d/glove.twitter.27B.' + str(embedding_dim) + 'd.txt'\n",
        "\n",
        "embedding={}\n",
        "with open(glove_file,'r') as f:\n",
        "    for line in f:\n",
        "        values = line.split()\n",
        "        word = values[0]\n",
        "        vectors = np.asarray(values[1:],'float32')\n",
        "        embedding[word] = vectors\n",
        "f.close()\n",
        "\n",
        "print('50d vector for \\'ablaze\\' : ' + str(embedding['ablaze']))"
      ],
      "metadata": {
        "colab": {
          "base_uri": "https://localhost:8080/"
        },
        "id": "Pe_90TCeMNPs",
        "outputId": "0b2d9fa2-9e05-4229-d863-a1feadb2a3d0"
      },
      "execution_count": null,
      "outputs": [
        {
          "output_type": "stream",
          "name": "stdout",
          "text": [
            "50d vector for 'ablaze' : [-1.3532   -0.077918  0.77155  -0.11099   0.62654   0.66574  -0.019857\n",
            " -0.30842  -0.15427  -0.88385  -0.3152    0.094996 -0.78936  -0.11191\n",
            "  0.32219   0.013111  0.175     0.065855  0.53691  -0.9332    0.20486\n",
            " -0.64629  -0.52677  -0.24608   0.35051   1.07     -1.39      0.1717\n",
            " -0.43119   0.64184   0.39304   0.26976   0.70159  -0.24759   0.16952\n",
            " -0.75059   0.034953  0.61715  -0.49558  -0.44063   2.1116    0.67855\n",
            " -0.16697   0.60577   0.4629    0.03476  -0.11673  -0.20083   0.85643\n",
            "  0.34675 ]\n"
          ]
        }
      ]
    },
    {
      "cell_type": "markdown",
      "source": [
        "Next, we need to create a matrix of one embedding for each word of our vocabulary. We can do that by enumerating all unique words in `vectorize_layer.get_vocabulary()` and locating the embedding weight vector from the loaded GloVe embedding. The result is a matrix of weights only for words found in our tweets. Once this matrix is loaded, we'll display the 50-d vector for the index corresponding to the word 'ablaze':"
      ],
      "metadata": {
        "id": "l3uJAOq7QG3i"
      }
    },
    {
      "cell_type": "code",
      "source": [
        "embedding_matrix = np.zeros((vocab_size, embedding_dim)) # size of embedding matrix = vocab_size. No need to add + 1 as the uknown/out-of-vocabulary word is in voca_size\n",
        "\n",
        "num_words_in_embedding = 0\n",
        "out_of_glove = []\n",
        "i = 0\n",
        "for word in vectorize_layer.get_vocabulary():\n",
        "    embedding_vector = embedding.get(word)\n",
        "    if embedding_vector is not None:\n",
        "        num_words_in_embedding += 1\n",
        "        embedding_matrix[i] = embedding_vector\n",
        "    else:\n",
        "        out_of_glove.append(word)\n",
        "    i+=1\n",
        "\n",
        "# display the 50d vector corresponding to the word 'ablaze'\n",
        "i = 0\n",
        "for word in vectorize_layer.get_vocabulary():\n",
        "    if(word=='ablaze'):\n",
        "        ind = i\n",
        "        break\n",
        "    else:\n",
        "        i+=1\n",
        "print('Index corresponding to the word \\'ablaze\\' in our vocabulary : ' + str(ind))\n",
        "print('50d vector for index ' + str(ind) + ' : ' + str(embedding_matrix[ind]))\n",
        "\n",
        "#for anaysis purpose:\n",
        "with open(\"out_of_glove.txt\", \"w\") as txt_file:\n",
        "    for line in out_of_glove:\n",
        "        txt_file.write(\" \".join(line) + \"\\n\")"
      ],
      "metadata": {
        "colab": {
          "base_uri": "https://localhost:8080/"
        },
        "id": "xXAZnvhJQD_x",
        "outputId": "4ab4d746-c824-4514-af03-9d64072828b9"
      },
      "execution_count": null,
      "outputs": [
        {
          "output_type": "stream",
          "name": "stdout",
          "text": [
            "Index corresponding to the word 'ablaze' in our vocabulary : 546\n",
            "50d vector for index 546 : [-1.35319996 -0.077918    0.77155    -0.11099     0.62654001  0.66574001\n",
            " -0.019857   -0.30842    -0.15426999 -0.88384998 -0.3152      0.094996\n",
            " -0.78935999 -0.11191     0.32218999  0.013111    0.175       0.065855\n",
            "  0.53691    -0.9332      0.20486    -0.64629    -0.52677    -0.24608\n",
            "  0.35051     1.07000005 -1.38999999  0.1717     -0.43119001  0.64183998\n",
            "  0.39304     0.26976001  0.70159    -0.24759001  0.16952001 -0.75059003\n",
            "  0.034953    0.61715001 -0.49557999 -0.44062999  2.11159992  0.67855\n",
            " -0.16697     0.60576999  0.46290001  0.03476    -0.11673    -0.20083\n",
            "  0.85642999  0.34674999]\n"
          ]
        }
      ]
    },
    {
      "cell_type": "code",
      "source": [
        ""
      ],
      "metadata": {
        "id": "ylHB6BkmRFNJ"
      },
      "execution_count": null,
      "outputs": []
    },
    {
      "cell_type": "markdown",
      "source": [
        "# 5. Build a baseline model"
      ],
      "metadata": {
        "id": "C998Q2wDQSeh"
      }
    },
    {
      "cell_type": "markdown",
      "source": [
        "I can build a baseline model with Embedding layer plus LSTM cells:"
      ],
      "metadata": {
        "id": "X2uIvwflQU1Q"
      }
    },
    {
      "cell_type": "code",
      "source": [
        "text_input = tf.keras.Input(shape=(1), dtype=tf.string, name='text')\n",
        "x = vectorize_layer(text_input)\n",
        "x = layers.Embedding(input_dim = vectorize_layer.vocabulary_size(), output_dim = embedding_dim, weights = [embedding_matrix], trainable=False)(x)\n",
        "# Add a LSTM layer\n",
        "x = layers.LSTM(64)(x)\n",
        "# Add a classifier\n",
        "output = layers.Dense(1, activation='sigmoid')(x)\n",
        "model = tf.keras.Model(text_input, output, name='Simple_RNN_with_LSTM_cells')\n",
        "model.summary()"
      ],
      "metadata": {
        "colab": {
          "base_uri": "https://localhost:8080/"
        },
        "id": "0YXjD5NOQP8l",
        "outputId": "de19345b-115e-40e1-a993-344c9c562aa4"
      },
      "execution_count": null,
      "outputs": [
        {
          "output_type": "stream",
          "name": "stdout",
          "text": [
            "Model: \"Simple_RNN_with_LSTM_cells\"\n",
            "_________________________________________________________________\n",
            " Layer (type)                Output Shape              Param #   \n",
            "=================================================================\n",
            " text (InputLayer)           [(None, 1)]               0         \n",
            "                                                                 \n",
            " text_vectorization_1 (TextV  (None, None)             0         \n",
            " ectorization)                                                   \n",
            "                                                                 \n",
            " embedding_2 (Embedding)     (None, None, 50)          678800    \n",
            "                                                                 \n",
            " lstm_1 (LSTM)               (None, 64)                29440     \n",
            "                                                                 \n",
            " dense_1 (Dense)             (None, 1)                 65        \n",
            "                                                                 \n",
            "=================================================================\n",
            "Total params: 708,305\n",
            "Trainable params: 29,505\n",
            "Non-trainable params: 678,800\n",
            "_________________________________________________________________\n"
          ]
        }
      ]
    },
    {
      "cell_type": "markdown",
      "source": [
        "# 6. Train and evaluate the model"
      ],
      "metadata": {
        "id": "ecbP5t36RqVR"
      }
    },
    {
      "cell_type": "code",
      "source": [
        "model.compile('adam', loss='binary_crossentropy',metrics = 'accuracy')\n",
        "history = model.fit(x=train_ds, validation_data=val_ds, epochs=5, batch_size=batch_size)"
      ],
      "metadata": {
        "colab": {
          "base_uri": "https://localhost:8080/"
        },
        "id": "m6pcW6jCRpSF",
        "outputId": "e0950bac-0972-49e3-aaa9-b50b675b9a3c"
      },
      "execution_count": null,
      "outputs": [
        {
          "output_type": "stream",
          "name": "stdout",
          "text": [
            "Epoch 1/100\n",
            "172/172 [==============================] - 6s 21ms/step - loss: 0.5112 - accuracy: 0.7509 - val_loss: 0.4261 - val_accuracy: 0.8077\n",
            "Epoch 2/100\n",
            "172/172 [==============================] - 3s 17ms/step - loss: 0.4455 - accuracy: 0.8019 - val_loss: 0.4173 - val_accuracy: 0.8128\n",
            "Epoch 3/100\n",
            "172/172 [==============================] - 3s 17ms/step - loss: 0.4303 - accuracy: 0.8114 - val_loss: 0.4133 - val_accuracy: 0.8135\n",
            "Epoch 4/100\n",
            "172/172 [==============================] - 3s 17ms/step - loss: 0.4174 - accuracy: 0.8196 - val_loss: 0.4115 - val_accuracy: 0.8143\n",
            "Epoch 5/100\n",
            "172/172 [==============================] - 3s 17ms/step - loss: 0.4066 - accuracy: 0.8267 - val_loss: 0.4123 - val_accuracy: 0.8121\n",
            "Epoch 6/100\n",
            "172/172 [==============================] - 3s 17ms/step - loss: 0.3956 - accuracy: 0.8336 - val_loss: 0.4143 - val_accuracy: 0.8128\n",
            "Epoch 7/100\n",
            "172/172 [==============================] - 3s 17ms/step - loss: 0.3834 - accuracy: 0.8379 - val_loss: 0.4182 - val_accuracy: 0.8143\n",
            "Epoch 8/100\n",
            "172/172 [==============================] - 3s 17ms/step - loss: 0.3699 - accuracy: 0.8456 - val_loss: 0.4252 - val_accuracy: 0.8099\n",
            "Epoch 9/100\n",
            "172/172 [==============================] - 3s 17ms/step - loss: 0.3594 - accuracy: 0.8491 - val_loss: 0.4337 - val_accuracy: 0.8114\n",
            "Epoch 10/100\n",
            "172/172 [==============================] - 3s 17ms/step - loss: 0.3482 - accuracy: 0.8525 - val_loss: 0.4657 - val_accuracy: 0.8070\n",
            "Epoch 11/100\n",
            "172/172 [==============================] - 3s 17ms/step - loss: 0.3427 - accuracy: 0.8574 - val_loss: 0.4915 - val_accuracy: 0.7983\n",
            "Epoch 12/100\n",
            "172/172 [==============================] - 4s 22ms/step - loss: 0.3151 - accuracy: 0.8713 - val_loss: 0.4905 - val_accuracy: 0.7961\n",
            "Epoch 13/100\n",
            "172/172 [==============================] - 3s 17ms/step - loss: 0.2999 - accuracy: 0.8798 - val_loss: 0.5035 - val_accuracy: 0.8004\n",
            "Epoch 14/100\n",
            "172/172 [==============================] - 3s 17ms/step - loss: 0.2984 - accuracy: 0.8786 - val_loss: 0.5051 - val_accuracy: 0.7968\n",
            "Epoch 15/100\n",
            "172/172 [==============================] - 3s 17ms/step - loss: 0.2897 - accuracy: 0.8822 - val_loss: 0.5460 - val_accuracy: 0.7822\n",
            "Epoch 16/100\n",
            "172/172 [==============================] - 4s 23ms/step - loss: 0.2687 - accuracy: 0.8913 - val_loss: 0.5643 - val_accuracy: 0.7647\n",
            "Epoch 17/100\n",
            "172/172 [==============================] - 3s 17ms/step - loss: 0.2600 - accuracy: 0.9004 - val_loss: 0.5605 - val_accuracy: 0.7684\n",
            "Epoch 18/100\n",
            "172/172 [==============================] - 3s 17ms/step - loss: 0.2495 - accuracy: 0.9048 - val_loss: 0.5817 - val_accuracy: 0.7698\n",
            "Epoch 19/100\n",
            "172/172 [==============================] - 3s 17ms/step - loss: 0.2310 - accuracy: 0.9151 - val_loss: 0.5836 - val_accuracy: 0.7735\n",
            "Epoch 20/100\n",
            "172/172 [==============================] - 3s 17ms/step - loss: 0.2403 - accuracy: 0.9090 - val_loss: 0.5775 - val_accuracy: 0.7749\n",
            "Epoch 21/100\n",
            "172/172 [==============================] - 3s 17ms/step - loss: 0.2120 - accuracy: 0.9228 - val_loss: 0.5980 - val_accuracy: 0.7822\n",
            "Epoch 22/100\n",
            "172/172 [==============================] - 3s 17ms/step - loss: 0.2112 - accuracy: 0.9195 - val_loss: 0.6334 - val_accuracy: 0.7749\n",
            "Epoch 23/100\n",
            "172/172 [==============================] - 3s 17ms/step - loss: 0.2163 - accuracy: 0.9193 - val_loss: 0.6007 - val_accuracy: 0.7793\n",
            "Epoch 24/100\n",
            "172/172 [==============================] - 3s 17ms/step - loss: 0.2092 - accuracy: 0.9250 - val_loss: 0.5767 - val_accuracy: 0.7822\n",
            "Epoch 25/100\n",
            "172/172 [==============================] - 3s 17ms/step - loss: 0.1738 - accuracy: 0.9405 - val_loss: 0.6951 - val_accuracy: 0.7502\n",
            "Epoch 26/100\n",
            "172/172 [==============================] - 3s 17ms/step - loss: 0.1683 - accuracy: 0.9392 - val_loss: 0.6500 - val_accuracy: 0.7706\n",
            "Epoch 27/100\n",
            "172/172 [==============================] - 3s 17ms/step - loss: 0.1666 - accuracy: 0.9432 - val_loss: 0.6660 - val_accuracy: 0.7866\n",
            "Epoch 28/100\n",
            "172/172 [==============================] - 3s 17ms/step - loss: 0.1560 - accuracy: 0.9448 - val_loss: 0.7012 - val_accuracy: 0.7800\n",
            "Epoch 29/100\n",
            "172/172 [==============================] - 3s 17ms/step - loss: 0.1563 - accuracy: 0.9456 - val_loss: 0.6580 - val_accuracy: 0.7837\n",
            "Epoch 30/100\n",
            "172/172 [==============================] - 3s 17ms/step - loss: 0.1464 - accuracy: 0.9523 - val_loss: 0.6983 - val_accuracy: 0.7749\n",
            "Epoch 31/100\n",
            "172/172 [==============================] - 3s 17ms/step - loss: 0.1327 - accuracy: 0.9561 - val_loss: 0.7070 - val_accuracy: 0.7924\n",
            "Epoch 32/100\n",
            "172/172 [==============================] - 3s 17ms/step - loss: 0.1184 - accuracy: 0.9652 - val_loss: 0.7461 - val_accuracy: 0.7953\n",
            "Epoch 33/100\n",
            "172/172 [==============================] - 3s 18ms/step - loss: 0.1248 - accuracy: 0.9609 - val_loss: 0.7401 - val_accuracy: 0.7939\n",
            "Epoch 34/100\n",
            "172/172 [==============================] - 3s 17ms/step - loss: 0.1118 - accuracy: 0.9658 - val_loss: 0.7738 - val_accuracy: 0.7953\n",
            "Epoch 35/100\n",
            "172/172 [==============================] - 3s 17ms/step - loss: 0.1030 - accuracy: 0.9694 - val_loss: 0.8106 - val_accuracy: 0.7968\n",
            "Epoch 36/100\n",
            "172/172 [==============================] - 3s 17ms/step - loss: 0.1097 - accuracy: 0.9669 - val_loss: 0.7856 - val_accuracy: 0.7749\n",
            "Epoch 37/100\n",
            "172/172 [==============================] - 3s 17ms/step - loss: 0.1101 - accuracy: 0.9665 - val_loss: 0.7999 - val_accuracy: 0.7815\n",
            "Epoch 38/100\n",
            "172/172 [==============================] - 5s 27ms/step - loss: 0.0890 - accuracy: 0.9731 - val_loss: 0.8801 - val_accuracy: 0.7815\n",
            "Epoch 39/100\n",
            "172/172 [==============================] - 3s 17ms/step - loss: 0.0840 - accuracy: 0.9741 - val_loss: 0.8519 - val_accuracy: 0.7932\n",
            "Epoch 40/100\n",
            "172/172 [==============================] - 3s 17ms/step - loss: 0.0780 - accuracy: 0.9767 - val_loss: 0.9002 - val_accuracy: 0.7917\n",
            "Epoch 41/100\n",
            "172/172 [==============================] - 3s 17ms/step - loss: 0.0763 - accuracy: 0.9765 - val_loss: 0.9099 - val_accuracy: 0.7822\n",
            "Epoch 42/100\n",
            "172/172 [==============================] - 3s 17ms/step - loss: 0.0842 - accuracy: 0.9734 - val_loss: 0.8755 - val_accuracy: 0.7655\n",
            "Epoch 43/100\n",
            "172/172 [==============================] - 3s 17ms/step - loss: 0.0804 - accuracy: 0.9758 - val_loss: 0.8967 - val_accuracy: 0.7793\n",
            "Epoch 44/100\n",
            "172/172 [==============================] - 3s 17ms/step - loss: 0.0657 - accuracy: 0.9812 - val_loss: 0.9781 - val_accuracy: 0.7808\n",
            "Epoch 45/100\n",
            "172/172 [==============================] - 3s 17ms/step - loss: 0.0691 - accuracy: 0.9803 - val_loss: 0.9412 - val_accuracy: 0.7589\n",
            "Epoch 46/100\n",
            "172/172 [==============================] - 3s 17ms/step - loss: 0.0695 - accuracy: 0.9802 - val_loss: 0.9730 - val_accuracy: 0.7749\n",
            "Epoch 47/100\n",
            "172/172 [==============================] - 3s 17ms/step - loss: 0.0647 - accuracy: 0.9822 - val_loss: 0.9538 - val_accuracy: 0.7771\n",
            "Epoch 48/100\n",
            "172/172 [==============================] - 3s 17ms/step - loss: 0.0658 - accuracy: 0.9816 - val_loss: 1.0243 - val_accuracy: 0.7647\n",
            "Epoch 49/100\n",
            "172/172 [==============================] - 4s 21ms/step - loss: 0.0520 - accuracy: 0.9838 - val_loss: 1.0427 - val_accuracy: 0.7582\n",
            "Epoch 50/100\n",
            "172/172 [==============================] - 3s 17ms/step - loss: 0.0755 - accuracy: 0.9754 - val_loss: 0.9572 - val_accuracy: 0.7604\n",
            "Epoch 51/100\n",
            "172/172 [==============================] - 3s 17ms/step - loss: 0.0511 - accuracy: 0.9845 - val_loss: 1.0666 - val_accuracy: 0.7728\n",
            "Epoch 52/100\n",
            "172/172 [==============================] - 3s 18ms/step - loss: 0.0444 - accuracy: 0.9860 - val_loss: 1.0748 - val_accuracy: 0.7604\n",
            "Epoch 53/100\n",
            "172/172 [==============================] - 3s 17ms/step - loss: 0.0381 - accuracy: 0.9885 - val_loss: 1.1479 - val_accuracy: 0.7706\n",
            "Epoch 54/100\n",
            "172/172 [==============================] - 3s 17ms/step - loss: 0.0515 - accuracy: 0.9825 - val_loss: 1.0617 - val_accuracy: 0.7764\n",
            "Epoch 55/100\n",
            "172/172 [==============================] - 3s 17ms/step - loss: 0.0535 - accuracy: 0.9849 - val_loss: 1.0778 - val_accuracy: 0.7728\n",
            "Epoch 56/100\n",
            "172/172 [==============================] - 3s 17ms/step - loss: 0.0447 - accuracy: 0.9874 - val_loss: 1.2331 - val_accuracy: 0.7597\n",
            "Epoch 57/100\n",
            "172/172 [==============================] - 3s 17ms/step - loss: 0.0341 - accuracy: 0.9900 - val_loss: 1.2954 - val_accuracy: 0.7618\n",
            "Epoch 58/100\n",
            "172/172 [==============================] - 3s 17ms/step - loss: 0.0515 - accuracy: 0.9836 - val_loss: 1.3466 - val_accuracy: 0.7487\n",
            "Epoch 59/100\n",
            "172/172 [==============================] - 3s 17ms/step - loss: 0.0405 - accuracy: 0.9871 - val_loss: 1.2154 - val_accuracy: 0.7706\n",
            "Epoch 60/100\n",
            "172/172 [==============================] - 3s 18ms/step - loss: 0.0338 - accuracy: 0.9894 - val_loss: 1.1815 - val_accuracy: 0.7844\n",
            "Epoch 61/100\n",
            "172/172 [==============================] - 3s 17ms/step - loss: 0.0411 - accuracy: 0.9854 - val_loss: 1.2036 - val_accuracy: 0.7888\n",
            "Epoch 62/100\n",
            "172/172 [==============================] - 3s 17ms/step - loss: 0.0431 - accuracy: 0.9862 - val_loss: 1.1715 - val_accuracy: 0.7830\n",
            "Epoch 63/100\n",
            "172/172 [==============================] - 3s 17ms/step - loss: 0.0322 - accuracy: 0.9885 - val_loss: 1.2734 - val_accuracy: 0.7786\n",
            "Epoch 64/100\n",
            "172/172 [==============================] - 3s 17ms/step - loss: 0.0316 - accuracy: 0.9903 - val_loss: 1.3155 - val_accuracy: 0.7618\n",
            "Epoch 65/100\n",
            "172/172 [==============================] - 3s 17ms/step - loss: 0.0402 - accuracy: 0.9876 - val_loss: 1.2052 - val_accuracy: 0.7793\n",
            "Epoch 66/100\n",
            "172/172 [==============================] - 3s 17ms/step - loss: 0.0258 - accuracy: 0.9914 - val_loss: 1.3102 - val_accuracy: 0.7677\n",
            "Epoch 67/100\n",
            "172/172 [==============================] - 3s 17ms/step - loss: 0.0241 - accuracy: 0.9927 - val_loss: 1.3514 - val_accuracy: 0.7691\n",
            "Epoch 68/100\n",
            "172/172 [==============================] - 3s 17ms/step - loss: 0.0244 - accuracy: 0.9925 - val_loss: 1.2979 - val_accuracy: 0.7888\n",
            "Epoch 69/100\n",
            "172/172 [==============================] - 3s 17ms/step - loss: 0.0265 - accuracy: 0.9929 - val_loss: 1.3325 - val_accuracy: 0.7698\n",
            "Epoch 70/100\n",
            "172/172 [==============================] - 3s 17ms/step - loss: 0.0178 - accuracy: 0.9938 - val_loss: 1.3841 - val_accuracy: 0.7669\n",
            "Epoch 71/100\n",
            "172/172 [==============================] - 3s 18ms/step - loss: 0.0327 - accuracy: 0.9909 - val_loss: 1.2556 - val_accuracy: 0.7633\n",
            "Epoch 72/100\n",
            "172/172 [==============================] - 3s 17ms/step - loss: 0.0525 - accuracy: 0.9829 - val_loss: 1.2383 - val_accuracy: 0.7691\n",
            "Epoch 73/100\n",
            "172/172 [==============================] - 3s 17ms/step - loss: 0.0567 - accuracy: 0.9822 - val_loss: 1.1190 - val_accuracy: 0.7720\n",
            "Epoch 74/100\n",
            "172/172 [==============================] - 3s 17ms/step - loss: 0.0313 - accuracy: 0.9885 - val_loss: 1.2365 - val_accuracy: 0.7691\n",
            "Epoch 75/100\n",
            "172/172 [==============================] - 3s 17ms/step - loss: 0.0332 - accuracy: 0.9893 - val_loss: 1.2535 - val_accuracy: 0.7597\n",
            "Epoch 76/100\n",
            "172/172 [==============================] - 3s 17ms/step - loss: 0.0277 - accuracy: 0.9916 - val_loss: 1.2678 - val_accuracy: 0.7604\n",
            "Epoch 77/100\n",
            "172/172 [==============================] - 3s 17ms/step - loss: 0.0164 - accuracy: 0.9951 - val_loss: 1.3178 - val_accuracy: 0.7822\n",
            "Epoch 78/100\n",
            "172/172 [==============================] - 3s 18ms/step - loss: 0.0183 - accuracy: 0.9947 - val_loss: 1.3380 - val_accuracy: 0.7771\n",
            "Epoch 79/100\n",
            "172/172 [==============================] - 3s 17ms/step - loss: 0.0386 - accuracy: 0.9900 - val_loss: 1.1779 - val_accuracy: 0.7728\n",
            "Epoch 80/100\n",
            "172/172 [==============================] - 3s 17ms/step - loss: 0.0255 - accuracy: 0.9918 - val_loss: 1.2829 - val_accuracy: 0.7647\n",
            "Epoch 81/100\n",
            "172/172 [==============================] - 3s 17ms/step - loss: 0.0366 - accuracy: 0.9902 - val_loss: 1.1565 - val_accuracy: 0.7749\n",
            "Epoch 82/100\n",
            "172/172 [==============================] - 4s 24ms/step - loss: 0.0329 - accuracy: 0.9882 - val_loss: 1.2048 - val_accuracy: 0.7735\n",
            "Epoch 83/100\n",
            "172/172 [==============================] - 3s 17ms/step - loss: 0.0194 - accuracy: 0.9938 - val_loss: 1.3153 - val_accuracy: 0.7677\n",
            "Epoch 84/100\n",
            "172/172 [==============================] - 3s 18ms/step - loss: 0.0154 - accuracy: 0.9945 - val_loss: 1.1990 - val_accuracy: 0.7669\n",
            "Epoch 85/100\n",
            "172/172 [==============================] - 3s 17ms/step - loss: 0.0217 - accuracy: 0.9927 - val_loss: 1.3713 - val_accuracy: 0.7713\n",
            "Epoch 86/100\n",
            "172/172 [==============================] - 3s 17ms/step - loss: 0.0169 - accuracy: 0.9938 - val_loss: 1.3567 - val_accuracy: 0.7677\n",
            "Epoch 87/100\n",
            "172/172 [==============================] - 3s 17ms/step - loss: 0.0192 - accuracy: 0.9933 - val_loss: 1.4059 - val_accuracy: 0.7597\n",
            "Epoch 88/100\n",
            "172/172 [==============================] - 3s 17ms/step - loss: 0.0443 - accuracy: 0.9854 - val_loss: 1.2303 - val_accuracy: 0.7800\n",
            "Epoch 89/100\n",
            "172/172 [==============================] - 3s 18ms/step - loss: 0.0434 - accuracy: 0.9843 - val_loss: 1.1996 - val_accuracy: 0.7706\n",
            "Epoch 90/100\n",
            "172/172 [==============================] - 3s 18ms/step - loss: 0.0211 - accuracy: 0.9938 - val_loss: 1.2535 - val_accuracy: 0.7779\n",
            "Epoch 91/100\n",
            "172/172 [==============================] - 3s 17ms/step - loss: 0.0140 - accuracy: 0.9960 - val_loss: 1.3136 - val_accuracy: 0.7728\n",
            "Epoch 92/100\n",
            "172/172 [==============================] - 3s 18ms/step - loss: 0.0140 - accuracy: 0.9953 - val_loss: 1.3663 - val_accuracy: 0.7655\n",
            "Epoch 93/100\n",
            "172/172 [==============================] - 3s 18ms/step - loss: 0.0093 - accuracy: 0.9962 - val_loss: 1.4076 - val_accuracy: 0.7728\n",
            "Epoch 94/100\n",
            "172/172 [==============================] - 3s 17ms/step - loss: 0.0282 - accuracy: 0.9907 - val_loss: 1.4155 - val_accuracy: 0.7677\n",
            "Epoch 95/100\n",
            "172/172 [==============================] - 3s 17ms/step - loss: 0.0493 - accuracy: 0.9836 - val_loss: 1.2017 - val_accuracy: 0.7677\n",
            "Epoch 96/100\n",
            "172/172 [==============================] - 3s 17ms/step - loss: 0.0440 - accuracy: 0.9860 - val_loss: 1.1664 - val_accuracy: 0.7895\n",
            "Epoch 97/100\n",
            "172/172 [==============================] - 3s 17ms/step - loss: 0.0292 - accuracy: 0.9929 - val_loss: 1.1842 - val_accuracy: 0.7771\n",
            "Epoch 98/100\n",
            "172/172 [==============================] - 3s 18ms/step - loss: 0.0185 - accuracy: 0.9945 - val_loss: 1.2378 - val_accuracy: 0.7793\n",
            "Epoch 99/100\n",
            "172/172 [==============================] - 3s 18ms/step - loss: 0.0201 - accuracy: 0.9944 - val_loss: 1.3088 - val_accuracy: 0.7742\n",
            "Epoch 100/100\n",
            "172/172 [==============================] - 3s 17ms/step - loss: 0.0190 - accuracy: 0.9936 - val_loss: 1.3550 - val_accuracy: 0.7655\n"
          ]
        }
      ]
    },
    {
      "cell_type": "code",
      "source": [
        "# summarize history for loss\n",
        "plt.plot(history.history['loss'])\n",
        "plt.plot(history.history['val_loss'])\n",
        "plt.title('model loss')\n",
        "plt.ylabel('loss')\n",
        "plt.xlabel('epoch')\n",
        "plt.legend(['train', 'test'], loc='upper left')\n",
        "plt.show()"
      ],
      "metadata": {
        "colab": {
          "base_uri": "https://localhost:8080/",
          "height": 295
        },
        "id": "Zr0Tu02iRH9c",
        "outputId": "cf827aca-ca0f-4b60-c391-cbab73bc7c49"
      },
      "execution_count": null,
      "outputs": [
        {
          "output_type": "display_data",
          "data": {
            "text/plain": [
              "<Figure size 432x288 with 1 Axes>"
            ],
            "image/png": "[encoded data removed]"
          },
          "metadata": {
            "needs_background": "light"
          }
        }
      ]
    },
    {
      "cell_type": "markdown",
      "source": [
        "Let's make predictions on the validation dataset to display the confusion matrix and calculate the F1 score:"
      ],
      "metadata": {
        "id": "5qCiRVBQR8ft"
      }
    },
    {
      "cell_type": "code",
      "source": [
        "val_scores = model.predict(x=X_val)\n",
        "predictions = np.rint(val_scores)\n",
        "\n",
        "print('F1 score = ' + str(f1_score(y_val, predictions)))\n",
        "\n",
        "plt.figure(figsize = (6,3))\n",
        "sns.heatmap(confusion_matrix(y_val, predictions), annot=True, fmt='d', cmap='YlOrBr')\n",
        "plt.show()"
      ],
      "metadata": {
        "colab": {
          "base_uri": "https://localhost:8080/",
          "height": 246
        },
        "id": "WZNoBgDVR4H0",
        "outputId": "5f410681-f6f3-41e4-8dea-0b7303f15eaa"
      },
      "execution_count": null,
      "outputs": [
        {
          "output_type": "stream",
          "name": "stdout",
          "text": [
            "43/43 [==============================] - 1s 7ms/step\n",
            "F1 score = 0.6996268656716417\n"
          ]
        },
        {
          "output_type": "display_data",
          "data": {
            "text/plain": [
              "<Figure size 432x216 with 2 Axes>"
            ],
            "image/png": "[encoded data removed]"
          },
          "metadata": {
            "needs_background": "light"
          }
        }
      ]
    },
    {
      "cell_type": "markdown",
      "source": [
        "# 7. Search for a better model"
      ],
      "metadata": {
        "id": "m-mRJOFXSNFP"
      }
    },
    {
      "cell_type": "code",
      "source": [
        "for embedding_dim in (25, 50, 100):\n",
        "    \n",
        "    glove_file = 'drive/MyDrive/glove_twitter_27B_50d/glove.twitter.27B.' + str(embedding_dim) + 'd.txt'\n",
        "\n",
        "    embedding={}\n",
        "    with open(glove_file,'r') as f:\n",
        "        for line in f:\n",
        "            values = line.split()\n",
        "            word = values[0]\n",
        "            vectors = np.asarray(values[1:],'float32')\n",
        "            embedding[word] = vectors\n",
        "    f.close()\n",
        "    \n",
        "    print('End loading embedding_' + str(embedding_dim) + 'd dictionary')\n",
        "    \n",
        "    if embedding_dim==25:\n",
        "        embedding_25d = embedding\n",
        "    elif embedding_dim==50:\n",
        "        embedding_50d = embedding\n",
        "    elif embedding_dim==100:\n",
        "        embedding_100d = embedding\n",
        "\n",
        "print('25d vector for \\'ablaze\\' : ' + str(embedding_25d['ablaze']))\n",
        "print('50d vector for \\'ablaze\\' : ' + str(embedding_50d['ablaze']))\n",
        "print('100d vector for \\'ablaze\\' : ' + str(embedding_100d['ablaze']))"
      ],
      "metadata": {
        "id": "bUwH5u6VSB0E",
        "colab": {
          "base_uri": "https://localhost:8080/"
        },
        "outputId": "858b8bf7-f882-494d-9a87-b7836926c121"
      },
      "execution_count": null,
      "outputs": [
        {
          "output_type": "stream",
          "name": "stdout",
          "text": [
            "End loading embedding_25d dictionary\n",
            "End loading embedding_50d dictionary\n",
            "End loading embedding_100d dictionary\n",
            "25d vector for 'ablaze' : [-1.665     -0.29749    0.4721    -0.033642   0.0035009 -0.39495\n",
            " -0.84233   -2.0983     0.26166    0.40572    0.34332    0.87613\n",
            " -0.89234    1.0653    -0.2105     0.72415   -0.091988   0.68636\n",
            "  1.2395    -0.8015    -0.47004    0.18046    0.29409   -0.46252\n",
            " -0.049161 ]\n",
            "50d vector for 'ablaze' : [-1.3532   -0.077918  0.77155  -0.11099   0.62654   0.66574  -0.019857\n",
            " -0.30842  -0.15427  -0.88385  -0.3152    0.094996 -0.78936  -0.11191\n",
            "  0.32219   0.013111  0.175     0.065855  0.53691  -0.9332    0.20486\n",
            " -0.64629  -0.52677  -0.24608   0.35051   1.07     -1.39      0.1717\n",
            " -0.43119   0.64184   0.39304   0.26976   0.70159  -0.24759   0.16952\n",
            " -0.75059   0.034953  0.61715  -0.49558  -0.44063   2.1116    0.67855\n",
            " -0.16697   0.60577   0.4629    0.03476  -0.11673  -0.20083   0.85643\n",
            "  0.34675 ]\n",
            "100d vector for 'ablaze' : [-2.0388e-01 -9.3451e-03 -9.0139e-02 -1.9474e-01  3.3738e-01  1.4345e-01\n",
            " -7.5472e-01 -1.5394e-01  1.1525e+00  1.8313e-02 -8.5927e-01  4.1600e-01\n",
            " -4.7600e-01 -2.5052e-01 -4.8088e-01 -8.7736e-01  7.2491e-02 -3.3874e-01\n",
            "  3.9981e-02 -5.5936e-01  1.1995e-01  2.0214e-01  9.6383e-01 -2.6706e-01\n",
            "  1.7738e-01  1.7742e+00  9.6159e-02  4.6392e-01 -6.8413e-02  1.0384e+00\n",
            "  3.2892e-01  6.2162e-01  1.4242e+00 -5.9532e-02  3.4250e-03 -1.8783e-01\n",
            "  8.3388e-02 -1.0730e-01 -4.8910e-01  2.1083e-01  1.1749e+00  2.3729e-01\n",
            "  3.7000e-02  8.1669e-02  7.7126e-01 -7.1860e-01  6.3341e-01  1.6603e-01\n",
            " -3.6526e-01  2.4840e-01  5.0586e-01 -9.7797e-02  7.5415e-01 -2.3205e-01\n",
            " -5.4081e-01 -2.8910e-01 -1.4305e-01  1.8781e-01  3.8646e-01  3.6611e-01\n",
            "  8.4096e-02  1.6892e-01  6.2580e-03 -1.3461e+00  6.9392e-01  8.8064e-01\n",
            "  1.1679e+00 -4.9184e-01 -1.6716e-03 -4.2737e-03  1.5759e-01 -6.3455e-01\n",
            " -3.0840e-01  4.0466e-01 -2.6462e-01  1.0473e-01 -5.0562e-01 -4.5684e-01\n",
            "  3.7036e-01 -5.9133e-02  7.2232e-01 -6.9780e-02 -1.3442e-01  3.3858e-01\n",
            " -4.9676e-01 -8.6210e-01  1.0365e+00 -1.0119e-01 -2.9805e-01 -5.5003e-01\n",
            "  7.6831e-01  3.1489e-01  7.7338e-01  2.0058e-01 -9.5347e-01  8.3298e-01\n",
            "  5.6453e-01  4.0060e-01 -8.9341e-02 -4.9456e-01]\n"
          ]
        }
      ]
    },
    {
      "cell_type": "code",
      "source": [
        "# Returns the vectorization layer and the vocabulary size.\n",
        "# Note : the vocabulary contains padding and out-of-vocabulary/unknown word\n",
        "def get_vectorize_layer(train_ds):\n",
        "    \n",
        "    vectorize_layer = TextVectorization(output_mode=\"int\")\n",
        "    text_ds = train_ds.map(lambda x, y: x)\n",
        "    vectorize_layer.adapt(text_ds)\n",
        "    \n",
        "    vocab_size = vectorize_layer.vocabulary_size()\n",
        "    \n",
        "    return vectorize_layer, vocab_size"
      ],
      "metadata": {
        "id": "4rfIqcLYTcGU"
      },
      "execution_count": null,
      "outputs": []
    },
    {
      "cell_type": "code",
      "source": [
        "# Returns the embedding_matrix : word vectors for each word of the vocabulary.\n",
        "# The dimension of the word vectors can be 25, 50 or 100.\n",
        "# vectorize_layer : text vectorization layer adapted on the training set.\n",
        "# vocab_size : should be vectorize_layer.vocabulary_size()\n",
        "# embedding_dim : word vector size, can be 25, 50 or 100.\n",
        "def get_embedding_matrix(vectorize_layer, vocab_size, embedding_dim):\n",
        "    \n",
        "    if embedding_dim==25:\n",
        "        embedding = embedding_25d\n",
        "    elif embedding_dim==50:\n",
        "        embedding = embedding_50d\n",
        "    elif embedding_dim==100:\n",
        "        embedding = embedding_100d\n",
        "        \n",
        "    embedding_matrix = np.zeros((vocab_size, embedding_dim)) # size of embedding matrix = vocab_size. No need to add + 1 as the uknown/out-of-vocabulary word is in voca_size\n",
        "\n",
        "    num_words_in_embedding = 0\n",
        "    i = 0\n",
        "    for word in vectorize_layer.get_vocabulary():\n",
        "        embedding_vector = embedding.get(word)\n",
        "        if embedding_vector is not None:\n",
        "            num_words_in_embedding += 1\n",
        "            embedding_matrix[i] = embedding_vector\n",
        "        i+=1\n",
        "        \n",
        "    return embedding_matrix, num_words_in_embedding"
      ],
      "metadata": {
        "id": "gXwmavYYTf75"
      },
      "execution_count": null,
      "outputs": []
    },
    {
      "cell_type": "code",
      "source": [
        ""
      ],
      "metadata": {
        "id": "wA0Mt_FSCtYS"
      },
      "execution_count": null,
      "outputs": []
    }
  ]
}