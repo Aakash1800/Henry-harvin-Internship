{
  "nbformat": 4,
  "nbformat_minor": 0,
  "metadata": {
    "colab": {
      "provenance": []
    },
    "kernelspec": {
      "name": "python3",
      "display_name": "Python 3"
    },
    "language_info": {
      "name": "python"
    }
  },
  "cells": [
    {
      "cell_type": "markdown",
      "source": [
        "\n",
        "\n",
        "A single tweet contains a lot of information related to users, the text of the tweet, created date of the tweet, the\n",
        "location of the tweet and many more fields. This competition's dataset has the following fields:\n",
        "* id - a unique identifier for each tweet\n",
        "* text - the text of the tweet\n",
        "* location - the location the tweet was sent from (may be blank)\n",
        "* keyword - a particular keyword from the tweet (may be blank)\n",
        "* target - in train.csv only, this denotes whether a tweet is about a real disaster (1) or not (0)\n",
        "\n",
        "Tweets can also be retweeted. A retweet is a reposted or forwarded message."
      ],
      "metadata": {
        "id": "QXHdXmAPHUBM"
      }
    },
    {
      "cell_type": "code",
      "execution_count": 1,
      "metadata": {
        "id": "Pdv_4FBJG3yE"
      },
      "outputs": [],
      "source": [
        "# Import libraries\n",
        "import numpy as np\n",
        "import pandas as pd\n",
        "import matplotlib.pyplot as plt\n",
        "import seaborn as sns\n",
        "from IPython.display import HTML\n",
        "import tensorflow as tf\n",
        "from sklearn.model_selection import train_test_split, StratifiedKFold\n",
        "from sklearn.metrics import confusion_matrix, f1_score\n",
        "from tensorflow.keras.layers import TextVectorization\n",
        "from keras.preprocessing.text import Tokenizer\n",
        "from keras_preprocessing.sequence import pad_sequences\n",
        "from tensorflow.keras import layers\n",
        "\n",
        "\n",
        "# Set pandas configuration\n",
        "pd.set_option('display.max_columns', None)\n",
        "pd.set_option('display.max_colwidth', None)\n",
        "\n",
        "# Set constants\n",
        "seed = 1356\n",
        "TUNING_RNN = False\n",
        "TUNING_BRNN = True"
      ]
    },
    {
      "cell_type": "markdown",
      "source": [
        "# 1. Load & clean data"
      ],
      "metadata": {
        "id": "8kzUa-pIHpsi"
      }
    },
    {
      "cell_type": "code",
      "source": [
        "train = pd.read_csv('drive/MyDrive/nlp-getting-started/train.csv')\n",
        "test = pd.read_csv('drive/MyDrive/nlp-getting-started/test.csv')\n",
        "full = pd.concat([train,test]).reset_index()\n",
        "full.drop('index',axis=1,inplace=True)\n",
        "HTML(full.sample(n=5, random_state=42).sort_values(by='id').to_html(index=False)) #using HTML/to_html to hide the index"
      ],
      "metadata": {
        "colab": {
          "base_uri": "https://localhost:8080/",
          "height": 206
        },
        "id": "_0dOv0FjHm3W",
        "outputId": "3f956b27-9c99-4806-f0ff-02d23a21314c"
      },
      "execution_count": 2,
      "outputs": [
        {
          "output_type": "execute_result",
          "data": {
            "text/plain": [
              "<IPython.core.display.HTML object>"
            ],
            "text/html": [
              "<table border=\"1\" class=\"dataframe\">\n",
              "  <thead>\n",
              "    <tr style=\"text-align: right;\">\n",
              "      <th>id</th>\n",
              "      <th>keyword</th>\n",
              "      <th>location</th>\n",
              "      <th>text</th>\n",
              "      <th>target</th>\n",
              "    </tr>\n",
              "  </thead>\n",
              "  <tbody>\n",
              "    <tr>\n",
              "      <td>2039</td>\n",
              "      <td>casualties</td>\n",
              "      <td>NaN</td>\n",
              "      <td>@AlcoholAndMetal + do anything to fix that. Of the few people he had every trusted in his life Charles was one of the casualties.</td>\n",
              "      <td>1.0</td>\n",
              "    </tr>\n",
              "    <tr>\n",
              "      <td>3799</td>\n",
              "      <td>detonate</td>\n",
              "      <td>Nashville, Music City, USA</td>\n",
              "      <td>@HJudeBoudreaux Start your car with it! Or use it to detonate an evil henchman!!</td>\n",
              "      <td>NaN</td>\n",
              "    </tr>\n",
              "    <tr>\n",
              "      <td>4192</td>\n",
              "      <td>drown</td>\n",
              "      <td>Austin, TX</td>\n",
              "      <td>absolute drown your Wagyu steak in heaping piles of moist Smuckers Grape Jam</td>\n",
              "      <td>NaN</td>\n",
              "    </tr>\n",
              "    <tr>\n",
              "      <td>6403</td>\n",
              "      <td>hurricane</td>\n",
              "      <td>The Epicenter, and Beyond</td>\n",
              "      <td>AD Miles 'Hurricane of Fun : The Making of Wet Hot' https://t.co/SBZwRuwuFh</td>\n",
              "      <td>0.0</td>\n",
              "    </tr>\n",
              "    <tr>\n",
              "      <td>8687</td>\n",
              "      <td>sinkhole</td>\n",
              "      <td>NaN</td>\n",
              "      <td>Watch This Giant Sinkhole Form on New York City Street http://t.co/BEnWu5IARa</td>\n",
              "      <td>NaN</td>\n",
              "    </tr>\n",
              "  </tbody>\n",
              "</table>"
            ]
          },
          "metadata": {},
          "execution_count": 2
        }
      ]
    },
    {
      "cell_type": "markdown",
      "source": [
        "Let's build a new dataframe with a column `ori_text` containing the original text, a new column `text` containing the cleaned/processed text and a few additional metadata columns: `user`,`url`, `hashtag`,`emoticon`. Then we can pick randomly 5 records from this dataframe and display them:"
      ],
      "metadata": {
        "id": "Egx2Uz_RJ-s9"
      }
    },
    {
      "cell_type": "code",
      "source": [
        "def clean_data(df):\n",
        "\n",
        "    # Copy the original text before processing it\n",
        "    df['ori_text'] = df['text']\n",
        "\n",
        "    # Add a new tweet meta-data with user + replace @xxx by <user> \n",
        "    df['user'] = df['text'].str.findall('@\\w+')\n",
        "    df['text'] = df['text'].str.replace('@\\w+', '', regex=True)\n",
        "\n",
        "    # Add a new tweet meta-data with url + remove url from the text\n",
        "    df['url'] = df['text'].str.findall('https?://t.co/\\w+')\n",
        "    df['text'] = df['text'].str.replace('https?://t.co/\\w+', '', regex=True)\n",
        "\n",
        "    # Add a new tweet meta-data with emoticons + remove emoticons from the text\n",
        "    # https://support.microsoft.com/fr-fr/office/raccourcis-clavier-d-%C3%A9motic%C3%B4ne-5dbe678c-cef7-4a63-aa62-f07c2f38b267\n",
        "    emoticons_dict = {\n",
        "        'smile': ':-?\\)',             # :) or :-) \n",
        "        'winking': ';-?\\)',           # ;) or ;-)\n",
        "        'playful': ':-?D',            # :D or :-D\n",
        "        'idiot': ':-?P',              # :P or :-P\n",
        "        'sad': ':-?\\(',               # :( or :-(\n",
        "        'surprised': ':-?O|O[_.]O',   # :O or :-O or O_O or O.O\n",
        "        'lol': '[xX]D',               # xD or XD\n",
        "        'crying': ':\\'-?\\(',          # :'( or :'-(  \n",
        "    }\n",
        "\n",
        "    for k in emoticons_dict:\n",
        "        colname = 'emoticon_' + k\n",
        "        df[colname] = df['text'].str.findall(emoticons_dict[k])\n",
        "        df['text'] = df['text'].str.replace(emoticons_dict[k], '', regex=True)\n",
        "\n",
        "    # Replace the columns emoticon_xxx with one column emoticon\n",
        "    df['emoticon']=''\n",
        "    for i in df.index:\n",
        "        for k in emoticons_dict:\n",
        "            colname = 'emoticon_' + k\n",
        "            if(len(df.loc[i][colname])>0):\n",
        "                df.loc[i,'emoticon']=k\n",
        "    \n",
        "    for k in emoticons_dict:\n",
        "        colname = 'emoticon_' + k\n",
        "        df.drop(colname,axis=1,inplace=True)\n",
        "            \n",
        "    # Add a new tweet meta-data with hashtag + remove # from the text \n",
        "    df['hashtag'] = df['text'].str.findall('#\\w+')\n",
        "    repl = lambda h: h[0][1:]\n",
        "    df['text'] = df['text'].str.replace('#\\w+', repl, regex=True)\n",
        "\n",
        "    # Force splitting words appended with slashes (once we removed the url, of course)\n",
        "    df['text'] = df['text'].str.replace('/', ' / ', regex=True)\n",
        "\n",
        "    # Replace &amp; by and\n",
        "    df['text'] = df['text'].str.replace('&amp;', ' and ', regex=True) # &amp;\n",
        "\n",
        "    # Remove &gt; and &lt;\n",
        "    df['text'] = df['text'].str.replace('&[lg]t;', ' ', regex=True) # &gt; &lt;\n",
        "\n",
        "    # Handle sequences like '\\x89ÛÏ'\n",
        "    dec = lambda t: t.encode('ascii', 'ignore').decode('utf-8')\n",
        "    df['text'] = df['text'].apply(lambda text: dec(text))\n",
        "\n",
        "    # Replace \\n by point\n",
        "    df['text'] = df['text'].str.replace('\\n', '.', regex=True) # \\n\n",
        "\n",
        "    # Replace '  ' by ' '\n",
        "    df['text'] = df['text'].str.replace('  ', ' ', regex=True) # multiple spaces\n",
        "    \n",
        "    return df.copy()"
      ],
      "metadata": {
        "id": "NnkstAlkHmxN"
      },
      "execution_count": 3,
      "outputs": []
    },
    {
      "cell_type": "code",
      "source": [
        "full = clean_data(full)\n",
        "\n",
        "# Create the new train and test sets\n",
        "train = full[full['target'].isnull()==False]\n",
        "test = full[full['target'].isnull()]\n",
        "\n",
        "# Let's check the output of our data processing\n",
        "diff = full[full['ori_text']!=full['text']]\n",
        "diff.to_csv('diff.csv')\n",
        "HTML(diff.sample(n=5, random_state=63).sort_values(by='id').to_html(index=False))"
      ],
      "metadata": {
        "colab": {
          "base_uri": "https://localhost:8080/",
          "height": 397
        },
        "id": "rzAMRFuVHmtz",
        "outputId": "51f952bd-7a37-4971-bb91-cae3eacb7bb5"
      },
      "execution_count": 4,
      "outputs": [
        {
          "output_type": "execute_result",
          "data": {
            "text/plain": [
              "<IPython.core.display.HTML object>"
            ],
            "text/html": [
              "<table border=\"1\" class=\"dataframe\">\n",
              "  <thead>\n",
              "    <tr style=\"text-align: right;\">\n",
              "      <th>id</th>\n",
              "      <th>keyword</th>\n",
              "      <th>location</th>\n",
              "      <th>text</th>\n",
              "      <th>target</th>\n",
              "      <th>ori_text</th>\n",
              "      <th>user</th>\n",
              "      <th>url</th>\n",
              "      <th>emoticon</th>\n",
              "      <th>hashtag</th>\n",
              "    </tr>\n",
              "  </thead>\n",
              "  <tbody>\n",
              "    <tr>\n",
              "      <td>525</td>\n",
              "      <td>army</td>\n",
              "      <td>Bowling Green, Ky</td>\n",
              "      <td>Hope the Salvation Army at least gave you a tax receipt.</td>\n",
              "      <td>NaN</td>\n",
              "      <td>Hope the Salvation Army at least gave you a tax receipt.  https://t.co/Ir9c545rZy</td>\n",
              "      <td>[]</td>\n",
              "      <td>[https://t.co/Ir9c545rZy]</td>\n",
              "      <td></td>\n",
              "      <td>[]</td>\n",
              "    </tr>\n",
              "    <tr>\n",
              "      <td>850</td>\n",
              "      <td>bioterror</td>\n",
              "      <td>Washington, D.C., area</td>\n",
              "      <td>Latest fallout from biolab safety lapses: FedEx no longer will transport anthrax and select agent research specimens</td>\n",
              "      <td>NaN</td>\n",
              "      <td>Latest fallout from biolab safety lapses: FedEx no longer will transport anthrax &amp;amp; select agent research specimens http://t.co/4iOOyIbxyo</td>\n",
              "      <td>[]</td>\n",
              "      <td>[http://t.co/4iOOyIbxyo]</td>\n",
              "      <td></td>\n",
              "      <td>[]</td>\n",
              "    </tr>\n",
              "    <tr>\n",
              "      <td>2393</td>\n",
              "      <td>collapsed</td>\n",
              "      <td>Hong Kong</td>\n",
              "      <td>3-pronged inquiry launched into collapsed HongKong furniture retailer DSC</td>\n",
              "      <td>NaN</td>\n",
              "      <td>3-pronged inquiry launched into collapsed #HongKong furniture retailer DSC http://t.co/Tg3ukIsgEN @scmp_news http://t.co/An5LpimNfA</td>\n",
              "      <td>[@scmp_news]</td>\n",
              "      <td>[http://t.co/Tg3ukIsgEN, http://t.co/An5LpimNfA]</td>\n",
              "      <td></td>\n",
              "      <td>[#HongKong]</td>\n",
              "    </tr>\n",
              "    <tr>\n",
              "      <td>6593</td>\n",
              "      <td>inundated</td>\n",
              "      <td>Boston, Massachusetts</td>\n",
              "      <td>Body shops inundated with cars dented by hail... Good news insurance pays... Bad news : you are stuck with deductible !.wcvb</td>\n",
              "      <td>1.0</td>\n",
              "      <td>Body shops inundated with cars dented by hail... Good news insurance pays... Bad news :  you are stuck with deductible !\\n#wcvb</td>\n",
              "      <td>[]</td>\n",
              "      <td>[]</td>\n",
              "      <td></td>\n",
              "      <td>[#wcvb]</td>\n",
              "    </tr>\n",
              "    <tr>\n",
              "      <td>9643</td>\n",
              "      <td>thunderstorm</td>\n",
              "      <td>Tornado Alley, USA</td>\n",
              "      <td>Severe Thunderstorm Warning for Oklahoma County in OK until 10:30pm CDT. okwx</td>\n",
              "      <td>1.0</td>\n",
              "      <td>Severe Thunderstorm Warning for Oklahoma County in OK until 10:30pm CDT. #okwx</td>\n",
              "      <td>[]</td>\n",
              "      <td>[]</td>\n",
              "      <td></td>\n",
              "      <td>[#okwx]</td>\n",
              "    </tr>\n",
              "  </tbody>\n",
              "</table>"
            ]
          },
          "metadata": {},
          "execution_count": 4
        }
      ]
    },
    {
      "cell_type": "markdown",
      "source": [
        "# 2. EDA"
      ],
      "metadata": {
        "id": "rpHHfGdfKdjU"
      }
    },
    {
      "cell_type": "markdown",
      "source": [
        "## 2.1 Basic Insights"
      ],
      "metadata": {
        "id": "ux0JFJuzKpt_"
      }
    },
    {
      "cell_type": "markdown",
      "source": [
        "A quick analysis of this dataset shows:\n",
        "* there are 10876 tweets in the dataset.\n",
        "* the train set has 7613 records (70%) and the test set 3263 (30%).\n",
        "* the train set is fairly balanced (43% / 57%) : 3271 positive examples (disasters) vs 4342 negative examples.\n",
        "* `keyword` and `location` have missing values. \n",
        "* `location` has very likely no predictive power and can be ignored.\n",
        "* `keyword` may have some predictive power."
      ],
      "metadata": {
        "id": "FnG8yy-UKgUH"
      }
    },
    {
      "cell_type": "markdown",
      "source": [
        "## 2.2 Retweets"
      ],
      "metadata": {
        "id": "EWsYC-xOKmDb"
      }
    },
    {
      "cell_type": "markdown",
      "source": [
        "In the training set, there are 305 tweet texts that are repeated twice or more:"
      ],
      "metadata": {
        "id": "iIS4irFEKrDp"
      }
    },
    {
      "cell_type": "code",
      "source": [
        "train.index"
      ],
      "metadata": {
        "colab": {
          "base_uri": "https://localhost:8080/"
        },
        "id": "h1hhZV6Huqgd",
        "outputId": "4de8e2b2-570a-440a-b9ad-15d1a8fdcc54"
      },
      "execution_count": 5,
      "outputs": [
        {
          "output_type": "execute_result",
          "data": {
            "text/plain": [
              "Int64Index([   0,    1,    2,    3,    4,    5,    6,    7,    8,    9,\n",
              "            ...\n",
              "            7603, 7604, 7605, 7606, 7607, 7608, 7609, 7610, 7611, 7612],\n",
              "           dtype='int64', length=7613)"
            ]
          },
          "metadata": {},
          "execution_count": 5
        }
      ]
    },
    {
      "cell_type": "code",
      "source": [
        "retweets = {}\n",
        "for i in train.index:\n",
        "    t = train.iloc[i]['text']\n",
        "    indexes = train[(train['text']==t)].index.values\n",
        "    if len(indexes)>1:\n",
        "        retweets[indexes[0]]=indexes # using indexes[0] is a simple trick to avoid duplicates\n",
        "#retweets\n",
        "retweets_viz = pd.DataFrame({'tweet id': retweets.keys(), '# repetitions': retweets.values()})\n",
        "retweets_viz['tweet id'] = retweets_viz['tweet id'].apply(lambda index: train.iloc[index]['id'])\n",
        "retweets_viz['# repetitions'] = retweets_viz['# repetitions'].apply(lambda lst: len(lst))\n",
        "#retweets_viz\n",
        "fig, ax = plt.subplots(figsize=(20, 5))\n",
        "sns.barplot(data=retweets_viz, x='tweet id', y='# repetitions', ax=ax)\n",
        "plt.xticks(rotation=90, fontsize=6)\n",
        "plt.show()"
      ],
      "metadata": {
        "colab": {
          "base_uri": "https://localhost:8080/",
          "height": 345
        },
        "id": "8CNTfgnbHmqm",
        "outputId": "b38d529f-df2a-4193-e96c-af96788049f4"
      },
      "execution_count": 6,
      "outputs": [
        {
          "output_type": "display_data",
          "data": {
            "text/plain": [
              "<Figure size 1440x360 with 1 Axes>"
            ],
            "image/png": "[encoded data removed]"
          },
          "metadata": {
            "needs_background": "light"
          }
        }
      ]
    },
    {
      "cell_type": "code",
      "source": [
        "retweets_viz"
      ],
      "metadata": {
        "colab": {
          "base_uri": "https://localhost:8080/",
          "height": 424
        },
        "id": "tXejgpZr3UdI",
        "outputId": "0e25be72-4447-4a96-fc86-6c434ef8b1f6"
      },
      "execution_count": 7,
      "outputs": [
        {
          "output_type": "execute_result",
          "data": {
            "text/plain": [
              "     tweet id  # repetitions\n",
              "0          59              2\n",
              "1         151              7\n",
              "2         163              2\n",
              "3         199              2\n",
              "4         205              2\n",
              "..        ...            ...\n",
              "300     10592              2\n",
              "301     10620              2\n",
              "302     10735             20\n",
              "303     10747              3\n",
              "304     10754              3\n",
              "\n",
              "[305 rows x 2 columns]"
            ],
            "text/html": [
              "\n",
              "  <div id=\"df-bce5f0a3-0488-4061-a185-a980cf4f5e9a\">\n",
              "    <div class=\"colab-df-container\">\n",
              "      <div>\n",
              "<style scoped>\n",
              "    .dataframe tbody tr th:only-of-type {\n",
              "        vertical-align: middle;\n",
              "    }\n",
              "\n",
              "    .dataframe tbody tr th {\n",
              "        vertical-align: top;\n",
              "    }\n",
              "\n",
              "    .dataframe thead th {\n",
              "        text-align: right;\n",
              "    }\n",
              "</style>\n",
              "<table border=\"1\" class=\"dataframe\">\n",
              "  <thead>\n",
              "    <tr style=\"text-align: right;\">\n",
              "      <th></th>\n",
              "      <th>tweet id</th>\n",
              "      <th># repetitions</th>\n",
              "    </tr>\n",
              "  </thead>\n",
              "  <tbody>\n",
              "    <tr>\n",
              "      <th>0</th>\n",
              "      <td>59</td>\n",
              "      <td>2</td>\n",
              "    </tr>\n",
              "    <tr>\n",
              "      <th>1</th>\n",
              "      <td>151</td>\n",
              "      <td>7</td>\n",
              "    </tr>\n",
              "    <tr>\n",
              "      <th>2</th>\n",
              "      <td>163</td>\n",
              "      <td>2</td>\n",
              "    </tr>\n",
              "    <tr>\n",
              "      <th>3</th>\n",
              "      <td>199</td>\n",
              "      <td>2</td>\n",
              "    </tr>\n",
              "    <tr>\n",
              "      <th>4</th>\n",
              "      <td>205</td>\n",
              "      <td>2</td>\n",
              "    </tr>\n",
              "    <tr>\n",
              "      <th>...</th>\n",
              "      <td>...</td>\n",
              "      <td>...</td>\n",
              "    </tr>\n",
              "    <tr>\n",
              "      <th>300</th>\n",
              "      <td>10592</td>\n",
              "      <td>2</td>\n",
              "    </tr>\n",
              "    <tr>\n",
              "      <th>301</th>\n",
              "      <td>10620</td>\n",
              "      <td>2</td>\n",
              "    </tr>\n",
              "    <tr>\n",
              "      <th>302</th>\n",
              "      <td>10735</td>\n",
              "      <td>20</td>\n",
              "    </tr>\n",
              "    <tr>\n",
              "      <th>303</th>\n",
              "      <td>10747</td>\n",
              "      <td>3</td>\n",
              "    </tr>\n",
              "    <tr>\n",
              "      <th>304</th>\n",
              "      <td>10754</td>\n",
              "      <td>3</td>\n",
              "    </tr>\n",
              "  </tbody>\n",
              "</table>\n",
              "<p>305 rows × 2 columns</p>\n",
              "</div>\n",
              "      <button class=\"colab-df-convert\" onclick=\"convertToInteractive('df-bce5f0a3-0488-4061-a185-a980cf4f5e9a')\"\n",
              "              title=\"Convert this dataframe to an interactive table.\"\n",
              "              style=\"display:none;\">\n",
              "        \n",
              "  <svg xmlns=\"http://www.w3.org/2000/svg\" height=\"24px\"viewBox=\"0 0 24 24\"\n",
              "       width=\"24px\">\n",
              "    <path d=\"M0 0h24v24H0V0z\" fill=\"none\"/>\n",
              "    <path d=\"M18.56 5.44l.94 2.06.94-2.06 2.06-.94-2.06-.94-.94-2.06-.94 2.06-2.06.94zm-11 1L8.5 8.5l.94-2.06 2.06-.94-2.06-.94L8.5 2.5l-.94 2.06-2.06.94zm10 10l.94 2.06.94-2.06 2.06-.94-2.06-.94-.94-2.06-.94 2.06-2.06.94z\"/><path d=\"M17.41 7.96l-1.37-1.37c-.4-.4-.92-.59-1.43-.59-.52 0-1.04.2-1.43.59L10.3 9.45l-7.72 7.72c-.78.78-.78 2.05 0 2.83L4 21.41c.39.39.9.59 1.41.59.51 0 1.02-.2 1.41-.59l7.78-7.78 2.81-2.81c.8-.78.8-2.07 0-2.86zM5.41 20L4 18.59l7.72-7.72 1.47 1.35L5.41 20z\"/>\n",
              "  </svg>\n",
              "      </button>\n",
              "      \n",
              "  <style>\n",
              "    .colab-df-container {\n",
              "      display:flex;\n",
              "      flex-wrap:wrap;\n",
              "      gap: 12px;\n",
              "    }\n",
              "\n",
              "    .colab-df-convert {\n",
              "      background-color: #E8F0FE;\n",
              "      border: none;\n",
              "      border-radius: 50%;\n",
              "      cursor: pointer;\n",
              "      display: none;\n",
              "      fill: #1967D2;\n",
              "      height: 32px;\n",
              "      padding: 0 0 0 0;\n",
              "      width: 32px;\n",
              "    }\n",
              "\n",
              "    .colab-df-convert:hover {\n",
              "      background-color: #E2EBFA;\n",
              "      box-shadow: 0px 1px 2px rgba(60, 64, 67, 0.3), 0px 1px 3px 1px rgba(60, 64, 67, 0.15);\n",
              "      fill: #174EA6;\n",
              "    }\n",
              "\n",
              "    [theme=dark] .colab-df-convert {\n",
              "      background-color: #3B4455;\n",
              "      fill: #D2E3FC;\n",
              "    }\n",
              "\n",
              "    [theme=dark] .colab-df-convert:hover {\n",
              "      background-color: #434B5C;\n",
              "      box-shadow: 0px 1px 3px 1px rgba(0, 0, 0, 0.15);\n",
              "      filter: drop-shadow(0px 1px 2px rgba(0, 0, 0, 0.3));\n",
              "      fill: #FFFFFF;\n",
              "    }\n",
              "  </style>\n",
              "\n",
              "      <script>\n",
              "        const buttonEl =\n",
              "          document.querySelector('#df-bce5f0a3-0488-4061-a185-a980cf4f5e9a button.colab-df-convert');\n",
              "        buttonEl.style.display =\n",
              "          google.colab.kernel.accessAllowed ? 'block' : 'none';\n",
              "\n",
              "        async function convertToInteractive(key) {\n",
              "          const element = document.querySelector('#df-bce5f0a3-0488-4061-a185-a980cf4f5e9a');\n",
              "          const dataTable =\n",
              "            await google.colab.kernel.invokeFunction('convertToInteractive',\n",
              "                                                     [key], {});\n",
              "          if (!dataTable) return;\n",
              "\n",
              "          const docLinkHtml = 'Like what you see? Visit the ' +\n",
              "            '<a target=\"_blank\" href=https://colab.research.google.com/notebooks/data_table.ipynb>data table notebook</a>'\n",
              "            + ' to learn more about interactive tables.';\n",
              "          element.innerHTML = '';\n",
              "          dataTable['output_type'] = 'display_data';\n",
              "          await google.colab.output.renderOutput(dataTable, element);\n",
              "          const docLink = document.createElement('div');\n",
              "          docLink.innerHTML = docLinkHtml;\n",
              "          element.appendChild(docLink);\n",
              "        }\n",
              "      </script>\n",
              "    </div>\n",
              "  </div>\n",
              "  "
            ]
          },
          "metadata": {},
          "execution_count": 7
        }
      ]
    },
    {
      "cell_type": "code",
      "source": [
        "#retweets"
      ],
      "metadata": {
        "id": "2zwtEfEaylSq"
      },
      "execution_count": 38,
      "outputs": []
    },
    {
      "cell_type": "markdown",
      "source": [
        "E.g. let's display the tweet with id=881 and its retweets. One interesting (problematic) thing to notice is that the same tweets have different targets!!"
      ],
      "metadata": {
        "id": "zAIKnhn-K5i-"
      }
    },
    {
      "cell_type": "code",
      "source": [
        "t = train[train['id']==881]['text'].item()\n",
        "HTML(train[train['text']==t].to_html(index=False))"
      ],
      "metadata": {
        "colab": {
          "base_uri": "https://localhost:8080/",
          "height": 175
        },
        "id": "7TlAC_bMHmnD",
        "outputId": "7529b392-28f6-4604-bf93-193c362f48de"
      },
      "execution_count": 9,
      "outputs": [
        {
          "output_type": "execute_result",
          "data": {
            "text/plain": [
              "<IPython.core.display.HTML object>"
            ],
            "text/html": [
              "<table border=\"1\" class=\"dataframe\">\n",
              "  <thead>\n",
              "    <tr style=\"text-align: right;\">\n",
              "      <th>id</th>\n",
              "      <th>keyword</th>\n",
              "      <th>location</th>\n",
              "      <th>text</th>\n",
              "      <th>target</th>\n",
              "      <th>ori_text</th>\n",
              "      <th>user</th>\n",
              "      <th>url</th>\n",
              "      <th>emoticon</th>\n",
              "      <th>hashtag</th>\n",
              "    </tr>\n",
              "  </thead>\n",
              "  <tbody>\n",
              "    <tr>\n",
              "      <td>881</td>\n",
              "      <td>bioterrorism</td>\n",
              "      <td>NaN</td>\n",
              "      <td>To fight bioterrorism sir.</td>\n",
              "      <td>1.0</td>\n",
              "      <td>To fight bioterrorism sir.</td>\n",
              "      <td>[]</td>\n",
              "      <td>[]</td>\n",
              "      <td></td>\n",
              "      <td>[]</td>\n",
              "    </tr>\n",
              "    <tr>\n",
              "      <td>898</td>\n",
              "      <td>bioterrorism</td>\n",
              "      <td>NaN</td>\n",
              "      <td>To fight bioterrorism sir.</td>\n",
              "      <td>0.0</td>\n",
              "      <td>To fight bioterrorism sir.</td>\n",
              "      <td>[]</td>\n",
              "      <td>[]</td>\n",
              "      <td></td>\n",
              "      <td>[]</td>\n",
              "    </tr>\n",
              "    <tr>\n",
              "      <td>907</td>\n",
              "      <td>bioterrorism</td>\n",
              "      <td>NaN</td>\n",
              "      <td>To fight bioterrorism sir.</td>\n",
              "      <td>1.0</td>\n",
              "      <td>To fight bioterrorism sir.</td>\n",
              "      <td>[]</td>\n",
              "      <td>[]</td>\n",
              "      <td></td>\n",
              "      <td>[]</td>\n",
              "    </tr>\n",
              "    <tr>\n",
              "      <td>916</td>\n",
              "      <td>bioterrorism</td>\n",
              "      <td>NaN</td>\n",
              "      <td>To fight bioterrorism sir.</td>\n",
              "      <td>0.0</td>\n",
              "      <td>To fight bioterrorism sir.</td>\n",
              "      <td>[]</td>\n",
              "      <td>[]</td>\n",
              "      <td></td>\n",
              "      <td>[]</td>\n",
              "    </tr>\n",
              "  </tbody>\n",
              "</table>"
            ]
          },
          "metadata": {},
          "execution_count": 9
        }
      ]
    },
    {
      "cell_type": "markdown",
      "source": [
        "Let's check the extent of the problem: 71 tweet texts are repeated twice or more and have inconsistent labels:"
      ],
      "metadata": {
        "id": "QHWXL1PdLDTz"
      }
    },
    {
      "cell_type": "code",
      "source": [
        "retweets_target={}\n",
        "target_0 = 0\n",
        "target_1 = 0\n",
        "for k in retweets.keys():\n",
        "    for i in range(0, len(retweets[k])):\n",
        "        target = train.iloc[retweets[k][i]]['target']\n",
        "        if target==0:\n",
        "            target_0 = target_0 + 1\n",
        "        else:\n",
        "            target_1 = target_1 + 1\n",
        "    retweets_target[k] = [target_0,target_1]\n",
        "    target_0 = 0\n",
        "    target_1 = 0\n",
        "#retweets_target\n",
        "\n",
        "retweets_target_viz = pd.DataFrame({'tweet id': retweets_target.keys(), 'target 0': retweets_target.values(), 'target 1': retweets_target.values()})\n",
        "retweets_target_viz['tweet id'] = retweets_target_viz['tweet id'].apply(lambda index: train.iloc[index]['id'])\n",
        "retweets_target_viz['target 0'] = retweets_target_viz['target 0'].apply(lambda lst: lst[0])\n",
        "retweets_target_viz['target 1'] = retweets_target_viz['target 1'].apply(lambda lst: lst[1])\n",
        "#retweets_target_viz\n",
        "\n",
        "inconsistent_labels = retweets_target_viz[(retweets_target_viz['target 0']>0) & (retweets_target_viz['target 1']>0)]\n",
        "#inconsistent_labels\n",
        "\n",
        "inconsistent_labels_viz = inconsistent_labels.melt('tweet id', var_name='target 0', value_name='target 1')\n",
        "inconsistent_labels_viz = inconsistent_labels_viz.rename({'target 0': 'target', 'target 1': '# samples'}, axis=1)\n",
        "#inconsistent_labels_viz[inconsistent_labels_viz['tweet id']==349]\n",
        "\n",
        "fig, ax = plt.subplots(figsize=(20, 5))\n",
        "ax = sns.barplot(data=inconsistent_labels_viz, x='tweet id', y='# samples', ax=ax)\n",
        "ax.set_xticklabels(ax.get_xticklabels(), rotation=90)\n",
        "plt.show()"
      ],
      "metadata": {
        "colab": {
          "base_uri": "https://localhost:8080/",
          "height": 410
        },
        "id": "HbupsOxIHme-",
        "outputId": "d5de7828-c8e7-4da9-8cee-7528838c04fa"
      },
      "execution_count": 10,
      "outputs": [
        {
          "output_type": "stream",
          "name": "stderr",
          "text": [
            "<ipython-input-10-74bf477b20e8>:25: FutureWarning: This dataframe has a column name that matches the 'value_name' column name of the resulting Dataframe. In the future this will raise an error, please set the 'value_name' parameter of DataFrame.melt to a unique name.\n",
            "  inconsistent_labels_viz = inconsistent_labels.melt('tweet id', var_name='target 0', value_name='target 1')\n"
          ]
        },
        {
          "output_type": "display_data",
          "data": {
            "text/plain": [
              "<Figure size 1440x360 with 1 Axes>"
            ],
            "image/png": "[encoded data removed]"
          },
          "metadata": {
            "needs_background": "light"
          }
        }
      ]
    },
    {
      "cell_type": "markdown",
      "source": [
        "Now, let's find tweet text in train set that are also in test set:"
      ],
      "metadata": {
        "id": "94MLChboLNj0"
      }
    },
    {
      "cell_type": "code",
      "source": [
        "inconsistent_labels"
      ],
      "metadata": {
        "colab": {
          "base_uri": "https://localhost:8080/",
          "height": 424
        },
        "id": "AvUtkF0V0ow0",
        "outputId": "8da07712-5ce7-4692-9a0d-30214ad5f84e"
      },
      "execution_count": 11,
      "outputs": [
        {
          "output_type": "execute_result",
          "data": {
            "text/plain": [
              "     tweet id  target 0  target 1\n",
              "10        349         5         3\n",
              "11        353         1         1\n",
              "12        365         1         1\n",
              "21        796         1         1\n",
              "23        834         1         3\n",
              "..        ...       ...       ...\n",
              "273      9499         1         1\n",
              "278      9763         3         2\n",
              "280      9779         1         1\n",
              "285     10110         2         1\n",
              "297     10576         1         1\n",
              "\n",
              "[71 rows x 3 columns]"
            ],
            "text/html": [
              "\n",
              "  <div id=\"df-961306cd-838f-4b7a-b51d-f7d1c4050775\">\n",
              "    <div class=\"colab-df-container\">\n",
              "      <div>\n",
              "<style scoped>\n",
              "    .dataframe tbody tr th:only-of-type {\n",
              "        vertical-align: middle;\n",
              "    }\n",
              "\n",
              "    .dataframe tbody tr th {\n",
              "        vertical-align: top;\n",
              "    }\n",
              "\n",
              "    .dataframe thead th {\n",
              "        text-align: right;\n",
              "    }\n",
              "</style>\n",
              "<table border=\"1\" class=\"dataframe\">\n",
              "  <thead>\n",
              "    <tr style=\"text-align: right;\">\n",
              "      <th></th>\n",
              "      <th>tweet id</th>\n",
              "      <th>target 0</th>\n",
              "      <th>target 1</th>\n",
              "    </tr>\n",
              "  </thead>\n",
              "  <tbody>\n",
              "    <tr>\n",
              "      <th>10</th>\n",
              "      <td>349</td>\n",
              "      <td>5</td>\n",
              "      <td>3</td>\n",
              "    </tr>\n",
              "    <tr>\n",
              "      <th>11</th>\n",
              "      <td>353</td>\n",
              "      <td>1</td>\n",
              "      <td>1</td>\n",
              "    </tr>\n",
              "    <tr>\n",
              "      <th>12</th>\n",
              "      <td>365</td>\n",
              "      <td>1</td>\n",
              "      <td>1</td>\n",
              "    </tr>\n",
              "    <tr>\n",
              "      <th>21</th>\n",
              "      <td>796</td>\n",
              "      <td>1</td>\n",
              "      <td>1</td>\n",
              "    </tr>\n",
              "    <tr>\n",
              "      <th>23</th>\n",
              "      <td>834</td>\n",
              "      <td>1</td>\n",
              "      <td>3</td>\n",
              "    </tr>\n",
              "    <tr>\n",
              "      <th>...</th>\n",
              "      <td>...</td>\n",
              "      <td>...</td>\n",
              "      <td>...</td>\n",
              "    </tr>\n",
              "    <tr>\n",
              "      <th>273</th>\n",
              "      <td>9499</td>\n",
              "      <td>1</td>\n",
              "      <td>1</td>\n",
              "    </tr>\n",
              "    <tr>\n",
              "      <th>278</th>\n",
              "      <td>9763</td>\n",
              "      <td>3</td>\n",
              "      <td>2</td>\n",
              "    </tr>\n",
              "    <tr>\n",
              "      <th>280</th>\n",
              "      <td>9779</td>\n",
              "      <td>1</td>\n",
              "      <td>1</td>\n",
              "    </tr>\n",
              "    <tr>\n",
              "      <th>285</th>\n",
              "      <td>10110</td>\n",
              "      <td>2</td>\n",
              "      <td>1</td>\n",
              "    </tr>\n",
              "    <tr>\n",
              "      <th>297</th>\n",
              "      <td>10576</td>\n",
              "      <td>1</td>\n",
              "      <td>1</td>\n",
              "    </tr>\n",
              "  </tbody>\n",
              "</table>\n",
              "<p>71 rows × 3 columns</p>\n",
              "</div>\n",
              "      <button class=\"colab-df-convert\" onclick=\"convertToInteractive('df-961306cd-838f-4b7a-b51d-f7d1c4050775')\"\n",
              "              title=\"Convert this dataframe to an interactive table.\"\n",
              "              style=\"display:none;\">\n",
              "        \n",
              "  <svg xmlns=\"http://www.w3.org/2000/svg\" height=\"24px\"viewBox=\"0 0 24 24\"\n",
              "       width=\"24px\">\n",
              "    <path d=\"M0 0h24v24H0V0z\" fill=\"none\"/>\n",
              "    <path d=\"M18.56 5.44l.94 2.06.94-2.06 2.06-.94-2.06-.94-.94-2.06-.94 2.06-2.06.94zm-11 1L8.5 8.5l.94-2.06 2.06-.94-2.06-.94L8.5 2.5l-.94 2.06-2.06.94zm10 10l.94 2.06.94-2.06 2.06-.94-2.06-.94-.94-2.06-.94 2.06-2.06.94z\"/><path d=\"M17.41 7.96l-1.37-1.37c-.4-.4-.92-.59-1.43-.59-.52 0-1.04.2-1.43.59L10.3 9.45l-7.72 7.72c-.78.78-.78 2.05 0 2.83L4 21.41c.39.39.9.59 1.41.59.51 0 1.02-.2 1.41-.59l7.78-7.78 2.81-2.81c.8-.78.8-2.07 0-2.86zM5.41 20L4 18.59l7.72-7.72 1.47 1.35L5.41 20z\"/>\n",
              "  </svg>\n",
              "      </button>\n",
              "      \n",
              "  <style>\n",
              "    .colab-df-container {\n",
              "      display:flex;\n",
              "      flex-wrap:wrap;\n",
              "      gap: 12px;\n",
              "    }\n",
              "\n",
              "    .colab-df-convert {\n",
              "      background-color: #E8F0FE;\n",
              "      border: none;\n",
              "      border-radius: 50%;\n",
              "      cursor: pointer;\n",
              "      display: none;\n",
              "      fill: #1967D2;\n",
              "      height: 32px;\n",
              "      padding: 0 0 0 0;\n",
              "      width: 32px;\n",
              "    }\n",
              "\n",
              "    .colab-df-convert:hover {\n",
              "      background-color: #E2EBFA;\n",
              "      box-shadow: 0px 1px 2px rgba(60, 64, 67, 0.3), 0px 1px 3px 1px rgba(60, 64, 67, 0.15);\n",
              "      fill: #174EA6;\n",
              "    }\n",
              "\n",
              "    [theme=dark] .colab-df-convert {\n",
              "      background-color: #3B4455;\n",
              "      fill: #D2E3FC;\n",
              "    }\n",
              "\n",
              "    [theme=dark] .colab-df-convert:hover {\n",
              "      background-color: #434B5C;\n",
              "      box-shadow: 0px 1px 3px 1px rgba(0, 0, 0, 0.15);\n",
              "      filter: drop-shadow(0px 1px 2px rgba(0, 0, 0, 0.3));\n",
              "      fill: #FFFFFF;\n",
              "    }\n",
              "  </style>\n",
              "\n",
              "      <script>\n",
              "        const buttonEl =\n",
              "          document.querySelector('#df-961306cd-838f-4b7a-b51d-f7d1c4050775 button.colab-df-convert');\n",
              "        buttonEl.style.display =\n",
              "          google.colab.kernel.accessAllowed ? 'block' : 'none';\n",
              "\n",
              "        async function convertToInteractive(key) {\n",
              "          const element = document.querySelector('#df-961306cd-838f-4b7a-b51d-f7d1c4050775');\n",
              "          const dataTable =\n",
              "            await google.colab.kernel.invokeFunction('convertToInteractive',\n",
              "                                                     [key], {});\n",
              "          if (!dataTable) return;\n",
              "\n",
              "          const docLinkHtml = 'Like what you see? Visit the ' +\n",
              "            '<a target=\"_blank\" href=https://colab.research.google.com/notebooks/data_table.ipynb>data table notebook</a>'\n",
              "            + ' to learn more about interactive tables.';\n",
              "          element.innerHTML = '';\n",
              "          dataTable['output_type'] = 'display_data';\n",
              "          await google.colab.output.renderOutput(dataTable, element);\n",
              "          const docLink = document.createElement('div');\n",
              "          docLink.innerHTML = docLinkHtml;\n",
              "          element.appendChild(docLink);\n",
              "        }\n",
              "      </script>\n",
              "    </div>\n",
              "  </div>\n",
              "  "
            ]
          },
          "metadata": {},
          "execution_count": 11
        }
      ]
    },
    {
      "cell_type": "code",
      "source": [
        "retweets_target_viz"
      ],
      "metadata": {
        "colab": {
          "base_uri": "https://localhost:8080/",
          "height": 424
        },
        "id": "pfuuO3Vh1eRD",
        "outputId": "6f1ab348-2a75-4377-e87e-7a1629718693"
      },
      "execution_count": 12,
      "outputs": [
        {
          "output_type": "execute_result",
          "data": {
            "text/plain": [
              "     tweet id  target 0  target 1\n",
              "0          59         2         0\n",
              "1         151         7         0\n",
              "2         163         2         0\n",
              "3         199         0         2\n",
              "4         205         0         2\n",
              "..        ...       ...       ...\n",
              "300     10592         0         2\n",
              "301     10620         0         2\n",
              "302     10735         0        20\n",
              "303     10747         0         3\n",
              "304     10754         0         3\n",
              "\n",
              "[305 rows x 3 columns]"
            ],
            "text/html": [
              "\n",
              "  <div id=\"df-6a183d99-467c-438c-ba6d-ef3fbe17eebd\">\n",
              "    <div class=\"colab-df-container\">\n",
              "      <div>\n",
              "<style scoped>\n",
              "    .dataframe tbody tr th:only-of-type {\n",
              "        vertical-align: middle;\n",
              "    }\n",
              "\n",
              "    .dataframe tbody tr th {\n",
              "        vertical-align: top;\n",
              "    }\n",
              "\n",
              "    .dataframe thead th {\n",
              "        text-align: right;\n",
              "    }\n",
              "</style>\n",
              "<table border=\"1\" class=\"dataframe\">\n",
              "  <thead>\n",
              "    <tr style=\"text-align: right;\">\n",
              "      <th></th>\n",
              "      <th>tweet id</th>\n",
              "      <th>target 0</th>\n",
              "      <th>target 1</th>\n",
              "    </tr>\n",
              "  </thead>\n",
              "  <tbody>\n",
              "    <tr>\n",
              "      <th>0</th>\n",
              "      <td>59</td>\n",
              "      <td>2</td>\n",
              "      <td>0</td>\n",
              "    </tr>\n",
              "    <tr>\n",
              "      <th>1</th>\n",
              "      <td>151</td>\n",
              "      <td>7</td>\n",
              "      <td>0</td>\n",
              "    </tr>\n",
              "    <tr>\n",
              "      <th>2</th>\n",
              "      <td>163</td>\n",
              "      <td>2</td>\n",
              "      <td>0</td>\n",
              "    </tr>\n",
              "    <tr>\n",
              "      <th>3</th>\n",
              "      <td>199</td>\n",
              "      <td>0</td>\n",
              "      <td>2</td>\n",
              "    </tr>\n",
              "    <tr>\n",
              "      <th>4</th>\n",
              "      <td>205</td>\n",
              "      <td>0</td>\n",
              "      <td>2</td>\n",
              "    </tr>\n",
              "    <tr>\n",
              "      <th>...</th>\n",
              "      <td>...</td>\n",
              "      <td>...</td>\n",
              "      <td>...</td>\n",
              "    </tr>\n",
              "    <tr>\n",
              "      <th>300</th>\n",
              "      <td>10592</td>\n",
              "      <td>0</td>\n",
              "      <td>2</td>\n",
              "    </tr>\n",
              "    <tr>\n",
              "      <th>301</th>\n",
              "      <td>10620</td>\n",
              "      <td>0</td>\n",
              "      <td>2</td>\n",
              "    </tr>\n",
              "    <tr>\n",
              "      <th>302</th>\n",
              "      <td>10735</td>\n",
              "      <td>0</td>\n",
              "      <td>20</td>\n",
              "    </tr>\n",
              "    <tr>\n",
              "      <th>303</th>\n",
              "      <td>10747</td>\n",
              "      <td>0</td>\n",
              "      <td>3</td>\n",
              "    </tr>\n",
              "    <tr>\n",
              "      <th>304</th>\n",
              "      <td>10754</td>\n",
              "      <td>0</td>\n",
              "      <td>3</td>\n",
              "    </tr>\n",
              "  </tbody>\n",
              "</table>\n",
              "<p>305 rows × 3 columns</p>\n",
              "</div>\n",
              "      <button class=\"colab-df-convert\" onclick=\"convertToInteractive('df-6a183d99-467c-438c-ba6d-ef3fbe17eebd')\"\n",
              "              title=\"Convert this dataframe to an interactive table.\"\n",
              "              style=\"display:none;\">\n",
              "        \n",
              "  <svg xmlns=\"http://www.w3.org/2000/svg\" height=\"24px\"viewBox=\"0 0 24 24\"\n",
              "       width=\"24px\">\n",
              "    <path d=\"M0 0h24v24H0V0z\" fill=\"none\"/>\n",
              "    <path d=\"M18.56 5.44l.94 2.06.94-2.06 2.06-.94-2.06-.94-.94-2.06-.94 2.06-2.06.94zm-11 1L8.5 8.5l.94-2.06 2.06-.94-2.06-.94L8.5 2.5l-.94 2.06-2.06.94zm10 10l.94 2.06.94-2.06 2.06-.94-2.06-.94-.94-2.06-.94 2.06-2.06.94z\"/><path d=\"M17.41 7.96l-1.37-1.37c-.4-.4-.92-.59-1.43-.59-.52 0-1.04.2-1.43.59L10.3 9.45l-7.72 7.72c-.78.78-.78 2.05 0 2.83L4 21.41c.39.39.9.59 1.41.59.51 0 1.02-.2 1.41-.59l7.78-7.78 2.81-2.81c.8-.78.8-2.07 0-2.86zM5.41 20L4 18.59l7.72-7.72 1.47 1.35L5.41 20z\"/>\n",
              "  </svg>\n",
              "      </button>\n",
              "      \n",
              "  <style>\n",
              "    .colab-df-container {\n",
              "      display:flex;\n",
              "      flex-wrap:wrap;\n",
              "      gap: 12px;\n",
              "    }\n",
              "\n",
              "    .colab-df-convert {\n",
              "      background-color: #E8F0FE;\n",
              "      border: none;\n",
              "      border-radius: 50%;\n",
              "      cursor: pointer;\n",
              "      display: none;\n",
              "      fill: #1967D2;\n",
              "      height: 32px;\n",
              "      padding: 0 0 0 0;\n",
              "      width: 32px;\n",
              "    }\n",
              "\n",
              "    .colab-df-convert:hover {\n",
              "      background-color: #E2EBFA;\n",
              "      box-shadow: 0px 1px 2px rgba(60, 64, 67, 0.3), 0px 1px 3px 1px rgba(60, 64, 67, 0.15);\n",
              "      fill: #174EA6;\n",
              "    }\n",
              "\n",
              "    [theme=dark] .colab-df-convert {\n",
              "      background-color: #3B4455;\n",
              "      fill: #D2E3FC;\n",
              "    }\n",
              "\n",
              "    [theme=dark] .colab-df-convert:hover {\n",
              "      background-color: #434B5C;\n",
              "      box-shadow: 0px 1px 3px 1px rgba(0, 0, 0, 0.15);\n",
              "      filter: drop-shadow(0px 1px 2px rgba(0, 0, 0, 0.3));\n",
              "      fill: #FFFFFF;\n",
              "    }\n",
              "  </style>\n",
              "\n",
              "      <script>\n",
              "        const buttonEl =\n",
              "          document.querySelector('#df-6a183d99-467c-438c-ba6d-ef3fbe17eebd button.colab-df-convert');\n",
              "        buttonEl.style.display =\n",
              "          google.colab.kernel.accessAllowed ? 'block' : 'none';\n",
              "\n",
              "        async function convertToInteractive(key) {\n",
              "          const element = document.querySelector('#df-6a183d99-467c-438c-ba6d-ef3fbe17eebd');\n",
              "          const dataTable =\n",
              "            await google.colab.kernel.invokeFunction('convertToInteractive',\n",
              "                                                     [key], {});\n",
              "          if (!dataTable) return;\n",
              "\n",
              "          const docLinkHtml = 'Like what you see? Visit the ' +\n",
              "            '<a target=\"_blank\" href=https://colab.research.google.com/notebooks/data_table.ipynb>data table notebook</a>'\n",
              "            + ' to learn more about interactive tables.';\n",
              "          element.innerHTML = '';\n",
              "          dataTable['output_type'] = 'display_data';\n",
              "          await google.colab.output.renderOutput(dataTable, element);\n",
              "          const docLink = document.createElement('div');\n",
              "          docLink.innerHTML = docLinkHtml;\n",
              "          element.appendChild(docLink);\n",
              "        }\n",
              "      </script>\n",
              "    </div>\n",
              "  </div>\n",
              "  "
            ]
          },
          "metadata": {},
          "execution_count": 12
        }
      ]
    },
    {
      "cell_type": "code",
      "source": [
        "inconsistent_labels_viz"
      ],
      "metadata": {
        "colab": {
          "base_uri": "https://localhost:8080/",
          "height": 424
        },
        "id": "XdPG9Hm41ux3",
        "outputId": "982107f8-1295-4268-823d-fb4dfd741490"
      },
      "execution_count": 13,
      "outputs": [
        {
          "output_type": "execute_result",
          "data": {
            "text/plain": [
              "     tweet id    target  # samples\n",
              "0         349  target 0          5\n",
              "1         353  target 0          1\n",
              "2         365  target 0          1\n",
              "3         796  target 0          1\n",
              "4         834  target 0          1\n",
              "..        ...       ...        ...\n",
              "137      9499  target 1          1\n",
              "138      9763  target 1          2\n",
              "139      9779  target 1          1\n",
              "140     10110  target 1          1\n",
              "141     10576  target 1          1\n",
              "\n",
              "[142 rows x 3 columns]"
            ],
            "text/html": [
              "\n",
              "  <div id=\"df-22361514-6ccc-4fc5-af14-d88daf2f19e4\">\n",
              "    <div class=\"colab-df-container\">\n",
              "      <div>\n",
              "<style scoped>\n",
              "    .dataframe tbody tr th:only-of-type {\n",
              "        vertical-align: middle;\n",
              "    }\n",
              "\n",
              "    .dataframe tbody tr th {\n",
              "        vertical-align: top;\n",
              "    }\n",
              "\n",
              "    .dataframe thead th {\n",
              "        text-align: right;\n",
              "    }\n",
              "</style>\n",
              "<table border=\"1\" class=\"dataframe\">\n",
              "  <thead>\n",
              "    <tr style=\"text-align: right;\">\n",
              "      <th></th>\n",
              "      <th>tweet id</th>\n",
              "      <th>target</th>\n",
              "      <th># samples</th>\n",
              "    </tr>\n",
              "  </thead>\n",
              "  <tbody>\n",
              "    <tr>\n",
              "      <th>0</th>\n",
              "      <td>349</td>\n",
              "      <td>target 0</td>\n",
              "      <td>5</td>\n",
              "    </tr>\n",
              "    <tr>\n",
              "      <th>1</th>\n",
              "      <td>353</td>\n",
              "      <td>target 0</td>\n",
              "      <td>1</td>\n",
              "    </tr>\n",
              "    <tr>\n",
              "      <th>2</th>\n",
              "      <td>365</td>\n",
              "      <td>target 0</td>\n",
              "      <td>1</td>\n",
              "    </tr>\n",
              "    <tr>\n",
              "      <th>3</th>\n",
              "      <td>796</td>\n",
              "      <td>target 0</td>\n",
              "      <td>1</td>\n",
              "    </tr>\n",
              "    <tr>\n",
              "      <th>4</th>\n",
              "      <td>834</td>\n",
              "      <td>target 0</td>\n",
              "      <td>1</td>\n",
              "    </tr>\n",
              "    <tr>\n",
              "      <th>...</th>\n",
              "      <td>...</td>\n",
              "      <td>...</td>\n",
              "      <td>...</td>\n",
              "    </tr>\n",
              "    <tr>\n",
              "      <th>137</th>\n",
              "      <td>9499</td>\n",
              "      <td>target 1</td>\n",
              "      <td>1</td>\n",
              "    </tr>\n",
              "    <tr>\n",
              "      <th>138</th>\n",
              "      <td>9763</td>\n",
              "      <td>target 1</td>\n",
              "      <td>2</td>\n",
              "    </tr>\n",
              "    <tr>\n",
              "      <th>139</th>\n",
              "      <td>9779</td>\n",
              "      <td>target 1</td>\n",
              "      <td>1</td>\n",
              "    </tr>\n",
              "    <tr>\n",
              "      <th>140</th>\n",
              "      <td>10110</td>\n",
              "      <td>target 1</td>\n",
              "      <td>1</td>\n",
              "    </tr>\n",
              "    <tr>\n",
              "      <th>141</th>\n",
              "      <td>10576</td>\n",
              "      <td>target 1</td>\n",
              "      <td>1</td>\n",
              "    </tr>\n",
              "  </tbody>\n",
              "</table>\n",
              "<p>142 rows × 3 columns</p>\n",
              "</div>\n",
              "      <button class=\"colab-df-convert\" onclick=\"convertToInteractive('df-22361514-6ccc-4fc5-af14-d88daf2f19e4')\"\n",
              "              title=\"Convert this dataframe to an interactive table.\"\n",
              "              style=\"display:none;\">\n",
              "        \n",
              "  <svg xmlns=\"http://www.w3.org/2000/svg\" height=\"24px\"viewBox=\"0 0 24 24\"\n",
              "       width=\"24px\">\n",
              "    <path d=\"M0 0h24v24H0V0z\" fill=\"none\"/>\n",
              "    <path d=\"M18.56 5.44l.94 2.06.94-2.06 2.06-.94-2.06-.94-.94-2.06-.94 2.06-2.06.94zm-11 1L8.5 8.5l.94-2.06 2.06-.94-2.06-.94L8.5 2.5l-.94 2.06-2.06.94zm10 10l.94 2.06.94-2.06 2.06-.94-2.06-.94-.94-2.06-.94 2.06-2.06.94z\"/><path d=\"M17.41 7.96l-1.37-1.37c-.4-.4-.92-.59-1.43-.59-.52 0-1.04.2-1.43.59L10.3 9.45l-7.72 7.72c-.78.78-.78 2.05 0 2.83L4 21.41c.39.39.9.59 1.41.59.51 0 1.02-.2 1.41-.59l7.78-7.78 2.81-2.81c.8-.78.8-2.07 0-2.86zM5.41 20L4 18.59l7.72-7.72 1.47 1.35L5.41 20z\"/>\n",
              "  </svg>\n",
              "      </button>\n",
              "      \n",
              "  <style>\n",
              "    .colab-df-container {\n",
              "      display:flex;\n",
              "      flex-wrap:wrap;\n",
              "      gap: 12px;\n",
              "    }\n",
              "\n",
              "    .colab-df-convert {\n",
              "      background-color: #E8F0FE;\n",
              "      border: none;\n",
              "      border-radius: 50%;\n",
              "      cursor: pointer;\n",
              "      display: none;\n",
              "      fill: #1967D2;\n",
              "      height: 32px;\n",
              "      padding: 0 0 0 0;\n",
              "      width: 32px;\n",
              "    }\n",
              "\n",
              "    .colab-df-convert:hover {\n",
              "      background-color: #E2EBFA;\n",
              "      box-shadow: 0px 1px 2px rgba(60, 64, 67, 0.3), 0px 1px 3px 1px rgba(60, 64, 67, 0.15);\n",
              "      fill: #174EA6;\n",
              "    }\n",
              "\n",
              "    [theme=dark] .colab-df-convert {\n",
              "      background-color: #3B4455;\n",
              "      fill: #D2E3FC;\n",
              "    }\n",
              "\n",
              "    [theme=dark] .colab-df-convert:hover {\n",
              "      background-color: #434B5C;\n",
              "      box-shadow: 0px 1px 3px 1px rgba(0, 0, 0, 0.15);\n",
              "      filter: drop-shadow(0px 1px 2px rgba(0, 0, 0, 0.3));\n",
              "      fill: #FFFFFF;\n",
              "    }\n",
              "  </style>\n",
              "\n",
              "      <script>\n",
              "        const buttonEl =\n",
              "          document.querySelector('#df-22361514-6ccc-4fc5-af14-d88daf2f19e4 button.colab-df-convert');\n",
              "        buttonEl.style.display =\n",
              "          google.colab.kernel.accessAllowed ? 'block' : 'none';\n",
              "\n",
              "        async function convertToInteractive(key) {\n",
              "          const element = document.querySelector('#df-22361514-6ccc-4fc5-af14-d88daf2f19e4');\n",
              "          const dataTable =\n",
              "            await google.colab.kernel.invokeFunction('convertToInteractive',\n",
              "                                                     [key], {});\n",
              "          if (!dataTable) return;\n",
              "\n",
              "          const docLinkHtml = 'Like what you see? Visit the ' +\n",
              "            '<a target=\"_blank\" href=https://colab.research.google.com/notebooks/data_table.ipynb>data table notebook</a>'\n",
              "            + ' to learn more about interactive tables.';\n",
              "          element.innerHTML = '';\n",
              "          dataTable['output_type'] = 'display_data';\n",
              "          await google.colab.output.renderOutput(dataTable, element);\n",
              "          const docLink = document.createElement('div');\n",
              "          docLink.innerHTML = docLinkHtml;\n",
              "          element.appendChild(docLink);\n",
              "        }\n",
              "      </script>\n",
              "    </div>\n",
              "  </div>\n",
              "  "
            ]
          },
          "metadata": {},
          "execution_count": 13
        }
      ]
    },
    {
      "cell_type": "code",
      "source": [
        "retweets_full = {}\n",
        "for i in full.index:\n",
        "    t = full.iloc[i]['text']\n",
        "    indexes = full[(full['text']==t)].index.values\n",
        "    if len(indexes)>1:\n",
        "        retweets_full[indexes[0]]=indexes # using indexes[0] is a simple trick to avoid duplicates\n",
        "#retweets_full\n",
        "\n",
        "retweets_full = pd.DataFrame({'tweet id in training set': retweets_full.values(), 'tweet id in test set': retweets_full.values()})\n",
        "train_last_index = train.shape[0]\n",
        "retweets_full['tweet id in training set'] = retweets_full['tweet id in training set'].apply(lambda indexes: [i for i in indexes if i<train_last_index+1])\n",
        "retweets_full['tweet id in test set'] = retweets_full['tweet id in test set'].apply(lambda indexes: [i for i in indexes if i>train_last_index])"
      ],
      "metadata": {
        "id": "8PX5twsV6K-d"
      },
      "execution_count": 14,
      "outputs": []
    },
    {
      "cell_type": "code",
      "source": [
        "retweets_full"
      ],
      "metadata": {
        "colab": {
          "base_uri": "https://localhost:8080/",
          "height": 424
        },
        "id": "G5k7kHgJ6UBh",
        "outputId": "491707ec-0750-48db-88bb-cefb627aeaa8"
      },
      "execution_count": 15,
      "outputs": [
        {
          "output_type": "execute_result",
          "data": {
            "text/plain": [
              "                tweet id in training set tweet id in test set\n",
              "0                               [40, 48]               [7631]\n",
              "1    [104, 106, 114, 115, 116, 118, 119]   [7660, 7662, 7666]\n",
              "2                                  [105]               [7668]\n",
              "3                             [113, 131]         [7667, 7672]\n",
              "4                             [139, 159]         [7685, 7687]\n",
              "..                                   ...                  ...\n",
              "466                                   []       [10348, 10355]\n",
              "467                                   []       [10352, 10358]\n",
              "468                                   []       [10469, 10474]\n",
              "469                                   []       [10517, 10523]\n",
              "470                                   []       [10589, 10592]\n",
              "\n",
              "[471 rows x 2 columns]"
            ],
            "text/html": [
              "\n",
              "  <div id=\"df-1205cc85-a6f0-431f-a6f0-40e6684d5a0a\">\n",
              "    <div class=\"colab-df-container\">\n",
              "      <div>\n",
              "<style scoped>\n",
              "    .dataframe tbody tr th:only-of-type {\n",
              "        vertical-align: middle;\n",
              "    }\n",
              "\n",
              "    .dataframe tbody tr th {\n",
              "        vertical-align: top;\n",
              "    }\n",
              "\n",
              "    .dataframe thead th {\n",
              "        text-align: right;\n",
              "    }\n",
              "</style>\n",
              "<table border=\"1\" class=\"dataframe\">\n",
              "  <thead>\n",
              "    <tr style=\"text-align: right;\">\n",
              "      <th></th>\n",
              "      <th>tweet id in training set</th>\n",
              "      <th>tweet id in test set</th>\n",
              "    </tr>\n",
              "  </thead>\n",
              "  <tbody>\n",
              "    <tr>\n",
              "      <th>0</th>\n",
              "      <td>[40, 48]</td>\n",
              "      <td>[7631]</td>\n",
              "    </tr>\n",
              "    <tr>\n",
              "      <th>1</th>\n",
              "      <td>[104, 106, 114, 115, 116, 118, 119]</td>\n",
              "      <td>[7660, 7662, 7666]</td>\n",
              "    </tr>\n",
              "    <tr>\n",
              "      <th>2</th>\n",
              "      <td>[105]</td>\n",
              "      <td>[7668]</td>\n",
              "    </tr>\n",
              "    <tr>\n",
              "      <th>3</th>\n",
              "      <td>[113, 131]</td>\n",
              "      <td>[7667, 7672]</td>\n",
              "    </tr>\n",
              "    <tr>\n",
              "      <th>4</th>\n",
              "      <td>[139, 159]</td>\n",
              "      <td>[7685, 7687]</td>\n",
              "    </tr>\n",
              "    <tr>\n",
              "      <th>...</th>\n",
              "      <td>...</td>\n",
              "      <td>...</td>\n",
              "    </tr>\n",
              "    <tr>\n",
              "      <th>466</th>\n",
              "      <td>[]</td>\n",
              "      <td>[10348, 10355]</td>\n",
              "    </tr>\n",
              "    <tr>\n",
              "      <th>467</th>\n",
              "      <td>[]</td>\n",
              "      <td>[10352, 10358]</td>\n",
              "    </tr>\n",
              "    <tr>\n",
              "      <th>468</th>\n",
              "      <td>[]</td>\n",
              "      <td>[10469, 10474]</td>\n",
              "    </tr>\n",
              "    <tr>\n",
              "      <th>469</th>\n",
              "      <td>[]</td>\n",
              "      <td>[10517, 10523]</td>\n",
              "    </tr>\n",
              "    <tr>\n",
              "      <th>470</th>\n",
              "      <td>[]</td>\n",
              "      <td>[10589, 10592]</td>\n",
              "    </tr>\n",
              "  </tbody>\n",
              "</table>\n",
              "<p>471 rows × 2 columns</p>\n",
              "</div>\n",
              "      <button class=\"colab-df-convert\" onclick=\"convertToInteractive('df-1205cc85-a6f0-431f-a6f0-40e6684d5a0a')\"\n",
              "              title=\"Convert this dataframe to an interactive table.\"\n",
              "              style=\"display:none;\">\n",
              "        \n",
              "  <svg xmlns=\"http://www.w3.org/2000/svg\" height=\"24px\"viewBox=\"0 0 24 24\"\n",
              "       width=\"24px\">\n",
              "    <path d=\"M0 0h24v24H0V0z\" fill=\"none\"/>\n",
              "    <path d=\"M18.56 5.44l.94 2.06.94-2.06 2.06-.94-2.06-.94-.94-2.06-.94 2.06-2.06.94zm-11 1L8.5 8.5l.94-2.06 2.06-.94-2.06-.94L8.5 2.5l-.94 2.06-2.06.94zm10 10l.94 2.06.94-2.06 2.06-.94-2.06-.94-.94-2.06-.94 2.06-2.06.94z\"/><path d=\"M17.41 7.96l-1.37-1.37c-.4-.4-.92-.59-1.43-.59-.52 0-1.04.2-1.43.59L10.3 9.45l-7.72 7.72c-.78.78-.78 2.05 0 2.83L4 21.41c.39.39.9.59 1.41.59.51 0 1.02-.2 1.41-.59l7.78-7.78 2.81-2.81c.8-.78.8-2.07 0-2.86zM5.41 20L4 18.59l7.72-7.72 1.47 1.35L5.41 20z\"/>\n",
              "  </svg>\n",
              "      </button>\n",
              "      \n",
              "  <style>\n",
              "    .colab-df-container {\n",
              "      display:flex;\n",
              "      flex-wrap:wrap;\n",
              "      gap: 12px;\n",
              "    }\n",
              "\n",
              "    .colab-df-convert {\n",
              "      background-color: #E8F0FE;\n",
              "      border: none;\n",
              "      border-radius: 50%;\n",
              "      cursor: pointer;\n",
              "      display: none;\n",
              "      fill: #1967D2;\n",
              "      height: 32px;\n",
              "      padding: 0 0 0 0;\n",
              "      width: 32px;\n",
              "    }\n",
              "\n",
              "    .colab-df-convert:hover {\n",
              "      background-color: #E2EBFA;\n",
              "      box-shadow: 0px 1px 2px rgba(60, 64, 67, 0.3), 0px 1px 3px 1px rgba(60, 64, 67, 0.15);\n",
              "      fill: #174EA6;\n",
              "    }\n",
              "\n",
              "    [theme=dark] .colab-df-convert {\n",
              "      background-color: #3B4455;\n",
              "      fill: #D2E3FC;\n",
              "    }\n",
              "\n",
              "    [theme=dark] .colab-df-convert:hover {\n",
              "      background-color: #434B5C;\n",
              "      box-shadow: 0px 1px 3px 1px rgba(0, 0, 0, 0.15);\n",
              "      filter: drop-shadow(0px 1px 2px rgba(0, 0, 0, 0.3));\n",
              "      fill: #FFFFFF;\n",
              "    }\n",
              "  </style>\n",
              "\n",
              "      <script>\n",
              "        const buttonEl =\n",
              "          document.querySelector('#df-1205cc85-a6f0-431f-a6f0-40e6684d5a0a button.colab-df-convert');\n",
              "        buttonEl.style.display =\n",
              "          google.colab.kernel.accessAllowed ? 'block' : 'none';\n",
              "\n",
              "        async function convertToInteractive(key) {\n",
              "          const element = document.querySelector('#df-1205cc85-a6f0-431f-a6f0-40e6684d5a0a');\n",
              "          const dataTable =\n",
              "            await google.colab.kernel.invokeFunction('convertToInteractive',\n",
              "                                                     [key], {});\n",
              "          if (!dataTable) return;\n",
              "\n",
              "          const docLinkHtml = 'Like what you see? Visit the ' +\n",
              "            '<a target=\"_blank\" href=https://colab.research.google.com/notebooks/data_table.ipynb>data table notebook</a>'\n",
              "            + ' to learn more about interactive tables.';\n",
              "          element.innerHTML = '';\n",
              "          dataTable['output_type'] = 'display_data';\n",
              "          await google.colab.output.renderOutput(dataTable, element);\n",
              "          const docLink = document.createElement('div');\n",
              "          docLink.innerHTML = docLinkHtml;\n",
              "          element.appendChild(docLink);\n",
              "        }\n",
              "      </script>\n",
              "    </div>\n",
              "  </div>\n",
              "  "
            ]
          },
          "metadata": {},
          "execution_count": 15
        }
      ]
    },
    {
      "cell_type": "code",
      "source": [
        "\n",
        "#substitution of indexes by id\n",
        "def replace_by_id(indexes):\n",
        "    ids=[]\n",
        "    for i in range(0,len(indexes)):\n",
        "        index = indexes[i]\n",
        "        ids.append(full.iloc[index]['id'])\n",
        "    return ids\n",
        "\n",
        "retweets_full['tweet id in training set'] = retweets_full['tweet id in training set'].apply(lambda indexes: replace_by_id(indexes))\n",
        "retweets_full['tweet id in test set'] = retweets_full['tweet id in test set'].apply(lambda indexes: replace_by_id(indexes))\n",
        "#retweets_full\n",
        "\n",
        "#keep only the tweet text in train set that are also in test set\n",
        "indexes_to_drop=[]\n",
        "for i in retweets_full.index:\n",
        "    train_ids = retweets_full.iloc[i]['tweet id in training set']\n",
        "    test_ids = retweets_full.iloc[i]['tweet id in test set']\n",
        "    if (len(train_ids)==0 or len(test_ids)==0):\n",
        "        indexes_to_drop.append(i)\n",
        "#indexes_to_drop\n",
        "retweets_full.drop(index=indexes_to_drop,inplace=True)\n",
        "retweets_full.reset_index(inplace=True)\n",
        "retweets_full.drop('index',axis=1,inplace=True)\n",
        "retweets_full"
      ],
      "metadata": {
        "colab": {
          "base_uri": "https://localhost:8080/",
          "height": 424
        },
        "id": "fb55xOvJLHJB",
        "outputId": "428d8be4-1519-4390-f4b1-a37160df4a75"
      },
      "execution_count": 16,
      "outputs": [
        {
          "output_type": "execute_result",
          "data": {
            "text/plain": [
              "                tweet id in training set tweet id in test set\n",
              "0                               [59, 68]                 [58]\n",
              "1    [151, 156, 164, 165, 168, 171, 172]      [152, 155, 177]\n",
              "2                                  [153]                [181]\n",
              "3                             [163, 190]           [179, 192]\n",
              "4                             [199, 229]           [234, 239]\n",
              "..                                   ...                  ...\n",
              "268                [10747, 10765, 10770]              [10757]\n",
              "269                [10754, 10771, 10776]       [10738, 10758]\n",
              "270                              [10774]              [10742]\n",
              "271                              [10851]               [9628]\n",
              "272                              [10859]               [7500]\n",
              "\n",
              "[273 rows x 2 columns]"
            ],
            "text/html": [
              "\n",
              "  <div id=\"df-d36295a0-9398-4c1a-bad5-cef220fbdbb8\">\n",
              "    <div class=\"colab-df-container\">\n",
              "      <div>\n",
              "<style scoped>\n",
              "    .dataframe tbody tr th:only-of-type {\n",
              "        vertical-align: middle;\n",
              "    }\n",
              "\n",
              "    .dataframe tbody tr th {\n",
              "        vertical-align: top;\n",
              "    }\n",
              "\n",
              "    .dataframe thead th {\n",
              "        text-align: right;\n",
              "    }\n",
              "</style>\n",
              "<table border=\"1\" class=\"dataframe\">\n",
              "  <thead>\n",
              "    <tr style=\"text-align: right;\">\n",
              "      <th></th>\n",
              "      <th>tweet id in training set</th>\n",
              "      <th>tweet id in test set</th>\n",
              "    </tr>\n",
              "  </thead>\n",
              "  <tbody>\n",
              "    <tr>\n",
              "      <th>0</th>\n",
              "      <td>[59, 68]</td>\n",
              "      <td>[58]</td>\n",
              "    </tr>\n",
              "    <tr>\n",
              "      <th>1</th>\n",
              "      <td>[151, 156, 164, 165, 168, 171, 172]</td>\n",
              "      <td>[152, 155, 177]</td>\n",
              "    </tr>\n",
              "    <tr>\n",
              "      <th>2</th>\n",
              "      <td>[153]</td>\n",
              "      <td>[181]</td>\n",
              "    </tr>\n",
              "    <tr>\n",
              "      <th>3</th>\n",
              "      <td>[163, 190]</td>\n",
              "      <td>[179, 192]</td>\n",
              "    </tr>\n",
              "    <tr>\n",
              "      <th>4</th>\n",
              "      <td>[199, 229]</td>\n",
              "      <td>[234, 239]</td>\n",
              "    </tr>\n",
              "    <tr>\n",
              "      <th>...</th>\n",
              "      <td>...</td>\n",
              "      <td>...</td>\n",
              "    </tr>\n",
              "    <tr>\n",
              "      <th>268</th>\n",
              "      <td>[10747, 10765, 10770]</td>\n",
              "      <td>[10757]</td>\n",
              "    </tr>\n",
              "    <tr>\n",
              "      <th>269</th>\n",
              "      <td>[10754, 10771, 10776]</td>\n",
              "      <td>[10738, 10758]</td>\n",
              "    </tr>\n",
              "    <tr>\n",
              "      <th>270</th>\n",
              "      <td>[10774]</td>\n",
              "      <td>[10742]</td>\n",
              "    </tr>\n",
              "    <tr>\n",
              "      <th>271</th>\n",
              "      <td>[10851]</td>\n",
              "      <td>[9628]</td>\n",
              "    </tr>\n",
              "    <tr>\n",
              "      <th>272</th>\n",
              "      <td>[10859]</td>\n",
              "      <td>[7500]</td>\n",
              "    </tr>\n",
              "  </tbody>\n",
              "</table>\n",
              "<p>273 rows × 2 columns</p>\n",
              "</div>\n",
              "      <button class=\"colab-df-convert\" onclick=\"convertToInteractive('df-d36295a0-9398-4c1a-bad5-cef220fbdbb8')\"\n",
              "              title=\"Convert this dataframe to an interactive table.\"\n",
              "              style=\"display:none;\">\n",
              "        \n",
              "  <svg xmlns=\"http://www.w3.org/2000/svg\" height=\"24px\"viewBox=\"0 0 24 24\"\n",
              "       width=\"24px\">\n",
              "    <path d=\"M0 0h24v24H0V0z\" fill=\"none\"/>\n",
              "    <path d=\"M18.56 5.44l.94 2.06.94-2.06 2.06-.94-2.06-.94-.94-2.06-.94 2.06-2.06.94zm-11 1L8.5 8.5l.94-2.06 2.06-.94-2.06-.94L8.5 2.5l-.94 2.06-2.06.94zm10 10l.94 2.06.94-2.06 2.06-.94-2.06-.94-.94-2.06-.94 2.06-2.06.94z\"/><path d=\"M17.41 7.96l-1.37-1.37c-.4-.4-.92-.59-1.43-.59-.52 0-1.04.2-1.43.59L10.3 9.45l-7.72 7.72c-.78.78-.78 2.05 0 2.83L4 21.41c.39.39.9.59 1.41.59.51 0 1.02-.2 1.41-.59l7.78-7.78 2.81-2.81c.8-.78.8-2.07 0-2.86zM5.41 20L4 18.59l7.72-7.72 1.47 1.35L5.41 20z\"/>\n",
              "  </svg>\n",
              "      </button>\n",
              "      \n",
              "  <style>\n",
              "    .colab-df-container {\n",
              "      display:flex;\n",
              "      flex-wrap:wrap;\n",
              "      gap: 12px;\n",
              "    }\n",
              "\n",
              "    .colab-df-convert {\n",
              "      background-color: #E8F0FE;\n",
              "      border: none;\n",
              "      border-radius: 50%;\n",
              "      cursor: pointer;\n",
              "      display: none;\n",
              "      fill: #1967D2;\n",
              "      height: 32px;\n",
              "      padding: 0 0 0 0;\n",
              "      width: 32px;\n",
              "    }\n",
              "\n",
              "    .colab-df-convert:hover {\n",
              "      background-color: #E2EBFA;\n",
              "      box-shadow: 0px 1px 2px rgba(60, 64, 67, 0.3), 0px 1px 3px 1px rgba(60, 64, 67, 0.15);\n",
              "      fill: #174EA6;\n",
              "    }\n",
              "\n",
              "    [theme=dark] .colab-df-convert {\n",
              "      background-color: #3B4455;\n",
              "      fill: #D2E3FC;\n",
              "    }\n",
              "\n",
              "    [theme=dark] .colab-df-convert:hover {\n",
              "      background-color: #434B5C;\n",
              "      box-shadow: 0px 1px 3px 1px rgba(0, 0, 0, 0.15);\n",
              "      filter: drop-shadow(0px 1px 2px rgba(0, 0, 0, 0.3));\n",
              "      fill: #FFFFFF;\n",
              "    }\n",
              "  </style>\n",
              "\n",
              "      <script>\n",
              "        const buttonEl =\n",
              "          document.querySelector('#df-d36295a0-9398-4c1a-bad5-cef220fbdbb8 button.colab-df-convert');\n",
              "        buttonEl.style.display =\n",
              "          google.colab.kernel.accessAllowed ? 'block' : 'none';\n",
              "\n",
              "        async function convertToInteractive(key) {\n",
              "          const element = document.querySelector('#df-d36295a0-9398-4c1a-bad5-cef220fbdbb8');\n",
              "          const dataTable =\n",
              "            await google.colab.kernel.invokeFunction('convertToInteractive',\n",
              "                                                     [key], {});\n",
              "          if (!dataTable) return;\n",
              "\n",
              "          const docLinkHtml = 'Like what you see? Visit the ' +\n",
              "            '<a target=\"_blank\" href=https://colab.research.google.com/notebooks/data_table.ipynb>data table notebook</a>'\n",
              "            + ' to learn more about interactive tables.';\n",
              "          element.innerHTML = '';\n",
              "          dataTable['output_type'] = 'display_data';\n",
              "          await google.colab.output.renderOutput(dataTable, element);\n",
              "          const docLink = document.createElement('div');\n",
              "          docLink.innerHTML = docLinkHtml;\n",
              "          element.appendChild(docLink);\n",
              "        }\n",
              "      </script>\n",
              "    </div>\n",
              "  </div>\n",
              "  "
            ]
          },
          "metadata": {},
          "execution_count": 16
        }
      ]
    },
    {
      "cell_type": "code",
      "source": [
        "retweets_full"
      ],
      "metadata": {
        "colab": {
          "base_uri": "https://localhost:8080/",
          "height": 424
        },
        "id": "l8Sfo8Ab5tYU",
        "outputId": "26d4c8c6-6ac7-4afc-f402-c12d0fd246b1"
      },
      "execution_count": 17,
      "outputs": [
        {
          "output_type": "execute_result",
          "data": {
            "text/plain": [
              "                tweet id in training set tweet id in test set\n",
              "0                               [59, 68]                 [58]\n",
              "1    [151, 156, 164, 165, 168, 171, 172]      [152, 155, 177]\n",
              "2                                  [153]                [181]\n",
              "3                             [163, 190]           [179, 192]\n",
              "4                             [199, 229]           [234, 239]\n",
              "..                                   ...                  ...\n",
              "268                [10747, 10765, 10770]              [10757]\n",
              "269                [10754, 10771, 10776]       [10738, 10758]\n",
              "270                              [10774]              [10742]\n",
              "271                              [10851]               [9628]\n",
              "272                              [10859]               [7500]\n",
              "\n",
              "[273 rows x 2 columns]"
            ],
            "text/html": [
              "\n",
              "  <div id=\"df-39bae433-25f7-40e2-b922-a2fb1bbcf59c\">\n",
              "    <div class=\"colab-df-container\">\n",
              "      <div>\n",
              "<style scoped>\n",
              "    .dataframe tbody tr th:only-of-type {\n",
              "        vertical-align: middle;\n",
              "    }\n",
              "\n",
              "    .dataframe tbody tr th {\n",
              "        vertical-align: top;\n",
              "    }\n",
              "\n",
              "    .dataframe thead th {\n",
              "        text-align: right;\n",
              "    }\n",
              "</style>\n",
              "<table border=\"1\" class=\"dataframe\">\n",
              "  <thead>\n",
              "    <tr style=\"text-align: right;\">\n",
              "      <th></th>\n",
              "      <th>tweet id in training set</th>\n",
              "      <th>tweet id in test set</th>\n",
              "    </tr>\n",
              "  </thead>\n",
              "  <tbody>\n",
              "    <tr>\n",
              "      <th>0</th>\n",
              "      <td>[59, 68]</td>\n",
              "      <td>[58]</td>\n",
              "    </tr>\n",
              "    <tr>\n",
              "      <th>1</th>\n",
              "      <td>[151, 156, 164, 165, 168, 171, 172]</td>\n",
              "      <td>[152, 155, 177]</td>\n",
              "    </tr>\n",
              "    <tr>\n",
              "      <th>2</th>\n",
              "      <td>[153]</td>\n",
              "      <td>[181]</td>\n",
              "    </tr>\n",
              "    <tr>\n",
              "      <th>3</th>\n",
              "      <td>[163, 190]</td>\n",
              "      <td>[179, 192]</td>\n",
              "    </tr>\n",
              "    <tr>\n",
              "      <th>4</th>\n",
              "      <td>[199, 229]</td>\n",
              "      <td>[234, 239]</td>\n",
              "    </tr>\n",
              "    <tr>\n",
              "      <th>...</th>\n",
              "      <td>...</td>\n",
              "      <td>...</td>\n",
              "    </tr>\n",
              "    <tr>\n",
              "      <th>268</th>\n",
              "      <td>[10747, 10765, 10770]</td>\n",
              "      <td>[10757]</td>\n",
              "    </tr>\n",
              "    <tr>\n",
              "      <th>269</th>\n",
              "      <td>[10754, 10771, 10776]</td>\n",
              "      <td>[10738, 10758]</td>\n",
              "    </tr>\n",
              "    <tr>\n",
              "      <th>270</th>\n",
              "      <td>[10774]</td>\n",
              "      <td>[10742]</td>\n",
              "    </tr>\n",
              "    <tr>\n",
              "      <th>271</th>\n",
              "      <td>[10851]</td>\n",
              "      <td>[9628]</td>\n",
              "    </tr>\n",
              "    <tr>\n",
              "      <th>272</th>\n",
              "      <td>[10859]</td>\n",
              "      <td>[7500]</td>\n",
              "    </tr>\n",
              "  </tbody>\n",
              "</table>\n",
              "<p>273 rows × 2 columns</p>\n",
              "</div>\n",
              "      <button class=\"colab-df-convert\" onclick=\"convertToInteractive('df-39bae433-25f7-40e2-b922-a2fb1bbcf59c')\"\n",
              "              title=\"Convert this dataframe to an interactive table.\"\n",
              "              style=\"display:none;\">\n",
              "        \n",
              "  <svg xmlns=\"http://www.w3.org/2000/svg\" height=\"24px\"viewBox=\"0 0 24 24\"\n",
              "       width=\"24px\">\n",
              "    <path d=\"M0 0h24v24H0V0z\" fill=\"none\"/>\n",
              "    <path d=\"M18.56 5.44l.94 2.06.94-2.06 2.06-.94-2.06-.94-.94-2.06-.94 2.06-2.06.94zm-11 1L8.5 8.5l.94-2.06 2.06-.94-2.06-.94L8.5 2.5l-.94 2.06-2.06.94zm10 10l.94 2.06.94-2.06 2.06-.94-2.06-.94-.94-2.06-.94 2.06-2.06.94z\"/><path d=\"M17.41 7.96l-1.37-1.37c-.4-.4-.92-.59-1.43-.59-.52 0-1.04.2-1.43.59L10.3 9.45l-7.72 7.72c-.78.78-.78 2.05 0 2.83L4 21.41c.39.39.9.59 1.41.59.51 0 1.02-.2 1.41-.59l7.78-7.78 2.81-2.81c.8-.78.8-2.07 0-2.86zM5.41 20L4 18.59l7.72-7.72 1.47 1.35L5.41 20z\"/>\n",
              "  </svg>\n",
              "      </button>\n",
              "      \n",
              "  <style>\n",
              "    .colab-df-container {\n",
              "      display:flex;\n",
              "      flex-wrap:wrap;\n",
              "      gap: 12px;\n",
              "    }\n",
              "\n",
              "    .colab-df-convert {\n",
              "      background-color: #E8F0FE;\n",
              "      border: none;\n",
              "      border-radius: 50%;\n",
              "      cursor: pointer;\n",
              "      display: none;\n",
              "      fill: #1967D2;\n",
              "      height: 32px;\n",
              "      padding: 0 0 0 0;\n",
              "      width: 32px;\n",
              "    }\n",
              "\n",
              "    .colab-df-convert:hover {\n",
              "      background-color: #E2EBFA;\n",
              "      box-shadow: 0px 1px 2px rgba(60, 64, 67, 0.3), 0px 1px 3px 1px rgba(60, 64, 67, 0.15);\n",
              "      fill: #174EA6;\n",
              "    }\n",
              "\n",
              "    [theme=dark] .colab-df-convert {\n",
              "      background-color: #3B4455;\n",
              "      fill: #D2E3FC;\n",
              "    }\n",
              "\n",
              "    [theme=dark] .colab-df-convert:hover {\n",
              "      background-color: #434B5C;\n",
              "      box-shadow: 0px 1px 3px 1px rgba(0, 0, 0, 0.15);\n",
              "      filter: drop-shadow(0px 1px 2px rgba(0, 0, 0, 0.3));\n",
              "      fill: #FFFFFF;\n",
              "    }\n",
              "  </style>\n",
              "\n",
              "      <script>\n",
              "        const buttonEl =\n",
              "          document.querySelector('#df-39bae433-25f7-40e2-b922-a2fb1bbcf59c button.colab-df-convert');\n",
              "        buttonEl.style.display =\n",
              "          google.colab.kernel.accessAllowed ? 'block' : 'none';\n",
              "\n",
              "        async function convertToInteractive(key) {\n",
              "          const element = document.querySelector('#df-39bae433-25f7-40e2-b922-a2fb1bbcf59c');\n",
              "          const dataTable =\n",
              "            await google.colab.kernel.invokeFunction('convertToInteractive',\n",
              "                                                     [key], {});\n",
              "          if (!dataTable) return;\n",
              "\n",
              "          const docLinkHtml = 'Like what you see? Visit the ' +\n",
              "            '<a target=\"_blank\" href=https://colab.research.google.com/notebooks/data_table.ipynb>data table notebook</a>'\n",
              "            + ' to learn more about interactive tables.';\n",
              "          element.innerHTML = '';\n",
              "          dataTable['output_type'] = 'display_data';\n",
              "          await google.colab.output.renderOutput(dataTable, element);\n",
              "          const docLink = document.createElement('div');\n",
              "          docLink.innerHTML = docLinkHtml;\n",
              "          element.appendChild(docLink);\n",
              "        }\n",
              "      </script>\n",
              "    </div>\n",
              "  </div>\n",
              "  "
            ]
          },
          "metadata": {},
          "execution_count": 17
        }
      ]
    },
    {
      "cell_type": "markdown",
      "source": [
        "## 2.3 Emoticons"
      ],
      "metadata": {
        "id": "jzs4ca2OLbBn"
      }
    },
    {
      "cell_type": "markdown",
      "source": [
        "Let's display the count of tweets per emoticon and per target:"
      ],
      "metadata": {
        "id": "k_wXRBaMLdxj"
      }
    },
    {
      "cell_type": "code",
      "source": [
        "fig, ax = plt.subplots(figsize=(20, 5))\n",
        "sns.countplot(data=train[train['emoticon']!=''], x='emoticon', hue='target')\n",
        "plt.show()"
      ],
      "metadata": {
        "colab": {
          "base_uri": "https://localhost:8080/",
          "height": 0
        },
        "id": "Wptf0Yu5LY3D",
        "outputId": "0c240737-84bd-4020-c14a-aeeb4779df8b"
      },
      "execution_count": 18,
      "outputs": [
        {
          "output_type": "display_data",
          "data": {
            "text/plain": [
              "<Figure size 1440x360 with 1 Axes>"
            ],
            "image/png": "[encoded data removed]"
          },
          "metadata": {
            "needs_background": "light"
          }
        }
      ]
    },
    {
      "cell_type": "markdown",
      "source": [
        "# 3. Prepare dataset for model training and evaluation"
      ],
      "metadata": {
        "id": "bTe7C6mqLmBh"
      }
    },
    {
      "cell_type": "code",
      "source": [
        "train = pd.read_csv('drive/MyDrive/nlp-getting-started/train.csv')\n",
        "train = clean_data(train)"
      ],
      "metadata": {
        "id": "5v2hR_Y9LYo-"
      },
      "execution_count": 19,
      "outputs": []
    },
    {
      "cell_type": "markdown",
      "source": [
        "## 3.1 Remove duplicates from the training set"
      ],
      "metadata": {
        "id": "BwEciWXfL017"
      }
    },
    {
      "cell_type": "code",
      "source": [
        "def remove_duplicates(df, retweets):\n",
        "    old_nb_samples = df.shape[0]\n",
        "    # retweets is a dictionary holding the duplicates\n",
        "    indexes_to_drop=[]\n",
        "    for k in retweets.keys():\n",
        "        for i in range(0,len(retweets[k])):\n",
        "            if i>0:\n",
        "                indexes_to_drop.append(retweets[k][i])\n",
        "    #indexes_to_drop\n",
        "    df.drop(index=indexes_to_drop,inplace=True)\n",
        "    new_nb_samples = df.shape[0]\n",
        "    return df, old_nb_samples, new_nb_samples"
      ],
      "metadata": {
        "id": "0eMCndo0LYSc"
      },
      "execution_count": 20,
      "outputs": []
    },
    {
      "cell_type": "markdown",
      "source": [
        "There are 305 tweet texts that are repeated twice or more in the training set. So let's remove the duplicates (and keep one sample).\n"
      ],
      "metadata": {
        "id": "7s8Uw4JfL7OZ"
      }
    },
    {
      "cell_type": "code",
      "source": [
        "train, old_nb_training_samples, new_nb_training_samples = remove_duplicates(train, retweets)\n",
        "print('Nb of duplicates removed : ' + str(old_nb_training_samples-new_nb_training_samples))"
      ],
      "metadata": {
        "colab": {
          "base_uri": "https://localhost:8080/"
        },
        "id": "UMVNAnL9L4gR",
        "outputId": "05cd2f89-b74b-4570-f116-5a18d374f7a7"
      },
      "execution_count": 21,
      "outputs": [
        {
          "output_type": "stream",
          "name": "stdout",
          "text": [
            "Nb of duplicates removed : 677\n"
          ]
        }
      ]
    },
    {
      "cell_type": "markdown",
      "source": [
        "## 3.2 Remove samples with inconsistent labels from the training set"
      ],
      "metadata": {
        "id": "w2nzJacdMCX6"
      }
    },
    {
      "cell_type": "code",
      "source": [
        "def remove_inconsistent_labels(df, inconsistent_labels):\n",
        "    # inconsistent_labels holds the ids of the tweets that appear twice or more with inconsistent labels.\n",
        "    old_nb_samples = df.shape[0]\n",
        "    indexes_to_drop = df[df['id'].isin(inconsistent_labels['tweet id'])].index\n",
        "    df.drop(index=indexes_to_drop,inplace=True)\n",
        "    new_nb_samples = df.shape[0]\n",
        "    return df, old_nb_samples, new_nb_samples"
      ],
      "metadata": {
        "id": "AesTkIOdL_FL"
      },
      "execution_count": 22,
      "outputs": []
    },
    {
      "cell_type": "code",
      "source": [
        "train, old_nb_training_samples, new_nb_training_samples = remove_inconsistent_labels(train, inconsistent_labels)\n",
        "print('Nb of samples removed : ' + str(old_nb_training_samples-new_nb_training_samples))"
      ],
      "metadata": {
        "colab": {
          "base_uri": "https://localhost:8080/"
        },
        "id": "qzrSQW8lMFKd",
        "outputId": "7cfdcede-2820-445d-a62b-59ec07554a70"
      },
      "execution_count": 23,
      "outputs": [
        {
          "output_type": "stream",
          "name": "stdout",
          "text": [
            "Nb of samples removed : 71\n"
          ]
        }
      ]
    },
    {
      "cell_type": "markdown",
      "source": [
        "## 3.3 Create a validation split"
      ],
      "metadata": {
        "id": "FYTPy3csMHyu"
      }
    },
    {
      "cell_type": "markdown",
      "source": [
        "Let's load the train and test data and split the train data into a training and a validation datasets with 20% of samples going to the validation dataset and 80% going to the training dataset:"
      ],
      "metadata": {
        "id": "TIM4eBV8MP91"
      }
    },
    {
      "cell_type": "code",
      "source": [
        "# Set constants\n",
        "seed = 1356\n",
        "TUNING_RNN = False\n",
        "TUNING_BRNN = True"
      ],
      "metadata": {
        "id": "fdrKWZGhMppo"
      },
      "execution_count": 24,
      "outputs": []
    },
    {
      "cell_type": "code",
      "source": [
        "X_train, X_val, y_train, y_val = train_test_split(train['text'], train['target'], test_size=0.2, shuffle=True, random_state=seed)"
      ],
      "metadata": {
        "id": "pcvZysTIMNiw"
      },
      "execution_count": 25,
      "outputs": []
    },
    {
      "cell_type": "markdown",
      "source": [
        "We use the utility `tf.data.Dataset.from_tensor_slices` to generate a labeled `tf.data.Dataset` object from dataframes. Now, let's preview a few samples:"
      ],
      "metadata": {
        "id": "XqJ9hQqcMvok"
      }
    },
    {
      "cell_type": "code",
      "source": [
        " batch_size = 32\n",
        "\n",
        "train_ds = tf.data.Dataset.from_tensor_slices((X_train, y_train)).batch(batch_size).prefetch(tf.data.AUTOTUNE)\n",
        "val_ds = tf.data.Dataset.from_tensor_slices((X_val, y_val)).batch(batch_size).prefetch(tf.data.AUTOTUNE)\n",
        "for text_batch, label_batch in train_ds.take(1):\n",
        "    for i in range(5):\n",
        "        print(text_batch[i].numpy())\n",
        "        print(label_batch[i].numpy())"
      ],
      "metadata": {
        "colab": {
          "base_uri": "https://localhost:8080/"
        },
        "id": "tNphOCbuMNfB",
        "outputId": "1e560e5f-bf96-4086-bb29-712762495435"
      },
      "execution_count": 26,
      "outputs": [
        {
          "output_type": "stream",
          "name": "stdout",
          "text": [
            "b\"I'm so traumatised.\"\n",
            "0\n",
            "b\"At FEMA's Center for Disaster Preparedness for a weeklong training on Chemical Biological Radioactive Nuclear  Emergency Response\"\n",
            "1\n",
            "b'just got engulfed in a car-induced tidal wave on my run... I thought this only happened in the movies ????'\n",
            "0\n",
            "b\" Everything must be OK because she's listening to 'Sandstorm' now...\"\n",
            "0\n",
            "b'Save your riches in heaven where they will never decrease because no thief can gets them and no moth can destroy them. ??'\n",
            "0\n"
          ]
        }
      ]
    },
    {
      "cell_type": "code",
      "source": [
        "train_ds"
      ],
      "metadata": {
        "colab": {
          "base_uri": "https://localhost:8080/"
        },
        "id": "kAe_H22wIzVd",
        "outputId": "1884f0fc-7103-465c-c2a3-95249352d1b9"
      },
      "execution_count": 27,
      "outputs": [
        {
          "output_type": "execute_result",
          "data": {
            "text/plain": [
              "<PrefetchDataset element_spec=(TensorSpec(shape=(None,), dtype=tf.string, name=None), TensorSpec(shape=(None,), dtype=tf.int64, name=None))>"
            ]
          },
          "metadata": {},
          "execution_count": 27
        }
      ]
    },
    {
      "cell_type": "markdown",
      "source": [
        "# 4. Create a vocabulary index"
      ],
      "metadata": {
        "id": "iJzdDWPdM3d_"
      }
    },
    {
      "cell_type": "markdown",
      "source": [
        "We can instantiate the text vectorization layer. This layer will be used to split tweets into words (tokens) and then map words to integers (output_mode='int'). Note that we are using the default standardization `lower_and_strip_punctuation` and split `whitespace` functions:"
      ],
      "metadata": {
        "id": "0Zx3jfVuM58U"
      }
    },
    {
      "cell_type": "code",
      "source": [
        "vectorize_layer = TextVectorization(output_mode=\"int\")"
      ],
      "metadata": {
        "id": "QFNomShFMNcz"
      },
      "execution_count": 28,
      "outputs": []
    },
    {
      "cell_type": "markdown",
      "source": [
        "We call `adapt()` on a text-only dataset to create the vocabulary. Here what matters is to create the vocabulary using only the training dataset (not the validation one):"
      ],
      "metadata": {
        "id": "ohGLTU7ZM_LU"
      }
    },
    {
      "cell_type": "code",
      "source": [
        "text_ds = train_ds.map(lambda x, y: x)\n",
        "vectorize_layer.adapt(text_ds)"
      ],
      "metadata": {
        "id": "pZiL5KFuMNZG"
      },
      "execution_count": 29,
      "outputs": []
    },
    {
      "cell_type": "markdown",
      "source": [
        "Let's display the vocabulary size and the first 20 words of this vocabulary:"
      ],
      "metadata": {
        "id": "dJS-cAkqNFHY"
      }
    },
    {
      "cell_type": "code",
      "source": [
        "vocab_size = vectorize_layer.vocabulary_size() # vocab_size includes padding and OOV elements \n",
        "print('vocabulary size = ' + str(vocab_size))\n",
        "print('20 words from the dictionary:')\n",
        "print(vectorize_layer.get_vocabulary()[0:20])"
      ],
      "metadata": {
        "colab": {
          "base_uri": "https://localhost:8080/"
        },
        "id": "RYTZJhOgMNV8",
        "outputId": "9894d76c-c8a9-4f3b-8d68-a15befaaef0e"
      },
      "execution_count": 30,
      "outputs": [
        {
          "output_type": "stream",
          "name": "stdout",
          "text": [
            "vocabulary size = 13576\n",
            "20 words from the dictionary:\n",
            "['', '[UNK]', 'the', 'a', 'to', 'in', 'and', 'of', 'i', 'is', 'for', 'on', 'you', 'my', 'that', 'it', 'with', 'at', 'this', 'by']\n"
          ]
        }
      ]
    },
    {
      "cell_type": "markdown",
      "source": [
        "Let's vectorize a test sentence:"
      ],
      "metadata": {
        "id": "_KLbClkTNKVJ"
      }
    },
    {
      "cell_type": "code",
      "source": [
        "output = vectorize_layer([[\"My brother-n-law riooooos got the call to head up north and fight the wild fires. Dudes a beast at_ \"]])\n",
        "output.numpy()[0, :]"
      ],
      "metadata": {
        "colab": {
          "base_uri": "https://localhost:8080/"
        },
        "id": "uBnqlptVMNSy",
        "outputId": "2ea76793-e48e-41af-a579-74803f3d0d04"
      },
      "execution_count": 31,
      "outputs": [
        {
          "output_type": "execute_result",
          "data": {
            "text/plain": [
              "array([   13, 12262,  7298,    86,     2,   333,     4,   307,    33,\n",
              "         563,     6,   636,     2,   318,   107,  4729,     3, 12561,\n",
              "          17])"
            ]
          },
          "metadata": {},
          "execution_count": 31
        }
      ]
    },
    {
      "cell_type": "code",
      "source": [
        "embedding_dim = 50\n",
        "glove_file = 'drive/MyDrive/glove_twitter_27B_50d/glove.twitter.27B.' + str(embedding_dim) + 'd.txt'\n",
        "\n",
        "embedding={}\n",
        "with open(glove_file,'r') as f:\n",
        "    for line in f:\n",
        "        values = line.split()\n",
        "        word = values[0]\n",
        "        vectors = np.asarray(values[1:],'float32')\n",
        "        embedding[word] = vectors\n",
        "f.close()\n",
        "\n",
        "print('50d vector for \\'ablaze\\' : ' + str(embedding['ablaze']))"
      ],
      "metadata": {
        "colab": {
          "base_uri": "https://localhost:8080/"
        },
        "id": "Pe_90TCeMNPs",
        "outputId": "55a0c569-c373-4930-b74c-743c74874a2e"
      },
      "execution_count": 32,
      "outputs": [
        {
          "output_type": "stream",
          "name": "stdout",
          "text": [
            "50d vector for 'ablaze' : [-1.3532   -0.077918  0.77155  -0.11099   0.62654   0.66574  -0.019857\n",
            " -0.30842  -0.15427  -0.88385  -0.3152    0.094996 -0.78936  -0.11191\n",
            "  0.32219   0.013111  0.175     0.065855  0.53691  -0.9332    0.20486\n",
            " -0.64629  -0.52677  -0.24608   0.35051   1.07     -1.39      0.1717\n",
            " -0.43119   0.64184   0.39304   0.26976   0.70159  -0.24759   0.16952\n",
            " -0.75059   0.034953  0.61715  -0.49558  -0.44063   2.1116    0.67855\n",
            " -0.16697   0.60577   0.4629    0.03476  -0.11673  -0.20083   0.85643\n",
            "  0.34675 ]\n"
          ]
        }
      ]
    },
    {
      "cell_type": "markdown",
      "source": [
        "Next, we need to create a matrix of one embedding for each word of our vocabulary. We can do that by enumerating all unique words in `vectorize_layer.get_vocabulary()` and locating the embedding weight vector from the loaded GloVe embedding. The result is a matrix of weights only for words found in our tweets. Once this matrix is loaded, we'll display the 50-d vector for the index corresponding to the word 'ablaze':"
      ],
      "metadata": {
        "id": "l3uJAOq7QG3i"
      }
    },
    {
      "cell_type": "code",
      "source": [
        "embedding_matrix = np.zeros((vocab_size, embedding_dim)) # size of embedding matrix = vocab_size. No need to add + 1 as the uknown/out-of-vocabulary word is in voca_size\n",
        "\n",
        "num_words_in_embedding = 0\n",
        "out_of_glove = []\n",
        "i = 0\n",
        "for word in vectorize_layer.get_vocabulary():\n",
        "    embedding_vector = embedding.get(word)\n",
        "    if embedding_vector is not None:\n",
        "        num_words_in_embedding += 1\n",
        "        embedding_matrix[i] = embedding_vector\n",
        "    else:\n",
        "        out_of_glove.append(word)\n",
        "    i+=1\n",
        "\n",
        "# display the 50d vector corresponding to the word 'ablaze'\n",
        "i = 0\n",
        "for word in vectorize_layer.get_vocabulary():\n",
        "    if(word=='ablaze'):\n",
        "        ind = i\n",
        "        break\n",
        "    else:\n",
        "        i+=1\n",
        "print('Index corresponding to the word \\'ablaze\\' in our vocabulary : ' + str(ind))\n",
        "print('50d vector for index ' + str(ind) + ' : ' + str(embedding_matrix[ind]))\n",
        "\n",
        "#for anaysis purpose:\n",
        "with open(\"out_of_glove.txt\", \"w\") as txt_file:\n",
        "    for line in out_of_glove:\n",
        "        txt_file.write(\" \".join(line) + \"\\n\")"
      ],
      "metadata": {
        "colab": {
          "base_uri": "https://localhost:8080/"
        },
        "id": "xXAZnvhJQD_x",
        "outputId": "d7b3602d-d6e8-4f12-d5d4-b37a02c94313"
      },
      "execution_count": 33,
      "outputs": [
        {
          "output_type": "stream",
          "name": "stdout",
          "text": [
            "Index corresponding to the word 'ablaze' in our vocabulary : 546\n",
            "50d vector for index 546 : [-1.35319996 -0.077918    0.77155    -0.11099     0.62654001  0.66574001\n",
            " -0.019857   -0.30842    -0.15426999 -0.88384998 -0.3152      0.094996\n",
            " -0.78935999 -0.11191     0.32218999  0.013111    0.175       0.065855\n",
            "  0.53691    -0.9332      0.20486    -0.64629    -0.52677    -0.24608\n",
            "  0.35051     1.07000005 -1.38999999  0.1717     -0.43119001  0.64183998\n",
            "  0.39304     0.26976001  0.70159    -0.24759001  0.16952001 -0.75059003\n",
            "  0.034953    0.61715001 -0.49557999 -0.44062999  2.11159992  0.67855\n",
            " -0.16697     0.60576999  0.46290001  0.03476    -0.11673    -0.20083\n",
            "  0.85642999  0.34674999]\n"
          ]
        }
      ]
    },
    {
      "cell_type": "markdown",
      "source": [
        "# 5. Build a baseline model"
      ],
      "metadata": {
        "id": "C998Q2wDQSeh"
      }
    },
    {
      "cell_type": "markdown",
      "source": [
        "I can build a baseline model with Embedding layer plus LSTM cells:"
      ],
      "metadata": {
        "id": "X2uIvwflQU1Q"
      }
    },
    {
      "cell_type": "code",
      "source": [
        "text_input = tf.keras.Input(shape=(1), dtype=tf.string, name='text')\n",
        "x = vectorize_layer(text_input)\n",
        "x = layers.Embedding(input_dim = vectorize_layer.vocabulary_size(), output_dim = embedding_dim, weights = [embedding_matrix], trainable=False)(x)\n",
        "# Add a LSTM layer\n",
        "x = layers.LSTM(64)(x)\n",
        "# Add a classifier\n",
        "output = layers.Dense(1, activation='sigmoid')(x)\n",
        "model = tf.keras.Model(text_input, output, name='Simple_RNN_with_LSTM_cells')\n",
        "model.summary()"
      ],
      "metadata": {
        "colab": {
          "base_uri": "https://localhost:8080/"
        },
        "id": "0YXjD5NOQP8l",
        "outputId": "b9dd5608-436b-4a6e-c496-38a86e4ad64f"
      },
      "execution_count": 34,
      "outputs": [
        {
          "output_type": "stream",
          "name": "stdout",
          "text": [
            "Model: \"Simple_RNN_with_LSTM_cells\"\n",
            "_________________________________________________________________\n",
            " Layer (type)                Output Shape              Param #   \n",
            "=================================================================\n",
            " text (InputLayer)           [(None, 1)]               0         \n",
            "                                                                 \n",
            " text_vectorization (TextVec  (None, None)             0         \n",
            " torization)                                                     \n",
            "                                                                 \n",
            " embedding (Embedding)       (None, None, 50)          678800    \n",
            "                                                                 \n",
            " lstm (LSTM)                 (None, 64)                29440     \n",
            "                                                                 \n",
            " dense (Dense)               (None, 1)                 65        \n",
            "                                                                 \n",
            "=================================================================\n",
            "Total params: 708,305\n",
            "Trainable params: 29,505\n",
            "Non-trainable params: 678,800\n",
            "_________________________________________________________________\n"
          ]
        }
      ]
    },
    {
      "cell_type": "markdown",
      "source": [
        "# 6. Train and evaluate the model"
      ],
      "metadata": {
        "id": "ecbP5t36RqVR"
      }
    },
    {
      "cell_type": "code",
      "source": [
        "model.compile('adam', loss='binary_crossentropy',metrics = 'accuracy')\n",
        "history = model.fit(x=train_ds, validation_data=val_ds, epochs=5, batch_size=batch_size)"
      ],
      "metadata": {
        "colab": {
          "base_uri": "https://localhost:8080/"
        },
        "id": "m6pcW6jCRpSF",
        "outputId": "b9443e57-1661-481a-a7de-b6250d21e3ee"
      },
      "execution_count": 35,
      "outputs": [
        {
          "output_type": "stream",
          "name": "stdout",
          "text": [
            "Epoch 1/5\n",
            "172/172 [==============================] - 6s 22ms/step - loss: 0.5114 - accuracy: 0.7500 - val_loss: 0.4221 - val_accuracy: 0.8084\n",
            "Epoch 2/5\n",
            "172/172 [==============================] - 3s 19ms/step - loss: 0.4481 - accuracy: 0.7995 - val_loss: 0.4130 - val_accuracy: 0.8099\n",
            "Epoch 3/5\n",
            "172/172 [==============================] - 3s 17ms/step - loss: 0.4333 - accuracy: 0.8074 - val_loss: 0.4102 - val_accuracy: 0.8179\n",
            "Epoch 4/5\n",
            "172/172 [==============================] - 3s 17ms/step - loss: 0.4208 - accuracy: 0.8141 - val_loss: 0.4087 - val_accuracy: 0.8186\n",
            "Epoch 5/5\n",
            "172/172 [==============================] - 3s 19ms/step - loss: 0.4093 - accuracy: 0.8199 - val_loss: 0.4098 - val_accuracy: 0.8179\n"
          ]
        }
      ]
    },
    {
      "cell_type": "code",
      "source": [
        "# summarize history for loss\n",
        "plt.plot(history.history['loss'])\n",
        "plt.plot(history.history['val_loss'])\n",
        "plt.title('model loss')\n",
        "plt.ylabel('loss')\n",
        "plt.xlabel('epoch')\n",
        "plt.legend(['train', 'test'], loc='upper left')\n",
        "plt.show()"
      ],
      "metadata": {
        "colab": {
          "base_uri": "https://localhost:8080/",
          "height": 295
        },
        "id": "Zr0Tu02iRH9c",
        "outputId": "c10f3939-059a-41a8-e1a1-330b4a7445c5"
      },
      "execution_count": 36,
      "outputs": [
        {
          "output_type": "display_data",
          "data": {
            "text/plain": [
              "<Figure size 432x288 with 1 Axes>"
            ],
            "image/png": "[encoded data removed]"
          },
          "metadata": {
            "needs_background": "light"
          }
        }
      ]
    },
    {
      "cell_type": "markdown",
      "source": [
        "Let's make predictions on the validation dataset to display the confusion matrix and calculate the F1 score:"
      ],
      "metadata": {
        "id": "5qCiRVBQR8ft"
      }
    },
    {
      "cell_type": "code",
      "source": [
        "val_scores = model.predict(x=X_val)\n",
        "predictions = np.rint(val_scores)\n",
        "\n",
        "print('F1 score = ' + str(f1_score(y_val, predictions)))\n",
        "\n",
        "plt.figure(figsize = (6,3))\n",
        "sns.heatmap(confusion_matrix(y_val, predictions), annot=True, fmt='d', cmap='YlOrBr')\n",
        "plt.show()"
      ],
      "metadata": {
        "id": "WZNoBgDVR4H0",
        "colab": {
          "base_uri": "https://localhost:8080/",
          "height": 246
        },
        "outputId": "0e4138e5-1225-469c-f8d2-81d3c62d2438"
      },
      "execution_count": 37,
      "outputs": [
        {
          "output_type": "stream",
          "name": "stdout",
          "text": [
            "43/43 [==============================] - 1s 6ms/step\n",
            "F1 score = 0.7519841269841271\n"
          ]
        },
        {
          "output_type": "display_data",
          "data": {
            "text/plain": [
              "<Figure size 432x216 with 2 Axes>"
            ],
            "image/png": "[encoded data removed]"
          },
          "metadata": {
            "needs_background": "light"
          }
        }
      ]
    },
    {
      "cell_type": "code",
      "source": [],
      "metadata": {
        "id": "wA0Mt_FSCtYS"
      },
      "execution_count": 37,
      "outputs": []
    }
  ]
}